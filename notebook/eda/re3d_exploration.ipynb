{
 "cells": [
  {
   "cell_type": "markdown",
   "metadata": {},
   "source": [
    "# re3d\n",
    "This is an relation extraction dataset developed by Defence Science and Technology Laboratory, Ministry of Defence (United Kingdom) for the purposes of Cybersecurity. Although small in size, it seems to deliver relevant types of relations.\n",
    "\n",
    "Documentation can be found here: https://github.com/dstl/re3d"
   ]
  },
  {
   "cell_type": "code",
   "execution_count": 235,
   "metadata": {},
   "outputs": [],
   "source": [
    "import os\n",
    "import json\n",
    "import pandas as pd\n",
    "import re\n",
    "import textblob\n",
    "import spacy"
   ]
  },
  {
   "cell_type": "code",
   "execution_count": 184,
   "metadata": {},
   "outputs": [
    {
     "data": {
      "text/plain": [
       "['Wikipedia',\n",
       " 'BBC Online',\n",
       " 'Australian Department of Foreign Affairs',\n",
       " 'UK Government',\n",
       " 'US State Department',\n",
       " 'CENTCOM',\n",
       " 'Delegation of the European Union to Syria']"
      ]
     },
     "execution_count": 184,
     "metadata": {},
     "output_type": "execute_result"
    }
   ],
   "source": [
    "data_path = '../../data/re3d/'\n",
    "dirs = os.listdir(data_path)\n",
    "dirs.remove('annotation_process.png')\n",
    "dirs.remove('README.md')\n",
    "if '.git' in dirs:\n",
    "    dirs.remove('.git')\n",
    "\n",
    "# Sources\n",
    "dirs"
   ]
  },
  {
   "cell_type": "code",
   "execution_count": 40,
   "metadata": {},
   "outputs": [],
   "source": [
    "# Exploring only the BBC Online Dataset but all have the same format\n",
    "with open(data_path + dirs[1] + '/documents.json') as f:\n",
    "    docs = json.load(f)\n",
    "    \n",
    "with open(data_path + dirs[1] + '/entities.json') as f:\n",
    "    ents = json.load(f)\n",
    "\n",
    "with open(data_path + dirs[1] + '/relations.json') as f:\n",
    "    rels = json.load(f)"
   ]
  },
  {
   "cell_type": "code",
   "execution_count": 41,
   "metadata": {},
   "outputs": [
    {
     "data": {
      "text/plain": [
       "{'_id': '3095FB15AFF7B552702E9EF46C083FDD',\n",
       " 'sourceName': 'BBC Online',\n",
       " 'sourceUrl': 'http://www.bbc.co.uk/news/world-middle-east-38605860',\n",
       " 'wordCount': 214,\n",
       " 'sentenceCount': 11,\n",
       " 'title': 'Syria accuses Israel of bombardment',\n",
       " 'text': 'Syria has accused Israel of bombarding an area west of Damascus, with reports of a military airport being hit.\\nState television quoted the army as saying several rockets landed in the airport compound in Mezzeh, Reuters news agency reports.\\nIt remains unclear if the alleged bombardment, which caused fires, has caused any casualties.\\nThe Israeli government has previously neither confirmed nor denied that it carries out strikes in Syria.\\nIt is thought to have bombed weapons shipments intended for Lebanon\\'s Hezbollah movement several times since Syria\\'s civil war began in 2011.\\nHezbollah, which fought a month-long war with Israel in 2006, has sent thousands of fighters to Syria to support President Bashar al-Assad\\'s forces.\\nState-run Syrian news agency Sana reported explosions at the Mezzeh military airport and said ambulances were rushing to the scene.\\n\"The army was quoted as warning Israel \"\"of the repercussions of the flagrant attack\"\", according to Reuters.\"\\nIn December, Syrian state media said an Israeli missile strike had targeted the airport in Mezzeh, causing fires but no casualties.\\nDays earlier, on 30 November, Israeli jets were reported to have fired missiles from Lebanese airspace into Syria, striking Sabboura, an area outside Damascus.\\nThe target was unclear but the highway from Lebanon to Damascus runs through the town.\\n'}"
      ]
     },
     "execution_count": 41,
     "metadata": {},
     "output_type": "execute_result"
    }
   ],
   "source": [
    "# sample document\n",
    "docs[0]"
   ]
  },
  {
   "cell_type": "code",
   "execution_count": 42,
   "metadata": {},
   "outputs": [
    {
     "data": {
      "text/plain": [
       "{'_id': '3095FB15AFF7B552702E9EF46C083FDD-0-0-5-Location',\n",
       " 'begin': 0,\n",
       " 'end': 5,\n",
       " 'type': 'Location',\n",
       " 'value': 'Syria',\n",
       " 'documentId': '3095FB15AFF7B552702E9EF46C083FDD',\n",
       " 'confidence': 0}"
      ]
     },
     "execution_count": 42,
     "metadata": {},
     "output_type": "execute_result"
    }
   ],
   "source": [
    "# sample entities entry\n",
    "ents[0]"
   ]
  },
  {
   "cell_type": "code",
   "execution_count": 43,
   "metadata": {},
   "outputs": [
    {
     "data": {
      "text/plain": [
       "{'_id': '3095FB15AFF7B552702E9EF46C083FDD-0-0-5-18-24-Dislikes',\n",
       " 'begin': 6,\n",
       " 'end': 17,\n",
       " 'sourceBegin': 0,\n",
       " 'sourceEnd': 5,\n",
       " 'source': 'Syria',\n",
       " 'targetBegin': 18,\n",
       " 'targetEnd': 24,\n",
       " 'target': 'Israel',\n",
       " 'type': 'Dislikes',\n",
       " 'value': 'has accused',\n",
       " 'documentId': '3095FB15AFF7B552702E9EF46C083FDD',\n",
       " 'confidence': 1}"
      ]
     },
     "execution_count": 43,
     "metadata": {},
     "output_type": "execute_result"
    }
   ],
   "source": [
    "# sample relation entry\n",
    "rels[0]"
   ]
  },
  {
   "cell_type": "code",
   "execution_count": 44,
   "metadata": {},
   "outputs": [
    {
     "data": {
      "text/plain": [
       "pandas.core.frame.DataFrame"
      ]
     },
     "execution_count": 44,
     "metadata": {},
     "output_type": "execute_result"
    }
   ],
   "source": [
    "# relations dataset\n",
    "rels_df = pd.io.json.json_normalize(rels)\n",
    "type(rels_df)"
   ]
  },
  {
   "cell_type": "code",
   "execution_count": 45,
   "metadata": {},
   "outputs": [
    {
     "data": {
      "text/plain": [
       "Index(['_id', 'begin', 'confidence', 'documentId', 'end', 'source',\n",
       "       'sourceBegin', 'sourceEnd', 'target', 'targetBegin', 'targetEnd',\n",
       "       'type', 'value'],\n",
       "      dtype='object')"
      ]
     },
     "execution_count": 45,
     "metadata": {},
     "output_type": "execute_result"
    }
   ],
   "source": [
    "rels_df.columns"
   ]
  },
  {
   "cell_type": "code",
   "execution_count": 46,
   "metadata": {},
   "outputs": [
    {
     "data": {
      "text/plain": [
       "CoLocated          132\n",
       "AlliesOf            26\n",
       "CommWith            26\n",
       "FightingAgainst     22\n",
       "BelongsTo           19\n",
       "InChargeOf          15\n",
       "HasAttrOf           14\n",
       "IsSynonymOf         13\n",
       "Apart                8\n",
       "Dislikes             5\n",
       "Likes                1\n",
       "Name: type, dtype: int64"
      ]
     },
     "execution_count": 46,
     "metadata": {},
     "output_type": "execute_result"
    }
   ],
   "source": [
    "# types of relations in BBC Online\n",
    "rels_df.type.value_counts()"
   ]
  },
  {
   "cell_type": "code",
   "execution_count": 47,
   "metadata": {},
   "outputs": [
    {
     "data": {
      "text/plain": [
       "Index(['_id', 'begin', 'confidence', 'documentId', 'end', 'type', 'value'], dtype='object')"
      ]
     },
     "execution_count": 47,
     "metadata": {},
     "output_type": "execute_result"
    }
   ],
   "source": [
    "# entities dataset\n",
    "ents_df = pd.io.json.json_normalize(ents)\n",
    "ents_df.columns"
   ]
  },
  {
   "cell_type": "code",
   "execution_count": 48,
   "metadata": {},
   "outputs": [
    {
     "data": {
      "text/plain": [
       "Organisation         298\n",
       "Location             225\n",
       "Person               215\n",
       "Nationality           54\n",
       "Temporal              43\n",
       "Quantity              31\n",
       "Weapon                20\n",
       "Money                  9\n",
       "DocumentReference      6\n",
       "MilitaryPlatform       5\n",
       "Vehicle                5\n",
       "CommsIdentifier        2\n",
       "Name: type, dtype: int64"
      ]
     },
     "execution_count": 48,
     "metadata": {},
     "output_type": "execute_result"
    }
   ],
   "source": [
    "# types of entities in BBC ONline\n",
    "ents_df.type.value_counts()"
   ]
  },
  {
   "cell_type": "code",
   "execution_count": 49,
   "metadata": {},
   "outputs": [],
   "source": [
    "# Dictionary implementation with range of values\n",
    "class RangeDict(dict):\n",
    "    def __getitem__(self, item):\n",
    "        if type(item) != range:\n",
    "            for key in self:\n",
    "                if item in key:\n",
    "                    return self[key]\n",
    "            raise KeyError(item)\n",
    "        else:\n",
    "            return super().__getitem__(item)\n"
   ]
  },
  {
   "cell_type": "code",
   "execution_count": 166,
   "metadata": {},
   "outputs": [],
   "source": [
    "# id of doc to RangeDicts of sentences\n",
    "id2doc = dict()\n",
    "id2doctext = dict()\n",
    "\n",
    "for doc in docs:\n",
    "    id2doc[doc['_id']] = RangeDict()\n",
    "    id2doctext[doc['_id']] = doc['text']\n",
    "    \n",
    "    sents = doc['text'].split('.\\n')[:-1]\n",
    "    i = 0\n",
    "    for sent in sents:\n",
    "        id2doc[doc['_id']][range(i, i+len(sent))] = sent\n",
    "        i += len(sent) + 1"
   ]
  },
  {
   "cell_type": "code",
   "execution_count": 53,
   "metadata": {},
   "outputs": [
    {
     "data": {
      "text/plain": [
       "{range(0, 131): 'Iraqi forces have seized full control of Mosul University in their battle with so-called Islamic State, Iraqi state television said',\n",
       " range(132, 242): 'Military forces have been attempting to retake the city - the last major IS stronghold in Iraq - since October',\n",
       " range(243, 349): 'Iraqi officials said the IS group had used laboratories in the university complex to make chemical weapons',\n",
       " range(350, 453): \"The head of the country's counter-terrorism operations said retaking the area was a significant victory\",\n",
       " range(454, 852): '\"\"\"This great scientific and cultural building was liberated by the heroes,\"\" Lt Gen Talib Shaghati, said. \"\"The liberation of the University of Mosul means much, given its cultural, social and human symbolism.\"\"\"\\nElite troops had entered the compound on Friday as part of a major push into new territory. \\nIraqi military officials claim they now control a large majority of the city\\'s eastern half',\n",
       " range(853, 954): 'They also control three of the five key bridges crossing the river Tigris, which divides Mosul in two',\n",
       " range(955, 1112): 'The bridges were targeted by coalition air strikes in October with the aim of limiting the ability of IS to resupply or reinforce their positions in the east',\n",
       " range(1113, 1223): 'The campaign began in October, but got off to a slow start in the face of tough IS defence and counter-attacks',\n",
       " range(1224, 1356): 'But significant gains along the river may open up western Mosul, which is still under IS control, to Iraqi forces seeking to advance'}"
      ]
     },
     "execution_count": 53,
     "metadata": {},
     "output_type": "execute_result"
    }
   ],
   "source": [
    "id2doc['DDC23537DF2DA27754B9327683DCA114']"
   ]
  },
  {
   "cell_type": "code",
   "execution_count": 223,
   "metadata": {},
   "outputs": [],
   "source": [
    "def add_sentence(rel):\n",
    "    \"\"\"\n",
    "        For a relaton, locate its sentence.\n",
    "    \"\"\"\n",
    "    try:\n",
    "        doc_id = rel['_id'].split('-')[0]\n",
    "        start = rel['sourceBegin']\n",
    "        rel['sentence'] = id2doc[doc_id][start]\n",
    "    \n",
    "    except:\n",
    "        rel['sentence'] = None\n",
    "    \n",
    "    return rel"
   ]
  },
  {
   "cell_type": "code",
   "execution_count": 17,
   "metadata": {},
   "outputs": [
    {
     "data": {
      "text/plain": [
       "{'_id': '3095FB15AFF7B552702E9EF46C083FDD-0-0-5-18-24-Dislikes',\n",
       " 'begin': 6,\n",
       " 'end': 17,\n",
       " 'sourceBegin': 0,\n",
       " 'sourceEnd': 5,\n",
       " 'source': 'Syria',\n",
       " 'targetBegin': 18,\n",
       " 'targetEnd': 24,\n",
       " 'target': 'Israel',\n",
       " 'type': 'Dislikes',\n",
       " 'value': 'has accused',\n",
       " 'documentId': '3095FB15AFF7B552702E9EF46C083FDD',\n",
       " 'confidence': 1,\n",
       " 'sentence': 'Syria has accused Israel of bombarding an area west of Damascus, with reports of a military airport being hit'}"
      ]
     },
     "execution_count": 17,
     "metadata": {},
     "output_type": "execute_result"
    }
   ],
   "source": [
    "add_sentence(rels[0])"
   ]
  },
  {
   "cell_type": "code",
   "execution_count": 224,
   "metadata": {},
   "outputs": [],
   "source": [
    "# returns documents and relations.\n",
    "id2doc = dict()\n",
    "def preprocess_re3d():\n",
    "    \"\"\"\n",
    "        Basically gets the sentence for a particular relation and adds it to the data.\n",
    "    \"\"\"\n",
    "    docs, rels = [], []\n",
    "    \n",
    "    for d in dirs:\n",
    "        try:\n",
    "            with open(data_path + '/' + d + '/documents.json') as f:\n",
    "                a = json.loads(f.read())\n",
    "                docs += a\n",
    "\n",
    "            with open(data_path + '/' + d + '/relations.json') as f:\n",
    "                a = json.loads(f.read())\n",
    "#                 print(len(a))\n",
    "                rels += a\n",
    "        \n",
    "        except Exception as e:\n",
    "            print(e)\n",
    "            print(d)\n",
    "\n",
    "    global id2doc\n",
    "    \n",
    "\n",
    "    for doc in docs:\n",
    "        id2doc[doc['_id']] = RangeDict()\n",
    "\n",
    "        text = doc['text']\n",
    "        def match(obj):\n",
    "            return \" \"*len(obj.group(0))\n",
    "        text = re.sub(r'\\[\\d+\\]', match, text)\n",
    "        b = textblob.TextBlob(text)\n",
    "        sents = [str(s) for s in b.sentences]\n",
    "\n",
    "        for sent in sents:\n",
    "            ind = text.index(sent)\n",
    "            id2doc[doc['_id']][range(ind, ind+len(sent))] = sent\n",
    "\n",
    "    \n",
    "    to_del = []\n",
    "    for i, rel in enumerate(rels):\n",
    "\n",
    "        doc_id = rel['documentId']\n",
    "        start = rel['sourceBegin']\n",
    "        rel['sentence'] = id2doc[doc_id][start]\n",
    "            \n",
    "            \n",
    "    for i, r in enumerate(rels):\n",
    "        if r['source'] not in r['sentence'] or r['target'] not in r['sentence']:\n",
    "            to_del.append(i)\n",
    "    for i in to_del:\n",
    "        rels[i] = None\n",
    "    rels = [i for i in rels if i is not None]\n",
    "    \n",
    "    \n",
    "    return docs, rels"
   ]
  },
  {
   "cell_type": "code",
   "execution_count": 219,
   "metadata": {},
   "outputs": [],
   "source": [
    "docs, rels = preprocess_re3d()"
   ]
  },
  {
   "cell_type": "code",
   "execution_count": 220,
   "metadata": {},
   "outputs": [
    {
     "data": {
      "text/plain": [
       "1426"
      ]
     },
     "execution_count": 220,
     "metadata": {},
     "output_type": "execute_result"
    }
   ],
   "source": [
    "len(rels)"
   ]
  },
  {
   "cell_type": "code",
   "execution_count": 221,
   "metadata": {
    "collapsed": true,
    "jupyter": {
     "outputs_hidden": true
    }
   },
   "outputs": [
    {
     "name": "stdout",
     "output_type": "stream",
     "text": [
      "{'_id': '051A4176702090F39056F34A9C29D574-3-21-55-152-222-InChargeOf', 'begin': 557, 'end': 583, 'sourceBegin': 453, 'sourceEnd': 487, 'source': 'the Swedish citizen Mohamed Moumou', 'targetBegin': 584, 'targetEnd': 654, 'target': 'an extremist group centered around the Brandbergen Mosque in Stockholm', 'type': 'InChargeOf', 'value': \"an ''uncontested leader of\", 'documentId': '051A4176702090F39056F34A9C29D574', 'confidence': 1, 'sentence': 'On December 7, 2006, the Swedish citizen Mohamed Moumou, who is described by the United States Department of the Treasury as an \"\"uncontested leader of an extremist group centered around the Brandbergen Mosque in Stockholm\"\", was put on the United Nations Security Council Committee 1267 list of foreign terrorists.   \"'}\n",
      "{'_id': '22BCFA25729AF03473435DAAAE67F5B8-1-129-151-86-101-IsSynonymOf', 'begin': 158, 'end': 186, 'sourceBegin': 186, 'sourceEnd': 208, 'source': 'the President of Syria', 'targetBegin': 143, 'targetEnd': 158, 'target': 'Bashar al-Assad', 'type': 'IsSynonymOf', 'value': ',[1] who would later become', 'documentId': '22BCFA25729AF03473435DAAAE67F5B8', 'confidence': 1, 'sentence': 'It was founded by Bassel al-Assad in 1989, and was subsequently headed by his brother Bashar al-Assad,    who would later become the President of Syria.'}\n",
      "{'_id': '22BCFA25729AF03473435DAAAE67F5B8-1-86-101-129-151-IsSynonymOf', 'begin': 158, 'end': 186, 'sourceBegin': 143, 'sourceEnd': 158, 'source': 'Bashar al-Assad', 'targetBegin': 186, 'targetEnd': 208, 'target': 'the President of Syria', 'type': 'IsSynonymOf', 'value': ',[1] who would later become', 'documentId': '22BCFA25729AF03473435DAAAE67F5B8', 'confidence': 1, 'sentence': 'It was founded by Bassel al-Assad in 1989, and was subsequently headed by his brother Bashar al-Assad,    who would later become the President of Syria.'}\n",
      "{'_id': '76F75D985AD7642B43A8AA4DBC146621-3-26-28-57-64-CoLocated', 'begin': 646, 'end': 661, 'sourceBegin': 631, 'sourceEnd': 633, 'source': 'he', 'targetBegin': 662, 'targetEnd': 669, 'target': 'Lebanon', 'type': 'CoLocated', 'value': \"kidnapped 'from\", 'documentId': '76F75D985AD7642B43A8AA4DBC146621', 'confidence': 1, 'sentence': 'He told the tribunal that he was instead kidnapped “from Lebanon on May 6.”   \\nOn 23 May 2006, he admitted that he had abducted and killed citizens from Jordan and Iraq, and had abducted two Moroccans in October 2005.'}\n",
      "{'_id': '774684266A20284937043C2BC997EC3B-0-1-28-92-119-IsSynonymOf', 'begin': 1, 'end': 122, 'sourceBegin': 1, 'sourceEnd': 28, 'source': \"Jaish al-Ta'ifa al-Mansurah\", 'targetBegin': 92, 'targetEnd': 119, 'target': 'Army of the Victorious Sect', 'type': 'IsSynonymOf', 'value': \"Jaish al-Ta'ifa al-Mansurah (Arabic: جيش الطائفة المنصورة\\u200e\\u200e Jaysh aṭ-Ṭā’ifa al-Manṣūrah, ''Army of the Victorious Sect'')\", 'documentId': '774684266A20284937043C2BC997EC3B', 'confidence': 1, 'sentence': '\"Jaish al-Ta\\'ifa al-Mansurah (Arabic: جيش الطائفة المنصورة\\u200e\\u200e Jaysh aṭ-Ṭā’ifa al-Manṣūrah, \"\"Army of the Victorious Sect\"\") is a militant Sunni group known to take part in the Iraqi insurgency.'}\n",
      "{'_id': '774684266A20284937043C2BC997EC3B-0-92-119-1-28-IsSynonymOf', 'begin': 1, 'end': 122, 'sourceBegin': 92, 'sourceEnd': 119, 'source': 'Army of the Victorious Sect', 'targetBegin': 1, 'targetEnd': 28, 'target': \"Jaish al-Ta'ifa al-Mansurah\", 'type': 'IsSynonymOf', 'value': \"Jaish al-Ta'ifa al-Mansurah (Arabic: جيش الطائفة المنصورة\\u200e\\u200e Jaysh aṭ-Ṭā’ifa al-Manṣūrah, ''Army of the Victorious Sect'')\", 'documentId': '774684266A20284937043C2BC997EC3B', 'confidence': 1, 'sentence': '\"Jaish al-Ta\\'ifa al-Mansurah (Arabic: جيش الطائفة المنصورة\\u200e\\u200e Jaysh aṭ-Ṭā’ifa al-Manṣūrah, \"\"Army of the Victorious Sect\"\") is a militant Sunni group known to take part in the Iraqi insurgency.'}\n",
      "{'_id': '7EA8D40D4CBE1191B91C9B3503A07338-0-106-122-168-186-FightingAgainst', 'begin': 0, 'end': 167, 'sourceBegin': 106, 'sourceEnd': 122, 'source': 'coalition forces', 'targetBegin': 168, 'targetEnd': 186, 'target': 'foreign insurgents', 'type': 'FightingAgainst', 'value': 'Operation Steel Curtain (Arabic: الحجاب الفولاذ ي Al Hejab Elfulathi) was a military operation executed by coalition forces in early November 2005 to reduce the flow of', 'documentId': '7EA8D40D4CBE1191B91C9B3503A07338', 'confidence': 0.762, 'sentence': 'Operation Steel Curtain (Arabic: الحجاب الفولاذي Al Hejab Elfulathi) was a military operation executed by coalition forces in early November 2005 to reduce the flow of foreign insurgents crossing the border and joining the Iraqi insurgency.'}\n",
      "{'_id': '99036C6E6DB96D33FA0830D3095E7B71-1-0-54-59-79-IsSynonymOf', 'begin': 142, 'end': 221, 'sourceBegin': 142, 'sourceEnd': 196, 'source': 'The westernmost ripple of the greater Zagros mountains', 'targetBegin': 201, 'targetEnd': 221, 'target': 'the Hamrin mountains', 'type': 'IsSynonymOf', 'value': 'The westernmost ripple of the greater Zagros mountains,[1 ] the Hamrin mountains', 'documentId': '99036C6E6DB96D33FA0830D3095E7B71', 'confidence': 0.998, 'sentence': 'The westernmost ripple of the greater Zagros mountains,    the Hamrin mountains extend from the Diyala Province bordering Iran, northwest to the Tigris river, crossing northern Salah ad Din Province and southern Kirkuk Province.'}\n",
      "{'_id': '99036C6E6DB96D33FA0830D3095E7B71-1-59-79-0-54-IsSynonymOf', 'begin': 142, 'end': 221, 'sourceBegin': 201, 'sourceEnd': 221, 'source': 'the Hamrin mountains', 'targetBegin': 142, 'targetEnd': 196, 'target': 'The westernmost ripple of the greater Zagros mountains', 'type': 'IsSynonymOf', 'value': 'The westernmost ripple of the greater Zagros mountains,[1 ] the Hamrin mountains', 'documentId': '99036C6E6DB96D33FA0830D3095E7B71', 'confidence': 0.1, 'sentence': 'The westernmost ripple of the greater Zagros mountains,    the Hamrin mountains extend from the Diyala Province bordering Iran, northwest to the Tigris river, crossing northern Salah ad Din Province and southern Kirkuk Province.'}\n",
      "{'_id': 'A0302EA7B1BDE005835BC09ECBF2930A-13-23-28-3-5-BelongsTo', 'begin': 1017, 'end': 1053, 'sourceBegin': 1037, 'sourceEnd': 1042, 'source': 'Sadiq', 'targetBegin': 1017, 'targetEnd': 1019, 'target': 'We', 'type': 'BelongsTo', 'value': \"We've met before,'' Sadiq told Karim\", 'documentId': 'A0302EA7B1BDE005835BC09ECBF2930A', 'confidence': 0.999, 'sentence': '\"\"\"We\\'ve met before,\"\" Sadiq told Karim proudly.'}\n",
      "{'_id': 'A0302EA7B1BDE005835BC09ECBF2930A-13-34-39-3-5-BelongsTo', 'begin': 1017, 'end': 1053, 'sourceBegin': 1048, 'sourceEnd': 1053, 'source': 'Karim', 'targetBegin': 1017, 'targetEnd': 1019, 'target': 'We', 'type': 'BelongsTo', 'value': \"We've met before,'' Sadiq told Karim\", 'documentId': 'A0302EA7B1BDE005835BC09ECBF2930A', 'confidence': 0.862, 'sentence': '\"\"\"We\\'ve met before,\"\" Sadiq told Karim proudly.'}\n",
      "{'_id': 'A575C2B05115236A223DBE644F73BE9A-16-32-52-54-59-IsSynonymOf', 'begin': 1320, 'end': 1355, 'sourceBegin': 1320, 'sourceEnd': 1340, 'source': 'two Jordanian dinars', 'targetBegin': 1342, 'targetEnd': 1347, 'target': '£2.10', 'type': 'IsSynonymOf', 'value': 'two Jordanian dinars (£2. 10; $2.80)', 'documentId': 'A575C2B05115236A223DBE644F73BE9A', 'confidence': 1, 'sentence': '\"\"\"We used to hire Egyptians at two Jordanian dinars (£2.10; $2.80) an hour.'}\n",
      "{'_id': 'A575C2B05115236A223DBE644F73BE9A-16-32-52-61-66-IsSynonymOf', 'begin': 1320, 'end': 1355, 'sourceBegin': 1320, 'sourceEnd': 1340, 'source': 'two Jordanian dinars', 'targetBegin': 1349, 'targetEnd': 1354, 'target': '$2.80', 'type': 'IsSynonymOf', 'value': 'two Jordanian dinars (£2. 10; $2.80)', 'documentId': 'A575C2B05115236A223DBE644F73BE9A', 'confidence': 1, 'sentence': '\"\"\"We used to hire Egyptians at two Jordanian dinars (£2.10; $2.80) an hour.'}\n",
      "{'_id': 'A575C2B05115236A223DBE644F73BE9A-16-54-59-32-52-IsSynonymOf', 'begin': 1320, 'end': 1355, 'sourceBegin': 1342, 'sourceEnd': 1347, 'source': '£2.10', 'targetBegin': 1320, 'targetEnd': 1340, 'target': 'two Jordanian dinars', 'type': 'IsSynonymOf', 'value': 'two Jordanian dinars (£2. 10; $2.80)', 'documentId': 'A575C2B05115236A223DBE644F73BE9A', 'confidence': 1, 'sentence': '\"\"\"We used to hire Egyptians at two Jordanian dinars (£2.10; $2.80) an hour.'}\n",
      "{'_id': 'A575C2B05115236A223DBE644F73BE9A-16-54-59-61-66-IsSynonymOf', 'begin': 1320, 'end': 1355, 'sourceBegin': 1342, 'sourceEnd': 1347, 'source': '£2.10', 'targetBegin': 1349, 'targetEnd': 1354, 'target': '$2.80', 'type': 'IsSynonymOf', 'value': 'two Jordanian dinars (£2. 10; $2.80)', 'documentId': 'A575C2B05115236A223DBE644F73BE9A', 'confidence': 1, 'sentence': '\"\"\"We used to hire Egyptians at two Jordanian dinars (£2.10; $2.80) an hour.'}\n",
      "{'_id': 'A575C2B05115236A223DBE644F73BE9A-16-61-66-32-52-IsSynonymOf', 'begin': 1320, 'end': 1355, 'sourceBegin': 1349, 'sourceEnd': 1354, 'source': '$2.80', 'targetBegin': 1320, 'targetEnd': 1340, 'target': 'two Jordanian dinars', 'type': 'IsSynonymOf', 'value': 'two Jordanian dinars (£2. 10; $2.80)', 'documentId': 'A575C2B05115236A223DBE644F73BE9A', 'confidence': 1, 'sentence': '\"\"\"We used to hire Egyptians at two Jordanian dinars (£2.10; $2.80) an hour.'}\n",
      "{'_id': 'A575C2B05115236A223DBE644F73BE9A-16-61-66-54-59-IsSynonymOf', 'begin': 1320, 'end': 1355, 'sourceBegin': 1349, 'sourceEnd': 1354, 'source': '$2.80', 'targetBegin': 1342, 'targetEnd': 1347, 'target': '£2.10', 'type': 'IsSynonymOf', 'value': 'two Jordanian dinars (£2. 10; $2.80)', 'documentId': 'A575C2B05115236A223DBE644F73BE9A', 'confidence': 1, 'sentence': '\"\"\"We used to hire Egyptians at two Jordanian dinars (£2.10; $2.80) an hour.'}\n",
      "{'_id': 'E1526BBD89FAB8E7914B3CF5867666CC-0-38-72-80-94-IsSynonymOf', 'begin': 38, 'end': 94, 'sourceBegin': 38, 'sourceEnd': 72, 'source': 'the U.S. Embassy Chargé d’Affaires', 'targetBegin': 80, 'targetEnd': 94, 'target': 'Jonathan Cohen', 'type': 'IsSynonymOf', 'value': 'the U.S. Embassy Chargé d’Affaires, a.i. , Jonathan Cohen', 'documentId': 'E1526BBD89FAB8E7914B3CF5867666CC', 'confidence': 1, 'sentence': 'Today at the Iraqi Museum in Baghdad, the U.S. Embassy Chargé d’Affaires, a.i., Jonathan Cohen and Dr. Ahmed Kamil Murad, Acting General Director of the Office of Museums at the Iraqi Ministry of Culture, State Board of Antiquities and Heritage (SBAH) announced the funding of a project for the rehabilitation and preservation of the Ishtar Gate at the remains of the ancient city of Babylon in Iraq.'}\n",
      "{'_id': 'E1526BBD89FAB8E7914B3CF5867666CC-0-80-94-99-120-CommWith', 'begin': 38, 'end': 261, 'sourceBegin': 80, 'sourceEnd': 94, 'source': 'Jonathan Cohen', 'targetBegin': 99, 'targetEnd': 120, 'target': 'Dr. Ahmed Kamil Murad', 'type': 'CommWith', 'value': 'the U.S. Embassy Chargé d’Affaires, a.i. , Jonathan Cohen and Dr. Ahmed Kamil Murad, Acting General Director of the Office of Museums at the Iraqi Ministry of Culture, State Board of Antiquities and Heritage (SBAH) announced', 'documentId': 'E1526BBD89FAB8E7914B3CF5867666CC', 'confidence': 1, 'sentence': 'Today at the Iraqi Museum in Baghdad, the U.S. Embassy Chargé d’Affaires, a.i., Jonathan Cohen and Dr. Ahmed Kamil Murad, Acting General Director of the Office of Museums at the Iraqi Ministry of Culture, State Board of Antiquities and Heritage (SBAH) announced the funding of a project for the rehabilitation and preservation of the Ishtar Gate at the remains of the ancient city of Babylon in Iraq.'}\n",
      "{'_id': 'E1526BBD89FAB8E7914B3CF5867666CC-0-99-120-80-94-CommWith', 'begin': 38, 'end': 261, 'sourceBegin': 99, 'sourceEnd': 120, 'source': 'Dr. Ahmed Kamil Murad', 'targetBegin': 80, 'targetEnd': 94, 'target': 'Jonathan Cohen', 'type': 'CommWith', 'value': 'the U.S. Embassy Chargé d’Affaires, a.i. , Jonathan Cohen and Dr. Ahmed Kamil Murad, Acting General Director of the Office of Museums at the Iraqi Ministry of Culture, State Board of Antiquities and Heritage (SBAH) announced', 'documentId': 'E1526BBD89FAB8E7914B3CF5867666CC', 'confidence': 1, 'sentence': 'Today at the Iraqi Museum in Baghdad, the U.S. Embassy Chargé d’Affaires, a.i., Jonathan Cohen and Dr. Ahmed Kamil Murad, Acting General Director of the Office of Museums at the Iraqi Ministry of Culture, State Board of Antiquities and Heritage (SBAH) announced the funding of a project for the rehabilitation and preservation of the Ishtar Gate at the remains of the ancient city of Babylon in Iraq.'}\n",
      "{'_id': '6646F63F6AC6B483D15DA258CB182147-5-100-106-63-85-IsSynonymOf', 'begin': 1298, 'end': 1313, 'sourceBegin': 1313, 'sourceEnd': 1319, 'source': 'Q-West', 'targetBegin': 1276, 'targetEnd': 1298, 'target': 'Qayyarah Airfield West', 'type': 'IsSynonymOf', 'value': \", also called '\", 'documentId': '6646F63F6AC6B483D15DA258CB182147', 'confidence': 1, 'sentence': 'Later in the day, Carter flew to visit U.S. service members at Qayyarah Airfield West, also called “Q-West” in northern Iraq.'}\n",
      "{'_id': '6646F63F6AC6B483D15DA258CB182147-5-63-85-111-124-CoLocated', 'begin': 1319, 'end': 1324, 'sourceBegin': 1276, 'sourceEnd': 1298, 'source': 'Qayyarah Airfield West', 'targetBegin': 1324, 'targetEnd': 1337, 'target': 'northern Iraq', 'type': 'CoLocated', 'value': \"' in\", 'documentId': '6646F63F6AC6B483D15DA258CB182147', 'confidence': 1, 'sentence': 'Later in the day, Carter flew to visit U.S. service members at Qayyarah Airfield West, also called “Q-West” in northern Iraq.'}\n",
      "{'_id': '26E0189E3D774CB2B8F078A082E5088C-4-566-567-589-630-CommWith', 'begin': 1020, 'end': 1089, 'sourceBegin': 1018, 'sourceEnd': 1019, 'source': 'I', 'targetBegin': 1041, 'targetEnd': 1082, 'target': 'Turkish Foreign Minister Mevlüt Çavuşoğlu', 'type': 'CommWith', 'value': 'have spoken today to Turkish Foreign Minister Mevlüt Çavuşoğ lu and to', 'documentId': '26E0189E3D774CB2B8F078A082E5088C', 'confidence': 1, 'sentence': 'But if implemented fully, the cessation can open the way to unhindered and countrywide humanitarian access to those in need.And, most of all, if successful it can open the way to a renewal of intra-Syrian talks under UN auspices, within the framework set by the UN Security Council.In this respect, we would welcome any intermediate step facilitated by other international players, such as the announced meeting in Astana, if fully inclusive and aimed at preparing a fruitful and meaningful\\xa0 resumption of intra-Syrian talks in Geneva under UN auspices.To this aim, I have spoken today to Turkish Foreign Minister Mevlüt Çavuşoğlu and to the UN Special Envoy Staffan de Mistura, to coordinate our work for Syria.The European Union is continuing its work with the regional parties.'}\n",
      "{'_id': '26E0189E3D774CB2B8F078A082E5088C-4-566-567-638-677-CommWith', 'begin': 1020, 'end': 1089, 'sourceBegin': 1018, 'sourceEnd': 1019, 'source': 'I', 'targetBegin': 1090, 'targetEnd': 1129, 'target': 'the UN Special Envoy Staffan de Mistura', 'type': 'CommWith', 'value': 'have spoken today to Turkish Foreign Minister Mevlüt Çavuşoğ lu and to', 'documentId': '26E0189E3D774CB2B8F078A082E5088C', 'confidence': 1, 'sentence': 'But if implemented fully, the cessation can open the way to unhindered and countrywide humanitarian access to those in need.And, most of all, if successful it can open the way to a renewal of intra-Syrian talks under UN auspices, within the framework set by the UN Security Council.In this respect, we would welcome any intermediate step facilitated by other international players, such as the announced meeting in Astana, if fully inclusive and aimed at preparing a fruitful and meaningful\\xa0 resumption of intra-Syrian talks in Geneva under UN auspices.To this aim, I have spoken today to Turkish Foreign Minister Mevlüt Çavuşoğlu and to the UN Special Envoy Staffan de Mistura, to coordinate our work for Syria.The European Union is continuing its work with the regional parties.'}\n",
      "{'_id': '26E0189E3D774CB2B8F078A082E5088C-4-589-630-566-567-CommWith', 'begin': 1020, 'end': 1089, 'sourceBegin': 1041, 'sourceEnd': 1082, 'source': 'Turkish Foreign Minister Mevlüt Çavuşoğlu', 'targetBegin': 1018, 'targetEnd': 1019, 'target': 'I', 'type': 'CommWith', 'value': 'have spoken today to Turkish Foreign Minister Mevlüt Çavuşoğ lu and to', 'documentId': '26E0189E3D774CB2B8F078A082E5088C', 'confidence': 1, 'sentence': 'But if implemented fully, the cessation can open the way to unhindered and countrywide humanitarian access to those in need.And, most of all, if successful it can open the way to a renewal of intra-Syrian talks under UN auspices, within the framework set by the UN Security Council.In this respect, we would welcome any intermediate step facilitated by other international players, such as the announced meeting in Astana, if fully inclusive and aimed at preparing a fruitful and meaningful\\xa0 resumption of intra-Syrian talks in Geneva under UN auspices.To this aim, I have spoken today to Turkish Foreign Minister Mevlüt Çavuşoğlu and to the UN Special Envoy Staffan de Mistura, to coordinate our work for Syria.The European Union is continuing its work with the regional parties.'}\n",
      "{'_id': '26E0189E3D774CB2B8F078A082E5088C-4-638-677-566-567-CommWith', 'begin': 1020, 'end': 1089, 'sourceBegin': 1090, 'sourceEnd': 1129, 'source': 'the UN Special Envoy Staffan de Mistura', 'targetBegin': 1018, 'targetEnd': 1019, 'target': 'I', 'type': 'CommWith', 'value': 'have spoken today to Turkish Foreign Minister Mevlüt Çavuşoğ lu and to', 'documentId': '26E0189E3D774CB2B8F078A082E5088C', 'confidence': 1, 'sentence': 'But if implemented fully, the cessation can open the way to unhindered and countrywide humanitarian access to those in need.And, most of all, if successful it can open the way to a renewal of intra-Syrian talks under UN auspices, within the framework set by the UN Security Council.In this respect, we would welcome any intermediate step facilitated by other international players, such as the announced meeting in Astana, if fully inclusive and aimed at preparing a fruitful and meaningful\\xa0 resumption of intra-Syrian talks in Geneva under UN auspices.To this aim, I have spoken today to Turkish Foreign Minister Mevlüt Çavuşoğlu and to the UN Special Envoy Staffan de Mistura, to coordinate our work for Syria.The European Union is continuing its work with the regional parties.'}\n",
      "26\n"
     ]
    }
   ],
   "source": [
    "i = 0\n",
    "for r in rels:\n",
    "    if r['source'] not in r['sentence'] or r['target'] not in r['sentence'] or r['value'] not in r['sentence']:\n",
    "        print(r)\n",
    "        i += 1\n",
    "print(i)"
   ]
  },
  {
   "cell_type": "code",
   "execution_count": 188,
   "metadata": {},
   "outputs": [],
   "source": [
    "data = pd.DataFrame.from_dict(rels)"
   ]
  },
  {
   "cell_type": "code",
   "execution_count": 222,
   "metadata": {},
   "outputs": [
    {
     "data": {
      "text/plain": [
       "CoLocated          476\n",
       "FightingAgainst    206\n",
       "BelongsTo          145\n",
       "HasAttrOf          112\n",
       "CommWith           107\n",
       "InChargeOf          96\n",
       "IsSynonymOf         93\n",
       "AlliesOf            63\n",
       "Likes               45\n",
       "Dislikes            35\n",
       "Apart               28\n",
       "Name: type, dtype: int64"
      ]
     },
     "execution_count": 222,
     "metadata": {},
     "output_type": "execute_result"
    }
   ],
   "source": [
    "data.type.value_counts()"
   ]
  },
  {
   "cell_type": "markdown",
   "metadata": {},
   "source": [
    "The relation classifications seem very relevant to our use case. We can train few shot relation classification model with these instances for more insights. "
   ]
  },
  {
   "cell_type": "markdown",
   "metadata": {},
   "source": [
    "# Converting into FewRel format"
   ]
  },
  {
   "cell_type": "code",
   "execution_count": 239,
   "metadata": {},
   "outputs": [],
   "source": [
    "nlp_no_coref = spacy.load(\"en_core_web_sm\")\n",
    "def spacy_tokenize_no_coref(sentence):\n",
    "        \"\"\"\n",
    "            Tokenizes the sentence using spacy\n",
    "        \"\"\"\n",
    "        return list(map(str, nlp_no_coref(sentence)))"
   ]
  },
  {
   "cell_type": "code",
   "execution_count": 252,
   "metadata": {},
   "outputs": [],
   "source": [
    "fewrel_dict = {}\n",
    "for r in rels:\n",
    "    if r['type'] not in fewrel_dict:\n",
    "        fewrel_dict[r['type']] = []\n",
    "    ind_dict = {}\n",
    "    \n",
    "    sentence = r['sentence']\n",
    "    head = r['source']\n",
    "    tail = r['target']\n",
    "    tokens = spacy_tokenize_no_coref(sentence)\n",
    "        \n",
    "    tokenized_head = spacy_tokenize_no_coref(head)\n",
    "    tokenized_tail = spacy_tokenize_no_coref(tail)\n",
    "\n",
    "    head_indices = None\n",
    "    tail_indices = None\n",
    "    for i in range(len(tokens)):\n",
    "        if tokens[i] == tokenized_head[0] and tokens[i:i+len(tokenized_head)] == tokenized_head:\n",
    "            head_indices = list(range(i,i+len(tokenized_head)))\n",
    "            break\n",
    "    for i in range(len(tokens)):\n",
    "        if tokens[i] == tokenized_tail[0] and tokens[i:i+len(tokenized_tail)] == tokenized_tail:\n",
    "            tail_indices = list(range(i,i+len(tokenized_tail)))\n",
    "            break\n",
    "    \n",
    "    if head_indices is None or tail_indices is None:\n",
    "        # to handle a few edge cases\n",
    "        continue\n",
    "    \n",
    "    ind_dict['tokens'] = tokens\n",
    "    ind_dict['h'] = [head, \"m\", [head_indices]]\n",
    "    ind_dict['t'] = [tail, \"m\", [tail_indices]]\n",
    "    \n",
    "    fewrel_dict[r['type']].append(ind_dict)"
   ]
  },
  {
   "cell_type": "code",
   "execution_count": 253,
   "metadata": {},
   "outputs": [],
   "source": [
    "with open('re3d_fewrel_format.json', 'w') as f:\n",
    "    json.dump(fewrel_dict, f)"
   ]
  },
  {
   "cell_type": "code",
   "execution_count": null,
   "metadata": {},
   "outputs": [],
   "source": []
  }
 ],
 "metadata": {
  "kernelspec": {
   "display_name": "myenv",
   "language": "python",
   "name": "myenv"
  },
  "language_info": {
   "codemirror_mode": {
    "name": "ipython",
    "version": 3
   },
   "file_extension": ".py",
   "mimetype": "text/x-python",
   "name": "python",
   "nbconvert_exporter": "python",
   "pygments_lexer": "ipython3",
   "version": "3.6.4"
  }
 },
 "nbformat": 4,
 "nbformat_minor": 4
}
