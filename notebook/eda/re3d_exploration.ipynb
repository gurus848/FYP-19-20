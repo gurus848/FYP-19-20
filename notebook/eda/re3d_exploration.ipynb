{
 "cells": [
  {
   "cell_type": "markdown",
   "metadata": {},
   "source": [
    "# re3d\n",
    "This is an relation extraction dataset developed by Defence Science and Technology Laboratory, Ministry of Defence (United Kingdom) for the purposes of Cybersecurity. Although small in size, it seems to deliver relevant types of relations.\n",
    "\n",
    "Documentation can be found here: https://github.com/dstl/re3d"
   ]
  },
  {
   "cell_type": "code",
   "execution_count": 5,
   "metadata": {},
   "outputs": [],
   "source": [
    "import os\n",
    "import json\n",
    "import codecs\n",
    "import pandas as pd"
   ]
  },
  {
   "cell_type": "code",
   "execution_count": 3,
   "metadata": {},
   "outputs": [
    {
     "data": {
      "text/plain": [
       "['Wikipedia',\n",
       " 'US State Department',\n",
       " 'UK Government',\n",
       " 'Delegation of the European Union to Syria',\n",
       " 'CENTCOM',\n",
       " 'BBC Online',\n",
       " 'Australian Department of Foreign Affairs']"
      ]
     },
     "execution_count": 3,
     "metadata": {},
     "output_type": "execute_result"
    }
   ],
   "source": [
    "data_path = '../../data/re3d/'\n",
    "dirs = os.listdir(data_path)\n",
    "dirs.remove('annotation_process.png')\n",
    "dirs.remove('README.md')\n",
    "\n",
    "# Sources\n",
    "dirs"
   ]
  },
  {
   "cell_type": "code",
   "execution_count": 8,
   "metadata": {},
   "outputs": [
    {
     "ename": "JSONDecodeError",
     "evalue": "Extra data: line 2 column 1 (char 220)",
     "output_type": "error",
     "traceback": [
      "\u001b[0;31m---------------------------------------------------------------------------\u001b[0m",
      "\u001b[0;31mJSONDecodeError\u001b[0m                           Traceback (most recent call last)",
      "\u001b[0;32m<ipython-input-8-ce80a777f478>\u001b[0m in \u001b[0;36m<module>\u001b[0;34m\u001b[0m\n\u001b[1;32m      4\u001b[0m \u001b[0;34m\u001b[0m\u001b[0m\n\u001b[1;32m      5\u001b[0m \u001b[0;32mwith\u001b[0m \u001b[0mcodecs\u001b[0m\u001b[0;34m.\u001b[0m\u001b[0mopen\u001b[0m\u001b[0;34m(\u001b[0m\u001b[0mdata_path\u001b[0m \u001b[0;34m+\u001b[0m \u001b[0mdirs\u001b[0m\u001b[0;34m[\u001b[0m\u001b[0;36m1\u001b[0m\u001b[0;34m]\u001b[0m \u001b[0;34m+\u001b[0m \u001b[0;34m'/entities.json'\u001b[0m\u001b[0;34m,\u001b[0m \u001b[0mencoding\u001b[0m\u001b[0;34m=\u001b[0m\u001b[0;34m'utf-8'\u001b[0m\u001b[0;34m)\u001b[0m \u001b[0;32mas\u001b[0m \u001b[0mf\u001b[0m\u001b[0;34m:\u001b[0m\u001b[0;34m\u001b[0m\u001b[0;34m\u001b[0m\u001b[0m\n\u001b[0;32m----> 6\u001b[0;31m     \u001b[0ments\u001b[0m \u001b[0;34m=\u001b[0m \u001b[0mjson\u001b[0m\u001b[0;34m.\u001b[0m\u001b[0mload\u001b[0m\u001b[0;34m(\u001b[0m\u001b[0mf\u001b[0m\u001b[0;34m)\u001b[0m\u001b[0;34m\u001b[0m\u001b[0;34m\u001b[0m\u001b[0m\n\u001b[0m\u001b[1;32m      7\u001b[0m \u001b[0;34m\u001b[0m\u001b[0m\n\u001b[1;32m      8\u001b[0m \u001b[0;32mwith\u001b[0m \u001b[0mcodecs\u001b[0m\u001b[0;34m.\u001b[0m\u001b[0mopen\u001b[0m\u001b[0;34m(\u001b[0m\u001b[0mdata_path\u001b[0m \u001b[0;34m+\u001b[0m \u001b[0mdirs\u001b[0m\u001b[0;34m[\u001b[0m\u001b[0;36m1\u001b[0m\u001b[0;34m]\u001b[0m \u001b[0;34m+\u001b[0m \u001b[0;34m'/relations.json'\u001b[0m\u001b[0;34m,\u001b[0m \u001b[0mencoding\u001b[0m\u001b[0;34m=\u001b[0m\u001b[0;34m'utf-8'\u001b[0m\u001b[0;34m)\u001b[0m \u001b[0;32mas\u001b[0m \u001b[0mf\u001b[0m\u001b[0;34m:\u001b[0m\u001b[0;34m\u001b[0m\u001b[0;34m\u001b[0m\u001b[0m\n",
      "\u001b[0;32m~/anaconda3/lib/python3.6/json/__init__.py\u001b[0m in \u001b[0;36mload\u001b[0;34m(fp, cls, object_hook, parse_float, parse_int, parse_constant, object_pairs_hook, **kw)\u001b[0m\n\u001b[1;32m    297\u001b[0m         \u001b[0mcls\u001b[0m\u001b[0;34m=\u001b[0m\u001b[0mcls\u001b[0m\u001b[0;34m,\u001b[0m \u001b[0mobject_hook\u001b[0m\u001b[0;34m=\u001b[0m\u001b[0mobject_hook\u001b[0m\u001b[0;34m,\u001b[0m\u001b[0;34m\u001b[0m\u001b[0;34m\u001b[0m\u001b[0m\n\u001b[1;32m    298\u001b[0m         \u001b[0mparse_float\u001b[0m\u001b[0;34m=\u001b[0m\u001b[0mparse_float\u001b[0m\u001b[0;34m,\u001b[0m \u001b[0mparse_int\u001b[0m\u001b[0;34m=\u001b[0m\u001b[0mparse_int\u001b[0m\u001b[0;34m,\u001b[0m\u001b[0;34m\u001b[0m\u001b[0;34m\u001b[0m\u001b[0m\n\u001b[0;32m--> 299\u001b[0;31m         parse_constant=parse_constant, object_pairs_hook=object_pairs_hook, **kw)\n\u001b[0m\u001b[1;32m    300\u001b[0m \u001b[0;34m\u001b[0m\u001b[0m\n\u001b[1;32m    301\u001b[0m \u001b[0;34m\u001b[0m\u001b[0m\n",
      "\u001b[0;32m~/anaconda3/lib/python3.6/json/__init__.py\u001b[0m in \u001b[0;36mloads\u001b[0;34m(s, encoding, cls, object_hook, parse_float, parse_int, parse_constant, object_pairs_hook, **kw)\u001b[0m\n\u001b[1;32m    352\u001b[0m             \u001b[0mparse_int\u001b[0m \u001b[0;32mis\u001b[0m \u001b[0;32mNone\u001b[0m \u001b[0;32mand\u001b[0m \u001b[0mparse_float\u001b[0m \u001b[0;32mis\u001b[0m \u001b[0;32mNone\u001b[0m \u001b[0;32mand\u001b[0m\u001b[0;34m\u001b[0m\u001b[0;34m\u001b[0m\u001b[0m\n\u001b[1;32m    353\u001b[0m             parse_constant is None and object_pairs_hook is None and not kw):\n\u001b[0;32m--> 354\u001b[0;31m         \u001b[0;32mreturn\u001b[0m \u001b[0m_default_decoder\u001b[0m\u001b[0;34m.\u001b[0m\u001b[0mdecode\u001b[0m\u001b[0;34m(\u001b[0m\u001b[0ms\u001b[0m\u001b[0;34m)\u001b[0m\u001b[0;34m\u001b[0m\u001b[0;34m\u001b[0m\u001b[0m\n\u001b[0m\u001b[1;32m    355\u001b[0m     \u001b[0;32mif\u001b[0m \u001b[0mcls\u001b[0m \u001b[0;32mis\u001b[0m \u001b[0;32mNone\u001b[0m\u001b[0;34m:\u001b[0m\u001b[0;34m\u001b[0m\u001b[0;34m\u001b[0m\u001b[0m\n\u001b[1;32m    356\u001b[0m         \u001b[0mcls\u001b[0m \u001b[0;34m=\u001b[0m \u001b[0mJSONDecoder\u001b[0m\u001b[0;34m\u001b[0m\u001b[0;34m\u001b[0m\u001b[0m\n",
      "\u001b[0;32m~/anaconda3/lib/python3.6/json/decoder.py\u001b[0m in \u001b[0;36mdecode\u001b[0;34m(self, s, _w)\u001b[0m\n\u001b[1;32m    340\u001b[0m         \u001b[0mend\u001b[0m \u001b[0;34m=\u001b[0m \u001b[0m_w\u001b[0m\u001b[0;34m(\u001b[0m\u001b[0ms\u001b[0m\u001b[0;34m,\u001b[0m \u001b[0mend\u001b[0m\u001b[0;34m)\u001b[0m\u001b[0;34m.\u001b[0m\u001b[0mend\u001b[0m\u001b[0;34m(\u001b[0m\u001b[0;34m)\u001b[0m\u001b[0;34m\u001b[0m\u001b[0;34m\u001b[0m\u001b[0m\n\u001b[1;32m    341\u001b[0m         \u001b[0;32mif\u001b[0m \u001b[0mend\u001b[0m \u001b[0;34m!=\u001b[0m \u001b[0mlen\u001b[0m\u001b[0;34m(\u001b[0m\u001b[0ms\u001b[0m\u001b[0;34m)\u001b[0m\u001b[0;34m:\u001b[0m\u001b[0;34m\u001b[0m\u001b[0;34m\u001b[0m\u001b[0m\n\u001b[0;32m--> 342\u001b[0;31m             \u001b[0;32mraise\u001b[0m \u001b[0mJSONDecodeError\u001b[0m\u001b[0;34m(\u001b[0m\u001b[0;34m\"Extra data\"\u001b[0m\u001b[0;34m,\u001b[0m \u001b[0ms\u001b[0m\u001b[0;34m,\u001b[0m \u001b[0mend\u001b[0m\u001b[0;34m)\u001b[0m\u001b[0;34m\u001b[0m\u001b[0;34m\u001b[0m\u001b[0m\n\u001b[0m\u001b[1;32m    343\u001b[0m         \u001b[0;32mreturn\u001b[0m \u001b[0mobj\u001b[0m\u001b[0;34m\u001b[0m\u001b[0;34m\u001b[0m\u001b[0m\n\u001b[1;32m    344\u001b[0m \u001b[0;34m\u001b[0m\u001b[0m\n",
      "\u001b[0;31mJSONDecodeError\u001b[0m: Extra data: line 2 column 1 (char 220)"
     ]
    }
   ],
   "source": [
    "# Exploring only the BBC Online Dataset but all have the same format\n",
    "with codecs.open(data_path + dirs[1] + '/documents.json', encoding='utf-8') as f:\n",
    "    docs = json.load(f)\n",
    "    \n",
    "with codecs.open(data_path + dirs[1] + '/entities.json', encoding='utf-8') as f:\n",
    "    ents = json.load(f)\n",
    "\n",
    "with codecs.open(data_path + dirs[1] + '/relations.json', encoding='utf-8') as f:\n",
    "    rels = json.load(f)"
   ]
  },
  {
   "cell_type": "code",
   "execution_count": 4,
   "metadata": {},
   "outputs": [
    {
     "data": {
      "text/plain": [
       "{'_id': '3095FB15AFF7B552702E9EF46C083FDD',\n",
       " 'sourceName': 'BBC Online',\n",
       " 'sourceUrl': 'http://www.bbc.co.uk/news/world-middle-east-38605860',\n",
       " 'wordCount': 214,\n",
       " 'sentenceCount': 11,\n",
       " 'title': 'Syria accuses Israel of bombardment',\n",
       " 'text': 'Syria has accused Israel of bombarding an area west of Damascus, with reports of a military airport being hit.\\nState television quoted the army as saying several rockets landed in the airport compound in Mezzeh, Reuters news agency reports.\\nIt remains unclear if the alleged bombardment, which caused fires, has caused any casualties.\\nThe Israeli government has previously neither confirmed nor denied that it carries out strikes in Syria.\\nIt is thought to have bombed weapons shipments intended for Lebanon\\'s Hezbollah movement several times since Syria\\'s civil war began in 2011.\\nHezbollah, which fought a month-long war with Israel in 2006, has sent thousands of fighters to Syria to support President Bashar al-Assad\\'s forces.\\nState-run Syrian news agency Sana reported explosions at the Mezzeh military airport and said ambulances were rushing to the scene.\\n\"The army was quoted as warning Israel \"\"of the repercussions of the flagrant attack\"\", according to Reuters.\"\\nIn December, Syrian state media said an Israeli missile strike had targeted the airport in Mezzeh, causing fires but no casualties.\\nDays earlier, on 30 November, Israeli jets were reported to have fired missiles from Lebanese airspace into Syria, striking Sabboura, an area outside Damascus.\\nThe target was unclear but the highway from Lebanon to Damascus runs through the town.\\n'}"
      ]
     },
     "execution_count": 4,
     "metadata": {},
     "output_type": "execute_result"
    }
   ],
   "source": [
    "# sample document\n",
    "docs[0]"
   ]
  },
  {
   "cell_type": "code",
   "execution_count": 5,
   "metadata": {},
   "outputs": [
    {
     "data": {
      "text/plain": [
       "{'_id': '3095FB15AFF7B552702E9EF46C083FDD-0-0-5-Location',\n",
       " 'begin': 0,\n",
       " 'end': 5,\n",
       " 'type': 'Location',\n",
       " 'value': 'Syria',\n",
       " 'documentId': '3095FB15AFF7B552702E9EF46C083FDD',\n",
       " 'confidence': 0}"
      ]
     },
     "execution_count": 5,
     "metadata": {},
     "output_type": "execute_result"
    }
   ],
   "source": [
    "# sample entities entry\n",
    "ents[0]"
   ]
  },
  {
   "cell_type": "code",
   "execution_count": 6,
   "metadata": {},
   "outputs": [
    {
     "data": {
      "text/plain": [
       "{'_id': '3095FB15AFF7B552702E9EF46C083FDD-0-0-5-18-24-Dislikes',\n",
       " 'begin': 6,\n",
       " 'end': 17,\n",
       " 'sourceBegin': 0,\n",
       " 'sourceEnd': 5,\n",
       " 'source': 'Syria',\n",
       " 'targetBegin': 18,\n",
       " 'targetEnd': 24,\n",
       " 'target': 'Israel',\n",
       " 'type': 'Dislikes',\n",
       " 'value': 'has accused',\n",
       " 'documentId': '3095FB15AFF7B552702E9EF46C083FDD',\n",
       " 'confidence': 1}"
      ]
     },
     "execution_count": 6,
     "metadata": {},
     "output_type": "execute_result"
    }
   ],
   "source": [
    "# sample relation entry\n",
    "rels[0]"
   ]
  },
  {
   "cell_type": "code",
   "execution_count": 7,
   "metadata": {},
   "outputs": [
    {
     "data": {
      "text/plain": [
       "pandas.core.frame.DataFrame"
      ]
     },
     "execution_count": 7,
     "metadata": {},
     "output_type": "execute_result"
    }
   ],
   "source": [
    "# relations dataset\n",
    "rels_df = pd.io.json.json_normalize(rels)\n",
    "type(rels_df)"
   ]
  },
  {
   "cell_type": "code",
   "execution_count": 8,
   "metadata": {},
   "outputs": [
    {
     "data": {
      "text/plain": [
       "Index(['_id', 'begin', 'confidence', 'documentId', 'end', 'source',\n",
       "       'sourceBegin', 'sourceEnd', 'target', 'targetBegin', 'targetEnd',\n",
       "       'type', 'value'],\n",
       "      dtype='object')"
      ]
     },
     "execution_count": 8,
     "metadata": {},
     "output_type": "execute_result"
    }
   ],
   "source": [
    "rels_df.columns"
   ]
  },
  {
   "cell_type": "code",
   "execution_count": 9,
   "metadata": {},
   "outputs": [
    {
     "data": {
      "text/plain": [
       "CoLocated          132\n",
       "AlliesOf            26\n",
       "CommWith            26\n",
       "FightingAgainst     22\n",
       "BelongsTo           19\n",
       "InChargeOf          15\n",
       "HasAttrOf           14\n",
       "IsSynonymOf         13\n",
       "Apart                8\n",
       "Dislikes             5\n",
       "Likes                1\n",
       "Name: type, dtype: int64"
      ]
     },
     "execution_count": 9,
     "metadata": {},
     "output_type": "execute_result"
    }
   ],
   "source": [
    "# types of relations in BBC Online\n",
    "rels_df.type.value_counts()"
   ]
  },
  {
   "cell_type": "code",
   "execution_count": 10,
   "metadata": {},
   "outputs": [
    {
     "data": {
      "text/plain": [
       "Index(['_id', 'begin', 'confidence', 'documentId', 'end', 'type', 'value'], dtype='object')"
      ]
     },
     "execution_count": 10,
     "metadata": {},
     "output_type": "execute_result"
    }
   ],
   "source": [
    "# entities dataset\n",
    "ents_df = pd.io.json.json_normalize(ents)\n",
    "ents_df.columns"
   ]
  },
  {
   "cell_type": "code",
   "execution_count": 11,
   "metadata": {},
   "outputs": [
    {
     "data": {
      "text/plain": [
       "Organisation         298\n",
       "Location             225\n",
       "Person               215\n",
       "Nationality           54\n",
       "Temporal              43\n",
       "Quantity              31\n",
       "Weapon                20\n",
       "Money                  9\n",
       "DocumentReference      6\n",
       "Vehicle                5\n",
       "MilitaryPlatform       5\n",
       "CommsIdentifier        2\n",
       "Name: type, dtype: int64"
      ]
     },
     "execution_count": 11,
     "metadata": {},
     "output_type": "execute_result"
    }
   ],
   "source": [
    "# types of entities in BBC ONline\n",
    "ents_df.type.value_counts()"
   ]
  },
  {
   "cell_type": "code",
   "execution_count": 12,
   "metadata": {},
   "outputs": [],
   "source": [
    "# Dictionary implementation with range of values\n",
    "class RangeDict(dict):\n",
    "    def __getitem__(self, item):\n",
    "        if type(item) != range:\n",
    "            for key in self:\n",
    "                if item in key:\n",
    "                    return self[key]\n",
    "            raise KeyError(item)\n",
    "        else:\n",
    "            return super().__getitem__(item)\n"
   ]
  },
  {
   "cell_type": "code",
   "execution_count": 13,
   "metadata": {},
   "outputs": [],
   "source": [
    "# id of doc to RangeDicts of sentences\n",
    "id2doc = dict()\n",
    "\n",
    "for doc in docs:\n",
    "    id2doc[doc['_id']] = RangeDict()\n",
    "    \n",
    "    sents = doc['text'].split('.')[:-1]\n",
    "    i = 0\n",
    "    for sent in sents:\n",
    "        id2doc[doc['_id']][range(i, i+len(sent))] = sent\n",
    "        i += len(sent) + 1"
   ]
  },
  {
   "cell_type": "code",
   "execution_count": 14,
   "metadata": {},
   "outputs": [
    {
     "data": {
      "text/plain": [
       "{range(0, 131): 'Iraqi forces have seized full control of Mosul University in their battle with so-called Islamic State, Iraqi state television said',\n",
       " range(132, 243): '\\nMilitary forces have been attempting to retake the city - the last major IS stronghold in Iraq - since October',\n",
       " range(244, 351): '\\nIraqi officials said the IS group had used laboratories in the university complex to make chemical weapons',\n",
       " range(352, 456): \"\\nThe head of the country's counter-terrorism operations said retaking the area was a significant victory\",\n",
       " range(457, 563): '\\n\"\"\"This great scientific and cultural building was liberated by the heroes,\"\" Lt Gen Talib Shaghati, said',\n",
       " range(564, 667): ' \"\"The liberation of the University of Mosul means much, given its cultural, social and human symbolism',\n",
       " range(668, 762): '\"\"\"\\nElite troops had entered the compound on Friday as part of a major push into new territory',\n",
       " range(763, 856): \" \\nIraqi military officials claim they now control a large majority of the city's eastern half\",\n",
       " range(857, 959): '\\nThey also control three of the five key bridges crossing the river Tigris, which divides Mosul in two',\n",
       " range(960, 1118): '\\nThe bridges were targeted by coalition air strikes in October with the aim of limiting the ability of IS to resupply or reinforce their positions in the east',\n",
       " range(1119, 1230): '\\nThe campaign began in October, but got off to a slow start in the face of tough IS defence and counter-attacks',\n",
       " range(1231, 1364): '\\nBut significant gains along the river may open up western Mosul, which is still under IS control, to Iraqi forces seeking to advance'}"
      ]
     },
     "execution_count": 14,
     "metadata": {},
     "output_type": "execute_result"
    }
   ],
   "source": [
    "id2doc['DDC23537DF2DA27754B9327683DCA114']"
   ]
  },
  {
   "cell_type": "code",
   "execution_count": 15,
   "metadata": {},
   "outputs": [],
   "source": [
    "def add_sentence(rel):\n",
    "    try:\n",
    "        doc_id = rel['_id'].split('-')[0]\n",
    "        start = rel['sourceBegin']\n",
    "        rel['sentence'] = id2doc[doc_id][start]\n",
    "    \n",
    "    except:\n",
    "        rel['sentence'] = None\n",
    "    \n",
    "    return rel"
   ]
  },
  {
   "cell_type": "code",
   "execution_count": 16,
   "metadata": {},
   "outputs": [
    {
     "data": {
      "text/plain": [
       "{'_id': '3095FB15AFF7B552702E9EF46C083FDD-0-0-5-18-24-Dislikes',\n",
       " 'begin': 6,\n",
       " 'end': 17,\n",
       " 'sourceBegin': 0,\n",
       " 'sourceEnd': 5,\n",
       " 'source': 'Syria',\n",
       " 'targetBegin': 18,\n",
       " 'targetEnd': 24,\n",
       " 'target': 'Israel',\n",
       " 'type': 'Dislikes',\n",
       " 'value': 'has accused',\n",
       " 'documentId': '3095FB15AFF7B552702E9EF46C083FDD',\n",
       " 'confidence': 1,\n",
       " 'sentence': 'Syria has accused Israel of bombarding an area west of Damascus, with reports of a military airport being hit'}"
      ]
     },
     "execution_count": 16,
     "metadata": {},
     "output_type": "execute_result"
    }
   ],
   "source": [
    "add_sentence(rels[0])"
   ]
  },
  {
   "cell_type": "code",
   "execution_count": 19,
   "metadata": {},
   "outputs": [],
   "source": [
    "# returns documents and relations.\n",
    "def preprocess_re3d():\n",
    "    docs, rels = [], []\n",
    "    \n",
    "    for d in dirs:\n",
    "        try:\n",
    "            with open(data_path + '/' + d + '/documents.json') as f:\n",
    "                docs += json.loads(f.read())\n",
    "\n",
    "            with open(data_path + '/' + d + '/relations.json') as f:\n",
    "                rels += json.loads(f.read())\n",
    "        \n",
    "        except Exception as e:\n",
    "            print(e)\n",
    "            print(d)\n",
    "\n",
    "    id2doc = dict()\n",
    "    \n",
    "    for doc in docs:\n",
    "        id2doc[doc['_id']] = RangeDict()\n",
    "\n",
    "        sents = doc['text'].replace('\\xa0', ' ').split('.')[:-1]\n",
    "        i = 0\n",
    "        for sent in sents:\n",
    "            id2doc[doc['_id']][range(i, i+len(sent))] = sent\n",
    "            i += len(sent) + 1\n",
    "    \n",
    "    for rel in rels:\n",
    "        try:\n",
    "            doc_id = rel['_id'].split('-')[0]\n",
    "            start = rel['sourceBegin']\n",
    "            rel['sentence'] = id2doc[doc_id][start]\n",
    "\n",
    "        except:\n",
    "            rel['sentence'] = None\n",
    "    \n",
    "    return docs, rels"
   ]
  },
  {
   "cell_type": "code",
   "execution_count": 20,
   "metadata": {},
   "outputs": [],
   "source": [
    "docs, rels = preprocess_re3d()"
   ]
  },
  {
   "cell_type": "code",
   "execution_count": 21,
   "metadata": {},
   "outputs": [
    {
     "data": {
      "text/plain": [
       "1430"
      ]
     },
     "execution_count": 21,
     "metadata": {},
     "output_type": "execute_result"
    }
   ],
   "source": [
    "len(rels)"
   ]
  },
  {
   "cell_type": "code",
   "execution_count": 22,
   "metadata": {},
   "outputs": [
    {
     "data": {
      "text/plain": [
       "{'_id': '8BF4B60AA80B0601BE12F0164E2E7001-5-102-133-137-143-CoLocated',\n",
       " 'begin': 1132,\n",
       " 'end': 1134,\n",
       " 'sourceBegin': 1100,\n",
       " 'sourceEnd': 1131,\n",
       " 'source': 'the UN Special Envoy de Mistura',\n",
       " 'targetBegin': 1135,\n",
       " 'targetEnd': 1141,\n",
       " 'target': 'Geneva',\n",
       " 'type': 'CoLocated',\n",
       " 'value': 'in',\n",
       " 'documentId': '8BF4B60AA80B0601BE12F0164E2E7001',\n",
       " 'confidence': 1,\n",
       " 'sentence': ' It is being conducted in full coordination and support of the intra-Syrian talks that will be held by the UN Special Envoy de Mistura in Geneva in February, and in view of the Brussels Conference on Syria and the region which will be hosted by the EU later in the spring'}"
      ]
     },
     "execution_count": 22,
     "metadata": {},
     "output_type": "execute_result"
    }
   ],
   "source": [
    "rels[-1]"
   ]
  },
  {
   "cell_type": "code",
   "execution_count": 28,
   "metadata": {},
   "outputs": [],
   "source": [
    "data = pd.DataFrame.from_dict(rels)"
   ]
  },
  {
   "cell_type": "code",
   "execution_count": 30,
   "metadata": {},
   "outputs": [
    {
     "data": {
      "text/plain": [
       "CoLocated          478\n",
       "FightingAgainst    207\n",
       "BelongsTo          147\n",
       "CommWith           113\n",
       "HasAttrOf          112\n",
       "IsSynonymOf        105\n",
       "InChargeOf          97\n",
       "AlliesOf            63\n",
       "Likes               45\n",
       "Dislikes            35\n",
       "Apart               28\n",
       "Name: type, dtype: int64"
      ]
     },
     "execution_count": 30,
     "metadata": {},
     "output_type": "execute_result"
    }
   ],
   "source": [
    "data.type.value_counts()"
   ]
  },
  {
   "cell_type": "markdown",
   "metadata": {},
   "source": [
    "The relation classifications seem very relevant to our use case. We can train few shot relation classification model with these instances for more insights. "
   ]
  }
 ],
 "metadata": {
  "kernelspec": {
   "display_name": "Python 3",
   "language": "python",
   "name": "python3"
  },
  "language_info": {
   "codemirror_mode": {
    "name": "ipython",
    "version": 3
   },
   "file_extension": ".py",
   "mimetype": "text/x-python",
   "name": "python",
   "nbconvert_exporter": "python",
   "pygments_lexer": "ipython3",
   "version": "3.6.9"
  }
 },
 "nbformat": 4,
 "nbformat_minor": 2
}
