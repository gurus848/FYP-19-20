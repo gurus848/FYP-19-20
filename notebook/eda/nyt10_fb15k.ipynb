{
 "cells": [
  {
   "cell_type": "code",
   "execution_count": 7,
   "metadata": {},
   "outputs": [],
   "source": [
    "import ast"
   ]
  },
  {
   "cell_type": "code",
   "execution_count": 3,
   "metadata": {},
   "outputs": [],
   "source": [
    "data_dir = '../../data/'"
   ]
  },
  {
   "cell_type": "code",
   "execution_count": 6,
   "metadata": {},
   "outputs": [],
   "source": [
    "with open(data_dir + 'nyt10/nyt10_val.txt') as f:\n",
    "    val_data = f.read().split('\\n')"
   ]
  },
  {
   "cell_type": "code",
   "execution_count": 14,
   "metadata": {},
   "outputs": [
    {
     "data": {
      "text/plain": [
       "{'text': 'More than 2.5 million cubic yards of contaminated mud will be dredged from Onondaga Lake , near Syracuse , under a consent decree between the state and Honeywell International that was announced yesterday .',\n",
       " 'relation': '/location/location/contains',\n",
       " 'h': {'id': '/guid/9202a8c04000641f8000000000038574',\n",
       "  'name': 'Syracuse',\n",
       "  'pos': [96, 104]},\n",
       " 't': {'id': '/guid/9202a8c04000641f80000000002fe8e4',\n",
       "  'name': 'Onondaga Lake',\n",
       "  'pos': [75, 88]}}"
      ]
     },
     "execution_count": 14,
     "metadata": {},
     "output_type": "execute_result"
    }
   ],
   "source": [
    "ast.literal_eval(val_data[1])"
   ]
  },
  {
   "cell_type": "code",
   "execution_count": 29,
   "metadata": {},
   "outputs": [],
   "source": [
    "ents = set()\n",
    "rels = set()\n",
    "for r in val_data[:-1]:\n",
    "    d = ast.literal_eval(r)\n",
    "    \n",
    "    if d['h']['name'] < d['t']['name']:\n",
    "        key = d['h']['name'] + '-' + d['t']['name']\n",
    "    else:\n",
    "        key = d['t']['name'] + '-' + d['h']['name']\n",
    "        \n",
    "    ents.add(d['h']['name'])\n",
    "    ents.add(d['t']['name'])\n",
    "    rels.add(key)\n",
    "\n",
    "ents = list(ents)"
   ]
  },
  {
   "cell_type": "code",
   "execution_count": 30,
   "metadata": {},
   "outputs": [
    {
     "data": {
      "text/plain": [
       "27613"
      ]
     },
     "execution_count": 30,
     "metadata": {},
     "output_type": "execute_result"
    }
   ],
   "source": [
    "len(rels)"
   ]
  },
  {
   "cell_type": "code",
   "execution_count": 31,
   "metadata": {},
   "outputs": [
    {
     "data": {
      "text/plain": [
       "19506"
      ]
     },
     "execution_count": 31,
     "metadata": {},
     "output_type": "execute_result"
    }
   ],
   "source": [
    "len(ents)"
   ]
  },
  {
   "cell_type": "code",
   "execution_count": 27,
   "metadata": {},
   "outputs": [],
   "source": [
    "import random"
   ]
  },
  {
   "cell_type": "code",
   "execution_count": 32,
   "metadata": {},
   "outputs": [
    {
     "data": {
      "text/plain": [
       "'Richard Pollock'"
      ]
     },
     "execution_count": 32,
     "metadata": {},
     "output_type": "execute_result"
    }
   ],
   "source": [
    "ents[2]"
   ]
  },
  {
   "cell_type": "code",
   "execution_count": 34,
   "metadata": {},
   "outputs": [],
   "source": [
    "# negative sampling\n",
    "neg_samples = set()\n",
    "for i in range(10):\n",
    "    while True:\n",
    "        e1 = ents[random.randrange(0, len(ents))]\n",
    "        e2 = ents[random.randrange(0, len(ents))]\n",
    "        if e1 < e2:\n",
    "            key = e1 + '-' + e2\n",
    "        else:\n",
    "            key = e2 + '-' + e1\n",
    "        \n",
    "        if key not in relations:\n",
    "            neg_samples.add(key)\n",
    "            break"
   ]
  },
  {
   "cell_type": "code",
   "execution_count": 35,
   "metadata": {},
   "outputs": [
    {
     "data": {
      "text/plain": [
       "{'Bill Paxton-Don Cheadle',\n",
       " 'Casey Affleck-National Transportation Safety Board',\n",
       " 'Chad Cordero-Mary Lamb',\n",
       " 'Daniel Johnston-Xuzhou',\n",
       " 'Gavi-Jack Newfield',\n",
       " 'Hawkeye-Lennon',\n",
       " 'Jonathan Harr-United Artists',\n",
       " 'Kenneth R. Miller-Woodrow Wilson',\n",
       " 'Peter Coyote-Vinny Castilla',\n",
       " 'Port Orford-William'}"
      ]
     },
     "execution_count": 35,
     "metadata": {},
     "output_type": "execute_result"
    }
   ],
   "source": [
    "neg_samples"
   ]
  },
  {
   "cell_type": "code",
   "execution_count": null,
   "metadata": {},
   "outputs": [],
   "source": []
  }
 ],
 "metadata": {
  "kernelspec": {
   "display_name": "ENV",
   "language": "python",
   "name": "env"
  },
  "language_info": {
   "codemirror_mode": {
    "name": "ipython",
    "version": 3
   },
   "file_extension": ".py",
   "mimetype": "text/x-python",
   "name": "python",
   "nbconvert_exporter": "python",
   "pygments_lexer": "ipython3",
   "version": "3.6.3"
  }
 },
 "nbformat": 4,
 "nbformat_minor": 2
}
