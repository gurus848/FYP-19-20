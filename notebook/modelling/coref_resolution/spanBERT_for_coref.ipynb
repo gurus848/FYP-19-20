{
 "cells": [
  {
   "cell_type": "markdown",
   "metadata": {},
   "source": [
    "## SpanBERT for coreference resolution\n",
    "\n",
    "documentation: https://github.com/mandarjoshi90/coref"
   ]
  },
  {
   "cell_type": "markdown",
   "metadata": {},
   "source": [
    "### Preprocessing\n",
    "\n",
    "Need to process a document to be resolved into jsonline files as described in the documentation."
   ]
  },
  {
   "cell_type": "code",
   "execution_count": 2,
   "metadata": {},
   "outputs": [],
   "source": [
    "import json\n",
    "import sys\n",
    "sys.path.append('../../../')\n",
    "from src.preparation.data_loading import read_dossier"
   ]
  },
  {
   "cell_type": "code",
   "execution_count": 2,
   "metadata": {},
   "outputs": [],
   "source": [
    "articles = read_dossier.read_dossier()\n",
    "dos = articles[0]"
   ]
  },
  {
   "cell_type": "code",
   "execution_count": 3,
   "metadata": {},
   "outputs": [
    {
     "name": "stderr",
     "output_type": "stream",
     "text": [
      "WARNING: Logging before flag parsing goes to stderr.\n",
      "W0307 10:07:12.222887 140439372150592 deprecation_wrapper.py:119] From ../../../models/coref/bert/tokenization.py:125: The name tf.gfile.GFile is deprecated. Please use tf.io.gfile.GFile instead.\n",
      "\n"
     ]
    }
   ],
   "source": [
    "# BERT Tokenizer\n",
    "sys.path.append('../../../models/coref/')\n",
    "from bert import tokenization\n",
    "tokenizer = tokenization.FullTokenizer(vocab_file='../../../models/bert_large/vocab.txt', do_lower_case=False)"
   ]
  },
  {
   "cell_type": "markdown",
   "metadata": {},
   "source": [
    "### IMPORTANT"
   ]
  },
  {
   "cell_type": "code",
   "execution_count": 9,
   "metadata": {},
   "outputs": [],
   "source": [
    "def get_subtoken_map(text):\n",
    "    subtoken_map = list()\n",
    "    i = -1\n",
    "    for t in range(len(text)):\n",
    "        i += 0 if text[t].startswith('##') else 1\n",
    "        subtoken_map.append(i)\n",
    "    return [0] + subtoken_map + [i]\n",
    "\n",
    "\n",
    "def get_sentence_map(text):\n",
    "    sent_map = list()\n",
    "    i = 0\n",
    "    for t in range(len(text)):\n",
    "        if text[t] == \".\":\n",
    "            i += 1\n",
    "        sent_map.append(i)\n",
    "    return [0] + sent_map + [i]\n",
    "\n",
    "\n",
    "def create_jsonline(text):\n",
    "    sents = tokenizer.tokenize(text)\n",
    "    data = dict()\n",
    "    data['clusters'] = []\n",
    "    data['doc_key'] = 'nw'\n",
    "    data['sentences'] = [['[CLS]'] + sents + ['[SEP]']]\n",
    "    # setting to No speaker for every subword at the moment\n",
    "    data['speakers'] = [['[SPL]'] + list(map(lambda x: \"\"*len(x), sents)) + ['[SPL]']]\n",
    "    data['sentence_map'] = get_sentence_map(sents)\n",
    "    data['subtoken_map'] = get_subtoken_map(sents)\n",
    "    return data\n",
    "\n",
    "\n",
    "import string\n",
    "def detokenize_bert(tokens):\n",
    "    text = \"\"\n",
    "    for t in tokens:\n",
    "        if t.startswith(\"##\"):\n",
    "            text += t[2:]\n",
    "        \n",
    "        elif t in string.punctuation:\n",
    "            text += t\n",
    "        \n",
    "        else:\n",
    "            text += (\"\", \" \")[text != \"\"] + t\n",
    "    return text"
   ]
  },
  {
   "cell_type": "code",
   "execution_count": 5,
   "metadata": {},
   "outputs": [],
   "source": [
    "# create example from dossier\n",
    "# the model does not work with about 1000 tokens\n",
    "text = '.'.join(dos.split('.')[:12]) + \".\"\n",
    "example = create_jsonline(text)\n",
    "\n",
    "with open(\"../../../models/dossier.jsonlines\", 'w') as f:\n",
    "    f.write(json.dumps(example) + '\\n')"
   ]
  },
  {
   "cell_type": "code",
   "execution_count": 8,
   "metadata": {},
   "outputs": [
    {
     "name": "stdout",
     "output_type": "stream",
     "text": [
      "{'clusters': [], 'doc_key': 'nw', 'sentences': [['[CLS]', '1', '.', 'Speaking', 'to', 'a', 'trusted', 'com', '##pa', '##tri', '##ot', 'in', 'June', '2016', 'sources', 'A', 'and', 'B', ',', 'a', 'senior', 'Russian', 'Foreign', 'Ministry', 'figure', 'and', 'a', 'former', 'top', 'level', 'Russian', 'intelligence', 'officer', 'still', 'active', 'inside', 'the', 'K', '##rem', '##lin', 'respectively', ',', 'the', 'Russian', 'authorities', 'had', 'been', 'cult', '##ivating', 'and', 'supporting', 'US', 'Republican', 'presidential', 'candidate', ',', 'Donald', 'T', '##R', '##UM', '##P', 'for', 'at', 'least', '5', 'years', '.', 'Source', 'B', 'asserted', 'that', 'the', 'T', '##R', '##UM', '##P', 'operation', 'was', 'both', 'supported', 'and', 'directed', 'by', 'Russian', 'President', 'Vladimir', 'P', '##UT', '##IN', '.', 'Its', 'aim', 'was', 'to', 'so', '##w', 'disco', '##rd', 'and', 'di', '##sun', '##ity', 'within', 'the', 'US', 'itself', ',', 'but', 'more', 'especially', 'within', 'the', 'Trans', '##at', '##lant', '##ic', 'alliance', 'which', 'was', 'viewed', 'as', 'in', '##im', '##ical', 'to', 'Russia', \"'\", 's', 'interests', '.', 'Source', 'C', ',', 'a', 'senior', 'Russian', 'financial', 'official', 'said', 'the', 'T', '##R', '##UM', '##P', 'operation', 'should', 'be', 'seen', 'in', 'terms', 'of', 'P', '##UT', '##IN', \"'\", 'S', 'desire', 'to', 'return', 'to', 'Nine', '##teen', '##th', 'Century', \"'\", 'Great', 'Power', \"'\", 'politics', 'anchored', 'upon', 'countries', \"'\", 'interests', 'rather', 'than', 'the', 'ideals', '-', 'based', 'international', 'order', 'established', 'after', 'World', 'War', 'Two', '.', 'She', 'had', 'overheard', 'P', '##UT', '##IN', 'talking', 'in', 'this', 'way', 'to', 'close', 'associates', 'on', 'several', 'occasions', '.', 'In', 'terms', 'of', 'specific', '##s', ',', 'Source', 'A', 'con', '##fi', '##ded', 'that', 'the', 'K', '##rem', '##lin', 'had', 'been', 'feeding', 'T', '##R', '##UM', '##P', 'and', 'his', 'team', 'valuable', 'intelligence', 'on', 'his', 'opponents', ',', 'including', 'Democratic', 'presidential', 'candidate', 'Hillary', 'C', '##L', '##IN', '##TO', '##N', ',', 'for', 'several', 'years', '(', 'see', 'more', 'below', ')', '.', 'This', 'was', 'confirmed', 'by', 'Source', 'D', ',', 'a', 'close', 'associate', 'of', 'T', '##R', '##UM', '##P', 'who', 'had', 'organized', 'and', 'managed', 'his', 'recent', 'trips', 'to', 'Moscow', 'who', 'reported', ',', 'also', 'in', 'June', '2016', ',', 'that', 'this', 'Russian', 'intelligence', 'had', 'been', 'very', 'helpful', '.', 'The', 'K', '##rem', '##lin', \"'\", 's', 'cultivation', 'operation', 'on', 'T', '##R', '##UM', '##P', 'also', 'had', 'comprised', 'offering', 'him', 'various', 'lucrative', 'real', 'estate', 'develop', 'me', 'business', 'deals', 'in', 'Russia', ',', 'especially', 'in', 'relation', 'to', 'the', 'ongoing', '2018', 'World', 'Cup', 'soccer', 'tournament', '.', 'However', ',', 'so', 'far', ',', 'for', 'reasons', 'unknown', ',', 'T', '##R', '##UM', '##P', 'had', 'not', 'taken', 'up', 'any', 'of', 'these', '.', 'However', ',', 'there', 'were', 'other', 'aspects', 'to', 'T', '##R', '##UM', '##P', \"'\", 's', 'engagement', 'with', 'the', 'Russian', 'authorities', '.', 'One', 'which', 'had', 'borne', 'fruit', 'for', 'them', 'was', 'to', 'exploit', 'T', '##R', '##UM', '##P', \"'\", 'S', 'personal', 'obsession', '##s', 'and', 'sexual', 'per', '##version', 'in', 'order', 'to', 'obtain', 'suitable', \"'\", 'k', '##om', '##p', '##roma', '##t', \"'\", '(', 'com', '##p', '##rom', '##ising', 'material', ')', 'on', 'him', '.', '[SEP]']], 'speakers': [['[SPL]', '', '', '', '', '', '', '', '', '', '', '', '', '', '', '', '', '', '', '', '', '', '', '', '', '', '', '', '', '', '', '', '', '', '', '', '', '', '', '', '', '', '', '', '', '', '', '', '', '', '', '', '', '', '', '', '', '', '', '', '', '', '', '', '', '', '', '', '', '', '', '', '', '', '', '', '', '', '', '', '', '', '', '', '', '', '', '', '', '', '', '', '', '', '', '', '', '', '', '', '', '', '', '', '', '', '', '', '', '', '', '', '', '', '', '', '', '', '', '', '', '', '', '', '', '', '', '', '', '', '', '', '', '', '', '', '', '', '', '', '', '', '', '', '', '', '', '', '', '', '', '', '', '', '', '', '', '', '', '', '', '', '', '', '', '', '', '', '', '', '', '', '', '', '', '', '', '', '', '', '', '', '', '', '', '', '', '', '', '', '', '', '', '', '', '', '', '', '', '', '', '', '', '', '', '', '', '', '', '', '', '', '', '', '', '', '', '', '', '', '', '', '', '', '', '', '', '', '', '', '', '', '', '', '', '', '', '', '', '', '', '', '', '', '', '', '', '', '', '', '', '', '', '', '', '', '', '', '', '', '', '', '', '', '', '', '', '', '', '', '', '', '', '', '', '', '', '', '', '', '', '', '', '', '', '', '', '', '', '', '', '', '', '', '', '', '', '', '', '', '', '', '', '', '', '', '', '', '', '', '', '', '', '', '', '', '', '', '', '', '', '', '', '', '', '', '', '', '', '', '', '', '', '', '', '', '', '', '', '', '', '', '', '', '', '', '', '', '', '', '', '', '', '', '', '', '', '', '', '', '', '', '', '', '', '', '', '', '', '', '', '', '', '', '', '', '', '', '', '', '', '', '', '', '', '', '', '', '', '', '', '', '', '', '', '', '', '', '', '', '', '', '', '', '', '', '', '', '', '', '', '', '', '', '', '', '', '', '', '', '', '', '', '', '', '[SPL]']], 'sentence_map': [0, 0, 1, 1, 1, 1, 1, 1, 1, 1, 1, 1, 1, 1, 1, 1, 1, 1, 1, 1, 1, 1, 1, 1, 1, 1, 1, 1, 1, 1, 1, 1, 1, 1, 1, 1, 1, 1, 1, 1, 1, 1, 1, 1, 1, 1, 1, 1, 1, 1, 1, 1, 1, 1, 1, 1, 1, 1, 1, 1, 1, 1, 1, 1, 1, 1, 2, 2, 2, 2, 2, 2, 2, 2, 2, 2, 2, 2, 2, 2, 2, 2, 2, 2, 2, 2, 2, 2, 2, 3, 3, 3, 3, 3, 3, 3, 3, 3, 3, 3, 3, 3, 3, 3, 3, 3, 3, 3, 3, 3, 3, 3, 3, 3, 3, 3, 3, 3, 3, 3, 3, 3, 3, 3, 3, 3, 3, 3, 3, 4, 4, 4, 4, 4, 4, 4, 4, 4, 4, 4, 4, 4, 4, 4, 4, 4, 4, 4, 4, 4, 4, 4, 4, 4, 4, 4, 4, 4, 4, 4, 4, 4, 4, 4, 4, 4, 4, 4, 4, 4, 4, 4, 4, 4, 4, 4, 4, 4, 4, 4, 4, 4, 4, 4, 4, 4, 4, 5, 5, 5, 5, 5, 5, 5, 5, 5, 5, 5, 5, 5, 5, 5, 5, 5, 6, 6, 6, 6, 6, 6, 6, 6, 6, 6, 6, 6, 6, 6, 6, 6, 6, 6, 6, 6, 6, 6, 6, 6, 6, 6, 6, 6, 6, 6, 6, 6, 6, 6, 6, 6, 6, 6, 6, 6, 6, 6, 6, 6, 6, 6, 6, 6, 6, 6, 6, 6, 7, 7, 7, 7, 7, 7, 7, 7, 7, 7, 7, 7, 7, 7, 7, 7, 7, 7, 7, 7, 7, 7, 7, 7, 7, 7, 7, 7, 7, 7, 7, 7, 7, 7, 7, 7, 7, 7, 7, 7, 7, 7, 8, 8, 8, 8, 8, 8, 8, 8, 8, 8, 8, 8, 8, 8, 8, 8, 8, 8, 8, 8, 8, 8, 8, 8, 8, 8, 8, 8, 8, 8, 8, 8, 8, 8, 8, 8, 8, 8, 8, 8, 8, 9, 9, 9, 9, 9, 9, 9, 9, 9, 9, 9, 9, 9, 9, 9, 9, 9, 9, 9, 9, 9, 10, 10, 10, 10, 10, 10, 10, 10, 10, 10, 10, 10, 10, 10, 10, 10, 10, 10, 10, 11, 11, 11, 11, 11, 11, 11, 11, 11, 11, 11, 11, 11, 11, 11, 11, 11, 11, 11, 11, 11, 11, 11, 11, 11, 11, 11, 11, 11, 11, 11, 11, 11, 11, 11, 11, 11, 11, 11, 11, 11, 11, 11, 11, 11, 12, 12], 'subtoken_map': [0, 0, 1, 2, 3, 4, 5, 6, 6, 6, 6, 7, 8, 9, 10, 11, 12, 13, 14, 15, 16, 17, 18, 19, 20, 21, 22, 23, 24, 25, 26, 27, 28, 29, 30, 31, 32, 33, 33, 33, 34, 35, 36, 37, 38, 39, 40, 41, 41, 42, 43, 44, 45, 46, 47, 48, 49, 50, 50, 50, 50, 51, 52, 53, 54, 55, 56, 57, 58, 59, 60, 61, 62, 62, 62, 62, 63, 64, 65, 66, 67, 68, 69, 70, 71, 72, 73, 73, 73, 74, 75, 76, 77, 78, 79, 79, 80, 80, 81, 82, 82, 82, 83, 84, 85, 86, 87, 88, 89, 90, 91, 92, 93, 93, 93, 93, 94, 95, 96, 97, 98, 99, 99, 99, 100, 101, 102, 103, 104, 105, 106, 107, 108, 109, 110, 111, 112, 113, 114, 115, 116, 116, 116, 116, 117, 118, 119, 120, 121, 122, 123, 124, 124, 124, 125, 126, 127, 128, 129, 130, 131, 131, 131, 132, 133, 134, 135, 136, 137, 138, 139, 140, 141, 142, 143, 144, 145, 146, 147, 148, 149, 150, 151, 152, 153, 154, 155, 156, 157, 158, 159, 160, 160, 160, 161, 162, 163, 164, 165, 166, 167, 168, 169, 170, 171, 172, 173, 174, 175, 175, 176, 177, 178, 179, 179, 179, 180, 181, 182, 182, 182, 183, 184, 185, 186, 186, 186, 186, 187, 188, 189, 190, 191, 192, 193, 194, 195, 196, 197, 198, 199, 200, 201, 201, 201, 201, 201, 202, 203, 204, 205, 206, 207, 208, 209, 210, 211, 212, 213, 214, 215, 216, 217, 218, 219, 220, 221, 222, 223, 223, 223, 223, 224, 225, 226, 227, 228, 229, 230, 231, 232, 233, 234, 235, 236, 237, 238, 239, 240, 241, 242, 243, 244, 245, 246, 247, 248, 249, 250, 251, 252, 252, 252, 253, 254, 255, 256, 257, 258, 258, 258, 258, 259, 260, 261, 262, 263, 264, 265, 266, 267, 268, 269, 270, 271, 272, 273, 274, 275, 276, 277, 278, 279, 280, 281, 282, 283, 284, 285, 286, 287, 288, 289, 290, 291, 292, 293, 294, 295, 296, 296, 296, 296, 297, 298, 299, 300, 301, 302, 303, 304, 305, 306, 307, 308, 309, 310, 311, 312, 312, 312, 312, 313, 314, 315, 316, 317, 318, 319, 320, 321, 322, 323, 324, 325, 326, 327, 328, 329, 330, 331, 331, 331, 331, 332, 333, 334, 335, 335, 336, 337, 338, 338, 339, 340, 341, 342, 343, 344, 345, 345, 345, 345, 345, 346, 347, 348, 348, 348, 348, 349, 350, 351, 352, 353, 353]}\n"
     ]
    }
   ],
   "source": [
    "print(example)"
   ]
  },
  {
   "cell_type": "markdown",
   "metadata": {},
   "source": [
    "### Evaluation"
   ]
  },
  {
   "cell_type": "code",
   "execution_count": 4,
   "metadata": {},
   "outputs": [],
   "source": [
    "with open(\"../../../models/predictions.jsonlines\", 'r') as f:\n",
    "    preds = json.loads(f.read())"
   ]
  },
  {
   "cell_type": "code",
   "execution_count": 5,
   "metadata": {},
   "outputs": [
    {
     "name": "stdout",
     "output_type": "stream",
     "text": [
      "[[[51, 60], [72, 75], [140, 143], [224, 227], [229, 229], [234, 234], [268, 271], [277, 277], [308, 311], [316, 316], [349, 352], [368, 373], [390, 395], [423, 423]], [[71, 76], [90, 90], [139, 144]], [[103, 105], [105, 105]], [[42, 44], [125, 127], [326, 326], [376, 378], [386, 386]], [[83, 88], [151, 155], [191, 193]], [[130, 137], [188, 188]], [[67, 68], [211, 212]], [[36, 39], [217, 220], [299, 304]], [[223, 223], [257, 257]], [[12, 13], [287, 288]], [[317, 338], [359, 359]]]\n"
     ]
    }
   ],
   "source": [
    "print(preds['predicted_clusters'])"
   ]
  },
  {
   "cell_type": "code",
   "execution_count": 6,
   "metadata": {},
   "outputs": [
    {
     "ename": "NameError",
     "evalue": "name 'text' is not defined",
     "output_type": "error",
     "traceback": [
      "\u001b[0;31m---------------------------------------------------------------------------\u001b[0m",
      "\u001b[0;31mNameError\u001b[0m                                 Traceback (most recent call last)",
      "\u001b[0;32m<ipython-input-6-c1fc30fdcd07>\u001b[0m in \u001b[0;36m<module>\u001b[0;34m\u001b[0m\n\u001b[1;32m      1\u001b[0m \u001b[0;31m# input text\u001b[0m\u001b[0;34m\u001b[0m\u001b[0;34m\u001b[0m\u001b[0;34m\u001b[0m\u001b[0m\n\u001b[0;32m----> 2\u001b[0;31m \u001b[0mprint\u001b[0m\u001b[0;34m(\u001b[0m\u001b[0mtext\u001b[0m\u001b[0;34m)\u001b[0m\u001b[0;34m\u001b[0m\u001b[0;34m\u001b[0m\u001b[0m\n\u001b[0m",
      "\u001b[0;31mNameError\u001b[0m: name 'text' is not defined"
     ]
    }
   ],
   "source": [
    "# input text\n",
    "print(text)"
   ]
  },
  {
   "cell_type": "code",
   "execution_count": 10,
   "metadata": {},
   "outputs": [
    {
     "name": "stdout",
     "output_type": "stream",
     "text": [
      "US Republican presidential candidate, Donald TRUMP\n",
      "the TRUMP operation\n",
      "the US itself\n",
      "the Russian authorities\n",
      "Russian President Vladimir PUTIN\n",
      "Source C, a senior Russian financial official\n",
      "Source B\n",
      "the Kremlin\n",
      "feeding\n",
      "June 2016\n",
      "various lucrative real estate develop me business deals in Russia, especially in relation to the ongoing 2018 World Cup soccer tournament\n"
     ]
    }
   ],
   "source": [
    "# predicted coreference clusters\n",
    "for cluster in preds['predicted_clusters']:\n",
    "    i, j = cluster[0]\n",
    "    first_mention = preds['sentences'][0][i: j+1]\n",
    "    print(detokenize_bert(first_mention))\n",
    "    # print([detokenize_bert(preds['sentences'][0][i: j+1]) for (i, j) in cluster], \"\\n\")"
   ]
  },
  {
   "cell_type": "code",
   "execution_count": 12,
   "metadata": {},
   "outputs": [
    {
     "name": "stdout",
     "output_type": "stream",
     "text": [
      "['.']\n",
      "['Speaking']\n",
      "['a', 'trusted', 'com', '##pa', '##tri', '##ot']\n",
      "['June', '2016']\n",
      "['June', '2016', 'sources', 'A', 'and', 'B', ',', 'a', 'senior', 'Russian', 'Foreign', 'Ministry', 'figure', 'and', 'a', 'former', 'top', 'level', 'Russian', 'intelligence', 'officer', 'still', 'active', 'inside', 'the', 'K', '##rem', '##lin', 'respectively']\n",
      "['June', '2016', 'sources', 'A', 'and', 'B', ',', 'a', 'senior', 'Russian', 'Foreign', 'Ministry', 'figure', 'and', 'a', 'former', 'top', 'level', 'Russian', 'intelligence', 'officer', 'still', 'active', 'inside', 'the', 'K', '##rem', '##lin', 'respectively', ',']\n",
      "['sources', 'A', 'and', 'B', ',', 'a', 'senior', 'Russian', 'Foreign', 'Ministry', 'figure', 'and', 'a', 'former', 'top', 'level', 'Russian', 'intelligence', 'officer', 'still', 'active', 'inside', 'the', 'K', '##rem', '##lin', 'respectively']\n",
      "['a', 'senior', 'Russian', 'Foreign', 'Ministry', 'figure']\n",
      "['Russian', 'Foreign', 'Ministry']\n",
      "['Foreign']\n",
      "['Foreign', 'Ministry']\n",
      "['Ministry']\n",
      "['a']\n",
      "['a', 'former', 'top', 'level', 'Russian', 'intelligence', 'officer']\n",
      "['a', 'former', 'top', 'level', 'Russian', 'intelligence', 'officer', 'still', 'active', 'inside']\n",
      "['a', 'former', 'top', 'level', 'Russian', 'intelligence', 'officer', 'still', 'active', 'inside', 'the', 'K', '##rem', '##lin']\n",
      "['a', 'former', 'top', 'level', 'Russian', 'intelligence', 'officer', 'still', 'active', 'inside', 'the', 'K', '##rem', '##lin', 'respectively']\n",
      "['inside']\n",
      "['the', 'K', '##rem', '##lin']\n",
      "['respectively']\n",
      "[',']\n",
      "['the']\n",
      "['the', 'Russian', 'authorities']\n",
      "['the', 'Russian', 'authorities', 'had', 'been', 'cult', '##ivating', 'and', 'supporting', 'US', 'Republican', 'presidential', 'candidate', ',', 'Donald', 'T', '##R', '##UM', '##P', 'for', 'at', 'least', '5', 'years']\n",
      "['cult', '##ivating']\n",
      "['supporting']\n",
      "['US', 'Republican', 'presidential', 'candidate', ',', 'Donald', 'T', '##R', '##UM', '##P']\n",
      "['US', 'Republican', 'presidential', 'candidate', ',', 'Donald', 'T', '##R', '##UM', '##P', 'for', 'at', 'least', '5', 'years']\n",
      "['at']\n",
      "['at', 'least']\n",
      "['at', 'least', '5']\n",
      "['at', 'least', '5', 'years']\n",
      "['Source', 'B']\n",
      "['Source', 'B', 'asserted', 'that', 'the', 'T', '##R', '##UM', '##P', 'operation', 'was', 'both', 'supported', 'and', 'directed', 'by', 'Russian', 'President', 'Vladimir', 'P', '##UT', '##IN']\n",
      "['the', 'T', '##R', '##UM', '##P', 'operation']\n",
      "['the', 'T', '##R', '##UM', '##P', 'operation', 'was', 'both', 'supported', 'and', 'directed', 'by', 'Russian', 'President', 'Vladimir', 'P', '##UT', '##IN']\n",
      "['T', '##R', '##UM', '##P']\n",
      "['directed']\n",
      "['Russian', 'President', 'Vladimir', 'P', '##UT', '##IN']\n",
      "['Its']\n",
      "['Its', 'aim']\n",
      "['was']\n",
      "['the', 'US', 'itself']\n",
      "['the', 'US', 'itself', ',', 'but', 'more', 'especially', 'within', 'the', 'Trans', '##at', '##lant', '##ic', 'alliance', 'which', 'was', 'viewed', 'as', 'in', '##im', '##ical', 'to', 'Russia', \"'\", 's', 'interests']\n",
      "['itself']\n",
      "['but']\n",
      "['the', 'Trans', '##at', '##lant', '##ic', 'alliance', 'which', 'was', 'viewed', 'as', 'in', '##im', '##ical', 'to', 'Russia', \"'\", 's']\n",
      "['the', 'Trans', '##at', '##lant', '##ic', 'alliance', 'which', 'was', 'viewed', 'as', 'in', '##im', '##ical', 'to', 'Russia', \"'\", 's', 'interests']\n",
      "['was']\n",
      "['viewed']\n",
      "['Russia', \"'\", 's']\n",
      "['Source', 'C', ',', 'a', 'senior', 'Russian', 'financial', 'official']\n",
      "['Source', 'C', ',', 'a', 'senior', 'Russian', 'financial', 'official', 'said', 'the', 'T', '##R', '##UM', '##P', 'operation']\n",
      "['said']\n",
      "['the', 'T', '##R', '##UM', '##P', 'operation']\n",
      "['T', '##R', '##UM', '##P']\n",
      "['seen']\n",
      "['P', '##UT', '##IN', \"'\", 'S']\n",
      "['to', 'return']\n",
      "['return']\n",
      "['Nine', '##teen', '##th', 'Century', \"'\", 'Great', 'Power', \"'\", 'politics', 'anchored', 'upon', 'countries', \"'\", 'interests', 'rather', 'than', 'the', 'ideals', '-', 'based', 'international', 'order', 'established', 'after', 'World', 'War', 'Two']\n",
      "['countries', \"'\", 'interests', 'rather', 'than', 'the', 'ideals', '-', 'based', 'international', 'order', 'established', 'after', 'World', 'War', 'Two']\n",
      "['the', 'ideals', '-', 'based', 'international', 'order', 'established', 'after', 'World', 'War', 'Two']\n",
      "['World', 'War', 'Two']\n",
      "['She']\n",
      "['P', '##UT', '##IN']\n",
      "['P', '##UT', '##IN', 'talking', 'in', 'this', 'way', 'to', 'close', 'associates']\n",
      "['P', '##UT', '##IN', 'talking', 'in', 'this', 'way', 'to', 'close', 'associates', 'on', 'several', 'occasions']\n",
      "['talking']\n",
      "['this', 'way']\n",
      "['this', 'way', 'to', 'close', 'associates']\n",
      "['close', 'associates']\n",
      "['several', 'occasions']\n",
      "['In', 'terms', 'of']\n",
      "['In', 'terms', 'of', 'specific', '##s']\n",
      "['In', 'terms', 'of', 'specific', '##s', ',', 'Source', 'A', 'con', '##fi', '##ded', 'that', 'the', 'K', '##rem', '##lin', 'had', 'been', 'feeding']\n",
      "['terms', 'of']\n",
      "['Source', 'A']\n",
      "['Source', 'A', 'con', '##fi', '##ded', 'that', 'the', 'K', '##rem', '##lin']\n",
      "['con', '##fi', '##ded']\n",
      "['the', 'K', '##rem', '##lin']\n",
      "['been', 'feeding']\n",
      "['feeding']\n",
      "['T', '##R', '##UM', '##P']\n",
      "['T', '##R', '##UM', '##P', 'and', 'his', 'team']\n",
      "['T', '##R', '##UM', '##P', 'and', 'his', 'team', 'valuable', 'intelligence', 'on', 'his', 'opponents', ',', 'including', 'Democratic', 'presidential', 'candidate', 'Hillary', 'C', '##L', '##IN', '##TO', '##N']\n",
      "['T', '##R', '##UM', '##P', 'and', 'his', 'team', 'valuable', 'intelligence', 'on', 'his', 'opponents', ',', 'including', 'Democratic', 'presidential', 'candidate', 'Hillary', 'C', '##L', '##IN', '##TO', '##N', ',']\n",
      "['his']\n",
      "['his', 'team']\n",
      "['valuable']\n",
      "['valuable', 'intelligence']\n",
      "['valuable', 'intelligence', 'on', 'his', 'opponents', ',', 'including', 'Democratic', 'presidential', 'candidate', 'Hillary', 'C', '##L', '##IN', '##TO', '##N']\n",
      "['his']\n",
      "['his', 'opponents', ',', 'including', 'Democratic', 'presidential', 'candidate', 'Hillary', 'C', '##L', '##IN', '##TO', '##N']\n",
      "['Democratic', 'presidential', 'candidate', 'Hillary', 'C', '##L', '##IN', '##TO', '##N']\n",
      "['several', 'years']\n",
      "['several', 'years', '(', 'see', 'more', 'below', ')']\n",
      "['see']\n",
      "['see', 'more', 'below']\n",
      "['see', 'more', 'below', ')']\n",
      "['This']\n",
      "['confirmed']\n",
      "['T', '##R', '##UM', '##P']\n",
      "['T', '##R', '##UM', '##P', 'who', 'had', 'organized', 'and', 'managed', 'his', 'recent', 'trips', 'to', 'Moscow', 'who', 'reported', ',', 'also', 'in', 'June', '2016', ',', 'that', 'this', 'Russian', 'intelligence']\n",
      "['T', '##R', '##UM', '##P', 'who', 'had', 'organized', 'and', 'managed', 'his', 'recent', 'trips', 'to', 'Moscow', 'who', 'reported', ',', 'also', 'in', 'June', '2016', ',', 'that', 'this', 'Russian', 'intelligence', 'had', 'been', 'very', 'helpful']\n",
      "['had', 'organized', 'and', 'managed']\n",
      "['organized']\n",
      "['organized', 'and', 'managed']\n",
      "['managed']\n",
      "['his']\n",
      "['his', 'recent', 'trips', 'to', 'Moscow']\n",
      "['his', 'recent', 'trips', 'to', 'Moscow', 'who', 'reported', ',', 'also', 'in', 'June', '2016', ',', 'that', 'this', 'Russian', 'intelligence']\n",
      "['Moscow']\n",
      "['reported']\n",
      "['reported', ',']\n",
      "['reported', ',', 'also']\n",
      "['reported', ',', 'also', 'in', 'June', '2016', ',', 'that', 'this', 'Russian', 'intelligence']\n",
      "['also']\n",
      "['June', '2016']\n",
      "['June', '2016', ',']\n",
      "['June', '2016', ',', 'that', 'this', 'Russian', 'intelligence']\n",
      "['this', 'Russian', 'intelligence']\n",
      "['had']\n",
      "['had', 'been']\n",
      "['been']\n",
      "['The', 'K', '##rem', '##lin', \"'\", 's']\n",
      "['The', 'K', '##rem', '##lin', \"'\", 's', 'cultivation', 'operation', 'on', 'T', '##R', '##UM', '##P']\n",
      "['The', 'K', '##rem', '##lin', \"'\", 's', 'cultivation', 'operation', 'on', 'T', '##R', '##UM', '##P', 'also', 'had', 'comprised', 'offering', 'him']\n",
      "['T', '##R', '##UM', '##P']\n",
      "['offering']\n",
      "['offering', 'him']\n",
      "['him']\n",
      "['various', 'lucrative', 'real', 'estate', 'develop', 'me', 'business', 'deals', 'in', 'Russia']\n",
      "['various', 'lucrative', 'real', 'estate', 'develop', 'me', 'business', 'deals', 'in', 'Russia', ',']\n",
      "['various', 'lucrative', 'real', 'estate', 'develop', 'me', 'business', 'deals', 'in', 'Russia', ',', 'especially', 'in', 'relation', 'to', 'the', 'ongoing', '2018', 'World', 'Cup', 'soccer', 'tournament']\n",
      "['lucrative', 'real', 'estate', 'develop', 'me', 'business', 'deals', 'in', 'Russia']\n",
      "['real', 'estate']\n",
      "['real', 'estate', 'develop']\n",
      "['real', 'estate', 'develop', 'me']\n",
      "['real', 'estate', 'develop', 'me', 'business', 'deals', 'in', 'Russia']\n",
      "['Russia']\n",
      "['especially', 'in', 'relation', 'to', 'the', 'ongoing', '2018', 'World', 'Cup', 'soccer', 'tournament']\n",
      "['relation']\n",
      "['the', 'ongoing', '2018', 'World', 'Cup', 'soccer', 'tournament']\n",
      "['2018', 'World', 'Cup']\n",
      "['World', 'Cup']\n",
      "['T', '##R', '##UM', '##P']\n",
      "['not']\n",
      "['not', 'taken']\n",
      "['taken']\n",
      "['any', 'of', 'these']\n",
      "['these']\n",
      "['there']\n",
      "['other', 'aspects', 'to', 'T', '##R', '##UM', '##P', \"'\", 's', 'engagement', 'with', 'the', 'Russian', 'authorities']\n",
      "['T', '##R', '##UM', '##P', \"'\", 's']\n",
      "['T', '##R', '##UM', '##P', \"'\", 's', 'engagement', 'with', 'the', 'Russian', 'authorities']\n",
      "['the', 'Russian', 'authorities']\n",
      "['One', 'which', 'had', 'borne', 'fruit', 'for', 'them']\n",
      "['borne']\n",
      "['them']\n",
      "['T', '##R', '##UM', '##P', \"'\", 'S']\n",
      "['T', '##R', '##UM', '##P', \"'\", 'S', 'personal', 'obsession', '##s', 'and', 'sexual', 'per', '##version']\n",
      "['order']\n",
      "['order', 'to', 'obtain']\n",
      "['order', 'to', 'obtain', 'suitable', \"'\", 'k', '##om', '##p', '##roma', '##t', \"'\", '(', 'com', '##p', '##rom', '##ising', 'material', ')', 'on', 'him']\n",
      "['obtain']\n",
      "['suitable', \"'\", 'k', '##om', '##p', '##roma', '##t', \"'\", '(', 'com', '##p', '##rom', '##ising', 'material', ')']\n",
      "['suitable', \"'\", 'k', '##om', '##p', '##roma', '##t', \"'\", '(', 'com', '##p', '##rom', '##ising', 'material', ')', 'on']\n",
      "['suitable', \"'\", 'k', '##om', '##p', '##roma', '##t', \"'\", '(', 'com', '##p', '##rom', '##ising', 'material', ')', 'on', 'him']\n",
      "['him']\n"
     ]
    }
   ],
   "source": [
    "for (t, s) in preds['top_spans']:\n",
    "    print(preds['sentences'][0][t:s+1])"
   ]
  },
  {
   "cell_type": "markdown",
   "metadata": {},
   "source": [
    "### Notes\n",
    "\n",
    "Pros:\n",
    "1. The model seems to work well. \n",
    "\n",
    "Cons:\n",
    "1. The model predicts in a 10 seconds but takes like 2 minutes to load for bert_large, spanbert_large will take forever. \n",
    "2. The model will require its own environment for dependencies because there are lot of deprecation warnings. \n",
    "3. The model will not work on the entire document in one go. The maximum number of tokens allowed is 512. I think on average there are 1000 tokens in each dossier document."
   ]
  }
 ],
 "metadata": {
  "kernelspec": {
   "display_name": "Python 3",
   "language": "python",
   "name": "python3"
  },
  "language_info": {
   "codemirror_mode": {
    "name": "ipython",
    "version": 3
   },
   "file_extension": ".py",
   "mimetype": "text/x-python",
   "name": "python",
   "nbconvert_exporter": "python",
   "pygments_lexer": "ipython3",
   "version": "3.6.9"
  }
 },
 "nbformat": 4,
 "nbformat_minor": 2
}
