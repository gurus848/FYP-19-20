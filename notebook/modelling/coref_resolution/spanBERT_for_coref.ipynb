{
 "cells": [
  {
   "cell_type": "markdown",
   "metadata": {},
   "source": [
    "## SpanBERT for coreference resolution\n",
    "\n",
    "documentation: https://github.com/mandarjoshi90/coref"
   ]
  },
  {
   "cell_type": "code",
   "execution_count": 1,
   "metadata": {},
   "outputs": [
    {
     "name": "stdout",
     "output_type": "stream",
     "text": [
      "/home/akvallapuram/FYP-19-20/notebook/modelling/coref_resolution\r\n"
     ]
    }
   ],
   "source": [
    "!pwd"
   ]
  },
  {
   "cell_type": "code",
   "execution_count": 2,
   "metadata": {},
   "outputs": [],
   "source": [
    "# as per the documentation\n",
    "!export data_dir='../../data'"
   ]
  },
  {
   "cell_type": "markdown",
   "metadata": {},
   "source": [
    "### Preprocessing\n",
    "\n",
    "Need to process a document to be resolved into jsonline files as described in the documentation."
   ]
  },
  {
   "cell_type": "code",
   "execution_count": 3,
   "metadata": {},
   "outputs": [],
   "source": [
    "import sys\n",
    "# get sample article -> Not Working!\n",
    "sys.path.append('../../../')\n",
    "from src.preparation.data_loading import read_dossier"
   ]
  },
  {
   "cell_type": "code",
   "execution_count": 4,
   "metadata": {},
   "outputs": [],
   "source": [
    "articles = read_dossier.read_dossier()\n",
    "dos = articles[0]"
   ]
  },
  {
   "cell_type": "code",
   "execution_count": 5,
   "metadata": {},
   "outputs": [
    {
     "name": "stderr",
     "output_type": "stream",
     "text": [
      "WARNING:root:Limited tf.compat.v2.summary API due to missing TensorBoard installation.\n"
     ]
    },
    {
     "name": "stdout",
     "output_type": "stream",
     "text": [
      "WARNING:tensorflow:From ../../../models/coref/bert/tokenization.py:125: The name tf.gfile.GFile is deprecated. Please use tf.io.gfile.GFile instead.\n",
      "\n"
     ]
    },
    {
     "name": "stderr",
     "output_type": "stream",
     "text": [
      "WARNING:tensorflow:From ../../../models/coref/bert/tokenization.py:125: The name tf.gfile.GFile is deprecated. Please use tf.io.gfile.GFile instead.\n",
      "\n"
     ]
    }
   ],
   "source": [
    "# BERT Tokenizer\n",
    "sys.path.append('../../../models/coref/')\n",
    "from bert import tokenization\n",
    "tokenizer = tokenization.FullTokenizer(vocab_file='../../../models/bert_large/vocab.txt', do_lower_case=False)"
   ]
  },
  {
   "cell_type": "code",
   "execution_count": 6,
   "metadata": {},
   "outputs": [],
   "source": [
    "sents = list(filter(lambda x: len(x) > 3, dos.split('.')))\n",
    "sents = list(map(lambda x: tokenizer.tokenize(x.strip()) + ['.'], sents))\n",
    "sents[0] = [\"[CLS]\"] + sents[0]\n",
    "sents[-1].append(\"[SEP]\")"
   ]
  },
  {
   "cell_type": "code",
   "execution_count": 7,
   "metadata": {},
   "outputs": [],
   "source": [
    "def get_subtoken_map(sent_list):\n",
    "    subtoken_map = list()\n",
    "    i = -1\n",
    "    for sent in sent_list:\n",
    "        for t in range(len(sent)):\n",
    "            if (not sent[t].startswith('#') \\\n",
    "            and sent[t-1] != \"[CLS]\") \\\n",
    "            and sent[t] != \"[SEP]\":\n",
    "                i += 1\n",
    "            \n",
    "            subtoken_map.append(i)\n",
    "    return subtoken_map\n",
    "\n",
    "\n",
    "# [item for sublist in [[i]*len(sents[i]) for i in range(len(sents))] for item in sublist]\n",
    "def get_sentence_map(sent_list):\n",
    "    sent_map = list()\n",
    "    for i in range(len(sent_list)):\n",
    "        sent_map.extend([i]*len(sent_list[i]))\n",
    "    \n",
    "    return sent_map"
   ]
  },
  {
   "cell_type": "code",
   "execution_count": 8,
   "metadata": {},
   "outputs": [],
   "source": [
    "# create jsonline file\n",
    "data = dict()\n",
    "data['clusters'] = []\n",
    "data['doc_key'] = 'nw'\n",
    "data['sentences'] = sents\n",
    "data['speakers'] = list(map(lambda x: \"\"*len(x), sents)) # setting to No speaker for every subword at the moment\n",
    "data['sentence_map'] = get_sentence_map(sents)\n",
    "data['subtoken_map'] = get_subtoken_map(sents)"
   ]
  },
  {
   "cell_type": "code",
   "execution_count": 9,
   "metadata": {},
   "outputs": [
    {
     "name": "stdout",
     "output_type": "stream",
     "text": [
      "[('[CLS]', 0), ('Speaking', 0), ('to', 1), ('a', 2), ('trusted', 3), ('com', 4), ('##pa', 4), ('##tri', 4), ('##ot', 4), ('in', 5), ('June', 6), ('2016', 7), ('sources', 8), ('A', 9), ('and', 10), ('B', 11), (',', 12), ('a', 13), ('senior', 14), ('Russian', 15), ('Foreign', 16), ('Ministry', 17), ('figure', 18), ('and', 19), ('a', 20), ('former', 21), ('top', 22), ('level', 23), ('Russian', 24), ('intelligence', 25), ('officer', 26), ('still', 27), ('active', 28), ('inside', 29), ('the', 30), ('K', 31), ('##rem', 31), ('##lin', 31), ('respectively', 32), (',', 33), ('the', 34), ('Russian', 35), ('authorities', 36), ('had', 37), ('been', 38), ('cult', 39), ('##ivating', 39), ('and', 40), ('supporting', 41), ('US', 42), ('Republican', 43), ('presidential', 44), ('candidate', 45), (',', 46), ('Donald', 47), ('T', 48), ('##R', 48), ('##UM', 48), ('##P', 48), ('for', 49), ('at', 50), ('least', 51), ('5', 52), ('years', 53), ('.', 54)]\n"
     ]
    }
   ],
   "source": [
    "# check the subtoken_map: correct\n",
    "print(list(zip(sents[0], data['subtoken_map'][:len(sents[0])])))"
   ]
  },
  {
   "cell_type": "code",
   "execution_count": 10,
   "metadata": {},
   "outputs": [],
   "source": [
    "# write data to a jsonline format file\n",
    "import json"
   ]
  },
  {
   "cell_type": "code",
   "execution_count": 11,
   "metadata": {},
   "outputs": [],
   "source": [
    "with open('Dossier_for_spanBERT_coref.jsonlines', 'w') as f:\n",
    "    f.write(json.dumps(data))"
   ]
  }
 ],
 "metadata": {
  "kernelspec": {
   "display_name": "Python 3",
   "language": "python",
   "name": "python3"
  },
  "language_info": {
   "codemirror_mode": {
    "name": "ipython",
    "version": 3
   },
   "file_extension": ".py",
   "mimetype": "text/x-python",
   "name": "python",
   "nbconvert_exporter": "python",
   "pygments_lexer": "ipython3",
   "version": "3.6.9"
  }
 },
 "nbformat": 4,
 "nbformat_minor": 2
}
