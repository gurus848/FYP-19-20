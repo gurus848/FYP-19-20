{
 "cells": [
  {
   "cell_type": "markdown",
   "metadata": {},
   "source": [
    "## SpanBERT for coreference resolution\n",
    "\n",
    "documentation: https://github.com/mandarjoshi90/coref"
   ]
  },
  {
   "cell_type": "code",
   "execution_count": 1,
   "metadata": {},
   "outputs": [
    {
     "name": "stdout",
     "output_type": "stream",
     "text": [
      "/home/akvallapuram/FYP-19-20/notebook/modelling/coref_resolution\r\n"
     ]
    }
   ],
   "source": [
    "!pwd"
   ]
  },
  {
   "cell_type": "code",
   "execution_count": 2,
   "metadata": {},
   "outputs": [],
   "source": [
    "# as per the documentation\n",
    "!export data_dir='../../data'"
   ]
  },
  {
   "cell_type": "markdown",
   "metadata": {},
   "source": [
    "### Preprocessing\n",
    "\n",
    "Need to process a document to be resolved into jsonline files as described in the documentation."
   ]
  },
  {
   "cell_type": "code",
   "execution_count": 3,
   "metadata": {},
   "outputs": [],
   "source": [
    "import sys\n",
    "# get sample article -> Not Working!\n",
    "# sys.path.append('../../../')\n",
    "# from src.preparation.data_loading import read_dossier"
   ]
  },
  {
   "cell_type": "code",
   "execution_count": 4,
   "metadata": {},
   "outputs": [],
   "source": [
    "dos = \"1. Speaking to a trusted compatriot in June 2016 sources A and B, a senior Russian Foreign \\\n",
    "Ministry figure and a former top level Russian intelligence officer still active inside the Kremlin \\\n",
    "respectively, the Russian authorities had been cultivating and supporting US Republican presidential \\\n",
    "candidate, Donald TRUMP for at least 5 years. Source B asserted that the TRUMP operation was both \\\n",
    "supported and directed by Russian President Vladimir PUTIN. Its aim was to sow discord and disunity \\\n",
    "within the US itself, but more especially within the Transatlantic alliance which was viewed as \\\n",
    "inimical to Russia's interests. Source C, a senior Russian financial official said the TRUMP \\\n",
    "operation should be seen in terms of PUTIN'S desire to return to Nineteenth Century 'Great Power' \\\n",
    "politics anchored upon countries' interests rather than the ideals-based international order \\\n",
    "established after World War Two.  S/he had overheard PUTIN talking in this way to close associates \\\n",
    "on several occasions. In terms of specifics, Source A confided that the Kremlin had been feeding TRUMP \\\n",
    "and his team valuable intelligence on his opponents, including Democratic presidential candidate \\\n",
    "Hillary CLINTON, for several years (see more below). This was confirmed by Source D, a close associate \\\n",
    "of TRUMP who had organized and managed his recent trips to Moscow who reported, also in June 2016, that \\\n",
    "this Russian intelligence had been “very helpful”. The Kremlin's cultivation operation on TRUMP also had \\\n",
    "comprised offering him various lucrative real estate develop me business deals in Russia, especially in \\\n",
    "relation to the ongoing 2018 World Cup soccer tournament. However, so far, for reasons unknown, TRUMP had \\\n",
    "not taken up any of these. However, there were other aspects to TRUMP's engagement with the Russian authorities. \\\n",
    "One which had borne fruit for them was to exploit TRUMP'S personal obsessions and sexual perversion in \\\n",
    "order to obtain suitable 'kompromat' (compromising material) on him. According to Source D, where s/he had \\\n",
    "been present, TRUMP's (perverted conduct in Moscow included hiring the presidential suite of the Ritz Carlton \\\n",
    "Hotel, where he knew President and Mrs OBAMA (whom he hated) had stayed on one of their official trips to Russia,\\\n",
    "and defiling the bed where they had slept by employing a number of prostitutes to perform a golden \\\n",
    "showers (urination) show in front of him. The hotel was known to be under FSB control with microphones \\\n",
    "and concealed cameras in all the main rooms to record anything they wanted to. The Moscow Ritz Carlton episode \\\n",
    "involving TRUMP reported above was confirmed by Source E,| who said that s/he and several of the staff were aware \\\n",
    "of it at the time and subsequently. S/he believed it had happened in 2013. Source E provided an introduction for \\\n",
    "a company ethnic Russian operative to Source F, a female staffer at the hotel when TRUMP had stayed there, who \\\n",
    "also confirmed the story. Speaking separately in June 2016, Source B [the former top level Russian intelligence \\\n",
    "officer) asserted that TRUMP's unorthodox behavior in Russia over the years had provided the authorities there \\\n",
    "with enough embarrassing material on the now Republican presidential candidate to be able to blackmail him if \\\n",
    "they so wished. 5. Asked about the Kremlin's reported intelligence feed to TRUMP over recent years and rumours \\\n",
    "about a Russian dossier of 'kompromat' on Hillary CLINTON (being circulated), Source B confirmed the file's \\\n",
    "existence. S/he confided in a trusted compatriot that it had been collated by Department K of the FSB for many \\\n",
    "years, dating back to her husband Bill's presidency, and comprised mainly eavesdropped conversations of various \\\n",
    "sorts rather than details/evidence of unorthodox or embarrassing behavior. Some of the conversations were from \\\n",
    "bugged comments CLINTON had made on her various trips to Russia and focused on things she had said which \\\n",
    "contradicted her current position on various issues. Others were most probably from phone intercepts. 6. Continuing \\\n",
    "on this theme, Source G, a senior Kremlin official, confided that the CLINTON dossier was controlled exclusively \\\n",
    "by chief Kremlin spokesman, Dmitriy PESKOV, who was responsible for compiling/handling it on the explicit \\\n",
    "instructions of PUTIN himself. The dossier however had not as yet been made available abroad, including to TRUMP \\\n",
    "or his campaign team. At present it was unclear what PUTIN'S intentions were in this regard.\""
   ]
  },
  {
   "cell_type": "code",
   "execution_count": 5,
   "metadata": {},
   "outputs": [
    {
     "name": "stderr",
     "output_type": "stream",
     "text": [
      "/home/akvallapuram/anaconda3/lib/python3.6/site-packages/tensorflow/python/framework/dtypes.py:526: FutureWarning: Passing (type, 1) or '1type' as a synonym of type is deprecated; in a future version of numpy, it will be understood as (type, (1,)) / '(1,)type'.\n",
      "  _np_qint8 = np.dtype([(\"qint8\", np.int8, 1)])\n",
      "/home/akvallapuram/anaconda3/lib/python3.6/site-packages/tensorflow/python/framework/dtypes.py:527: FutureWarning: Passing (type, 1) or '1type' as a synonym of type is deprecated; in a future version of numpy, it will be understood as (type, (1,)) / '(1,)type'.\n",
      "  _np_quint8 = np.dtype([(\"quint8\", np.uint8, 1)])\n",
      "/home/akvallapuram/anaconda3/lib/python3.6/site-packages/tensorflow/python/framework/dtypes.py:528: FutureWarning: Passing (type, 1) or '1type' as a synonym of type is deprecated; in a future version of numpy, it will be understood as (type, (1,)) / '(1,)type'.\n",
      "  _np_qint16 = np.dtype([(\"qint16\", np.int16, 1)])\n",
      "/home/akvallapuram/anaconda3/lib/python3.6/site-packages/tensorflow/python/framework/dtypes.py:529: FutureWarning: Passing (type, 1) or '1type' as a synonym of type is deprecated; in a future version of numpy, it will be understood as (type, (1,)) / '(1,)type'.\n",
      "  _np_quint16 = np.dtype([(\"quint16\", np.uint16, 1)])\n",
      "/home/akvallapuram/anaconda3/lib/python3.6/site-packages/tensorflow/python/framework/dtypes.py:530: FutureWarning: Passing (type, 1) or '1type' as a synonym of type is deprecated; in a future version of numpy, it will be understood as (type, (1,)) / '(1,)type'.\n",
      "  _np_qint32 = np.dtype([(\"qint32\", np.int32, 1)])\n",
      "/home/akvallapuram/anaconda3/lib/python3.6/site-packages/tensorflow/python/framework/dtypes.py:535: FutureWarning: Passing (type, 1) or '1type' as a synonym of type is deprecated; in a future version of numpy, it will be understood as (type, (1,)) / '(1,)type'.\n",
      "  np_resource = np.dtype([(\"resource\", np.ubyte, 1)])\n"
     ]
    }
   ],
   "source": [
    "# BERT Tokenizer\n",
    "sys.path.append('../../../models/coref/')\n",
    "from bert import tokenization\n",
    "tokenizer = tokenization.FullTokenizer(vocab_file='../../../models/bert_large/vocab.txt', do_lower_case=False)"
   ]
  },
  {
   "cell_type": "code",
   "execution_count": 6,
   "metadata": {},
   "outputs": [],
   "source": [
    "sents = list(filter(lambda x: len(x) > 3, dos.split('.')))\n",
    "sents = list(map(lambda x: tokenizer.tokenize(x.strip()) + ['.'], sents))\n",
    "sents[0] = [\"[CLS]\"] + sents[0]\n",
    "sents[-1].append(\"[SEP]\")"
   ]
  },
  {
   "cell_type": "code",
   "execution_count": 7,
   "metadata": {},
   "outputs": [],
   "source": [
    "def get_subtoken_map(sent_list):\n",
    "    subtoken_map = list()\n",
    "    i = -1\n",
    "    for sent in sent_list:\n",
    "        for t in range(len(sent)):\n",
    "            if (not sent[t].startswith('#') \\\n",
    "            and sent[t-1] != \"[CLS]\") \\\n",
    "            and sent[t] != \"[SEP]\":\n",
    "                i += 1\n",
    "            \n",
    "            subtoken_map.append(i)\n",
    "    return subtoken_map\n",
    "\n",
    "\n",
    "# [item for sublist in [[i]*len(sents[i]) for i in range(len(sents))] for item in sublist]\n",
    "def get_sentence_map(sent_list):\n",
    "    sent_map = list()\n",
    "    for i in range(len(sent_list)):\n",
    "        sent_map.extend([i]*len(sent_list[i]))\n",
    "    \n",
    "    return sent_map"
   ]
  },
  {
   "cell_type": "code",
   "execution_count": 8,
   "metadata": {},
   "outputs": [],
   "source": [
    "# create jsonline file\n",
    "data = dict()\n",
    "data['clusters'] = []\n",
    "data['doc_key'] = 'nw'\n",
    "data['sentences'] = sents\n",
    "data['speakers'] = list(map(lambda x: \"\"*len(x), sents)) # setting to No speaker for every subword at the moment\n",
    "data['sentence_map'] = get_sentence_map(sents)\n",
    "data['subtoken_map'] = get_subtoken_map(sents)"
   ]
  },
  {
   "cell_type": "code",
   "execution_count": 9,
   "metadata": {},
   "outputs": [
    {
     "name": "stdout",
     "output_type": "stream",
     "text": [
      "[('[CLS]', 0), ('Speaking', 0), ('to', 1), ('a', 2), ('trusted', 3), ('com', 4), ('##pa', 4), ('##tri', 4), ('##ot', 4), ('in', 5), ('June', 6), ('2016', 7), ('sources', 8), ('A', 9), ('and', 10), ('B', 11), (',', 12), ('a', 13), ('senior', 14), ('Russian', 15), ('Foreign', 16), ('Ministry', 17), ('figure', 18), ('and', 19), ('a', 20), ('former', 21), ('top', 22), ('level', 23), ('Russian', 24), ('intelligence', 25), ('officer', 26), ('still', 27), ('active', 28), ('inside', 29), ('the', 30), ('K', 31), ('##rem', 31), ('##lin', 31), ('respectively', 32), (',', 33), ('the', 34), ('Russian', 35), ('authorities', 36), ('had', 37), ('been', 38), ('cult', 39), ('##ivating', 39), ('and', 40), ('supporting', 41), ('US', 42), ('Republican', 43), ('presidential', 44), ('candidate', 45), (',', 46), ('Donald', 47), ('T', 48), ('##R', 48), ('##UM', 48), ('##P', 48), ('for', 49), ('at', 50), ('least', 51), ('5', 52), ('years', 53), ('.', 54)]\n"
     ]
    }
   ],
   "source": [
    "# check the subtoken_map: correct\n",
    "print(list(zip(sents[0], data['subtoken_map'][:len(sents[0])])))"
   ]
  },
  {
   "cell_type": "code",
   "execution_count": 10,
   "metadata": {},
   "outputs": [],
   "source": [
    "# write data to a jsonline format file\n",
    "import json"
   ]
  },
  {
   "cell_type": "code",
   "execution_count": 11,
   "metadata": {},
   "outputs": [],
   "source": [
    "with open('Dossier_for_spanBERT_coref.jsonlines', 'w') as f:\n",
    "    f.write(json.dumps(data))"
   ]
  },
  {
   "cell_type": "markdown",
   "metadata": {},
   "source": [
    "After preprocessing, ran the following in the `models/coref/` directory:\n",
    "\n",
    "```\n",
    "    GPU=0 python predict.py bert_large ../../notebook/modelling/coref_resolution/Dossier_for_spanBERT_coref.jsonlines Dossier_spanBERT_predictions.jsonlines\n",
    "```\n",
    "\n",
    "which produced the following error:\n",
    "\n",
    "```\n",
    "Traceback (most recent call last):\n",
    "  File \"predict.py\", line 33, in <module>\n",
    "    _, _, _, top_span_starts, top_span_ends, top_antecedents, top_antecedent_scores = session.run(model.predictions, feed_dict=feed_dict)\n",
    "  File \"/home/akvallapuram/anaconda3/lib/python3.6/site-packages/tensorflow/python/client/session.py\", line 929, in run\n",
    "    run_metadata_ptr)\n",
    "  File \"/home/akvallapuram/anaconda3/lib/python3.6/site-packages/tensorflow/python/client/session.py\", line 1121, in _run\n",
    "    np_val = np.asarray(subfeed_val, dtype=subfeed_dtype)\n",
    "  File \"/home/akvallapuram/anaconda3/lib/python3.6/site-packages/numpy/core/_asarray.py\", line 85, in asarray\n",
    "    return array(a, dtype, copy=False, order=order)\n",
    "ValueError: setting an array element with a sequence.\n",
    "```"
   ]
  }
 ],
 "metadata": {
  "kernelspec": {
   "display_name": "Python 3",
   "language": "python",
   "name": "python3"
  },
  "language_info": {
   "codemirror_mode": {
    "name": "ipython",
    "version": 3
   },
   "file_extension": ".py",
   "mimetype": "text/x-python",
   "name": "python",
   "nbconvert_exporter": "python",
   "pygments_lexer": "ipython3",
   "version": "3.6.9"
  }
 },
 "nbformat": 4,
 "nbformat_minor": 2
}
