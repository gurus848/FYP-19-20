{
 "cells": [
  {
   "cell_type": "markdown",
   "metadata": {},
   "source": [
    "### Four major issues to be solved\n",
    "\n",
    "1. Genetives\n",
    "2. Reduce entity from phrase: appositional modifiers\n",
    "3. first mention not necessarily proper noun\n",
    "4. Repeated head tail pairs"
   ]
  },
  {
   "cell_type": "markdown",
   "metadata": {},
   "source": [
    "### Genetives"
   ]
  },
  {
   "cell_type": "code",
   "execution_count": 1,
   "metadata": {},
   "outputs": [],
   "source": [
    "import sys\n",
    "sys.path.append(\"../../\")\n",
    "from src.preparation.data_loading import read_dossier"
   ]
  },
  {
   "cell_type": "code",
   "execution_count": 13,
   "metadata": {},
   "outputs": [
    {
     "name": "stderr",
     "output_type": "stream",
     "text": [
      "/home/akvallapuram/fenv/lib/python3.6/site-packages/tensorflow/python/framework/dtypes.py:526: FutureWarning: Passing (type, 1) or '1type' as a synonym of type is deprecated; in a future version of numpy, it will be understood as (type, (1,)) / '(1,)type'.\n",
      "  _np_qint8 = np.dtype([(\"qint8\", np.int8, 1)])\n",
      "/home/akvallapuram/fenv/lib/python3.6/site-packages/tensorflow/python/framework/dtypes.py:527: FutureWarning: Passing (type, 1) or '1type' as a synonym of type is deprecated; in a future version of numpy, it will be understood as (type, (1,)) / '(1,)type'.\n",
      "  _np_quint8 = np.dtype([(\"quint8\", np.uint8, 1)])\n",
      "/home/akvallapuram/fenv/lib/python3.6/site-packages/tensorflow/python/framework/dtypes.py:528: FutureWarning: Passing (type, 1) or '1type' as a synonym of type is deprecated; in a future version of numpy, it will be understood as (type, (1,)) / '(1,)type'.\n",
      "  _np_qint16 = np.dtype([(\"qint16\", np.int16, 1)])\n",
      "/home/akvallapuram/fenv/lib/python3.6/site-packages/tensorflow/python/framework/dtypes.py:529: FutureWarning: Passing (type, 1) or '1type' as a synonym of type is deprecated; in a future version of numpy, it will be understood as (type, (1,)) / '(1,)type'.\n",
      "  _np_quint16 = np.dtype([(\"quint16\", np.uint16, 1)])\n",
      "/home/akvallapuram/fenv/lib/python3.6/site-packages/tensorflow/python/framework/dtypes.py:530: FutureWarning: Passing (type, 1) or '1type' as a synonym of type is deprecated; in a future version of numpy, it will be understood as (type, (1,)) / '(1,)type'.\n",
      "  _np_qint32 = np.dtype([(\"qint32\", np.int32, 1)])\n",
      "/home/akvallapuram/fenv/lib/python3.6/site-packages/tensorflow/python/framework/dtypes.py:535: FutureWarning: Passing (type, 1) or '1type' as a synonym of type is deprecated; in a future version of numpy, it will be understood as (type, (1,)) / '(1,)type'.\n",
      "  np_resource = np.dtype([(\"resource\", np.ubyte, 1)])\n"
     ]
    }
   ],
   "source": [
    "import spacy\n",
    "from flair.data import Sentence\n",
    "from flair.models import SequenceTagger"
   ]
  },
  {
   "cell_type": "code",
   "execution_count": 16,
   "metadata": {},
   "outputs": [
    {
     "name": "stdout",
     "output_type": "stream",
     "text": [
      "2020-04-11 16:17:05,482 loading file /home/akvallapuram/.flair/models/en-ner-conll03-v0.4.pt\n"
     ]
    }
   ],
   "source": [
    "parser = spacy.load(\"en_core_web_sm\", disable=['ner'])\n",
    "\n",
    "# load the NER tagger\n",
    "tagger = SequenceTagger.load('ner')"
   ]
  },
  {
   "cell_type": "code",
   "execution_count": 17,
   "metadata": {},
   "outputs": [
    {
     "data": {
      "text/plain": [
       "\"Speaking separately, also in July 2016, an official close to Presidential Administration Head, S. IVANOV, confided in a compatriot that a senior colleague in the Internal Political Department of the PA, DIVEYKIN (nfd) also had met secretly with PAGE on his recent visit. Their agenda had included DIVEYKIN raising a dossier of 'kompromat' the Kremlin possessed on TRUMP's Democratic presidential rival, Hillary CLINTON, and its possible release to the Republican's campaign team. \""
      ]
     },
     "execution_count": 17,
     "metadata": {},
     "output_type": "execute_result"
    }
   ],
   "source": [
    "# get text with genetive case\n",
    "dos = read_dossier.read_dossier()\n",
    "genetive_text = dos[2].split(\"3. \")[-1].split(\"4. \")[0]\n",
    "genetive_text"
   ]
  },
  {
   "cell_type": "code",
   "execution_count": 47,
   "metadata": {},
   "outputs": [
    {
     "data": {
      "text/plain": [
       "[Sentence: \"Speaking separately, also in July 2016, an official close to Presidential Administration Head, S. IVANOV, confided in a compatriot that a senior colleague in the Internal Political Department of the PA, DIVEYKIN (nfd) also had met secretly with PAGE on his recent visit. Their agenda had included DIVEYKIN raising a dossier of 'kompromat' the Kremlin possessed on TRUMP's Democratic presidential rival, Hillary CLINTON, and its possible release to the Republican's campaign team.\" - 72 Tokens]"
      ]
     },
     "execution_count": 47,
     "metadata": {},
     "output_type": "execute_result"
    }
   ],
   "source": [
    "# ner tagging\n",
    "sent = Sentence(genetive_text)\n",
    "tagger.predict(sent)"
   ]
  },
  {
   "cell_type": "code",
   "execution_count": 25,
   "metadata": {},
   "outputs": [
    {
     "name": "stdout",
     "output_type": "stream",
     "text": [
      "[61:88] Presidential Administration ORG False\n",
      "[95:105] S. IVANOV, PER False\n",
      "[162:191] Internal Political Department ORG False\n",
      "[199:217] PA, DIVEYKIN (nfd) ORG False\n",
      "[245:249] PAGE ORG False\n",
      "[297:305] DIVEYKIN PER False\n",
      "[343:350] Kremlin LOC False\n",
      "[364:371] TRUMP's ORG True\n",
      "[372:382] Democratic MISC False\n",
      "[403:419] Hillary CLINTON, PER False\n",
      "[452:464] Republican's ORG True\n"
     ]
    }
   ],
   "source": [
    "# check for genetives\n",
    "for entity in sent.get_spans('ner'):\n",
    "    is_genetive = entity.text.endswith(\"'s\")\n",
    "    print(f\"[{entity.start_pos}:{entity.end_pos}]\", entity.text, entity.tag, is_genetive)"
   ]
  },
  {
   "cell_type": "markdown",
   "metadata": {},
   "source": [
    "NER model unfortunately returns genetives as entities"
   ]
  },
  {
   "cell_type": "code",
   "execution_count": 26,
   "metadata": {},
   "outputs": [],
   "source": [
    "# spacy dependency parser\n",
    "doc = parser(genetive_text)"
   ]
  },
  {
   "cell_type": "code",
   "execution_count": 60,
   "metadata": {},
   "outputs": [
    {
     "name": "stdout",
     "output_type": "stream",
     "text": [
      "July\n",
      "Presidential Administration Head\n",
      "S. IVANOV\n",
      "a compatriot\n",
      "a senior colleague\n",
      "the Internal Political Department\n",
      "the PA\n",
      "DIVEYKIN\n",
      "(nfd\n",
      "PAGE\n",
      "his recent visit\n",
      "Their agenda\n",
      "DIVEYKIN\n",
      "a dossier\n",
      "kompromat\n",
      "the Kremlin\n",
      "TRUMP's Democratic presidential rival\n",
      "Hillary CLINTON\n",
      "its possible release\n",
      "the Republican's campaign team\n"
     ]
    }
   ],
   "source": [
    "for nc in doc.noun_chunks:\n",
    "    print(nc)"
   ]
  },
  {
   "cell_type": "code",
   "execution_count": 34,
   "metadata": {},
   "outputs": [
    {
     "name": "stdout",
     "output_type": "stream",
     "text": [
      "IVANOV [S.]\n",
      "DIVEYKIN [nfd]\n",
      "nfd [(, )]\n",
      "CLINTON [Hillary, ,, and, release]\n"
     ]
    }
   ],
   "source": [
    "for t in doc:\n",
    "    if t.dep_ == \"appos\":\n",
    "        print(t, list(t.children))"
   ]
  },
  {
   "cell_type": "code",
   "execution_count": 79,
   "metadata": {},
   "outputs": [],
   "source": [
    "def _check_genetive(ent, noun_chunks):\n",
    "    \"\"\"\n",
    "        checks if the text is a genetive\n",
    "        and finds the relevant phrase for\n",
    "        replacement. \n",
    "        \n",
    "        Args:\n",
    "            ent (str): entity name \n",
    "            \n",
    "            noun_chunks (list): list of Spacy noun chunks\n",
    "                in text the entity is part of. \n",
    "        \n",
    "        Returns:\n",
    "            ent_str (str): the entity name with \n",
    "                genetive repaired.\n",
    "    \"\"\"\n",
    "    ent_str = None\n",
    "    if ent.endswith(\"'s\"):\n",
    "        for nc in noun_chunks:\n",
    "            if ent in str(nc):\n",
    "                ent_str = nc \n",
    "                break\n",
    "    else:\n",
    "        ent_str = ent\n",
    "    return ent_str"
   ]
  },
  {
   "cell_type": "code",
   "execution_count": 80,
   "metadata": {
    "scrolled": false
   },
   "outputs": [
    {
     "name": "stdout",
     "output_type": "stream",
     "text": [
      "Presidential Administration : Presidential Administration\n",
      "S. IVANOV, : S. IVANOV,\n",
      "Internal Political Department : Internal Political Department\n",
      "PA, DIVEYKIN (nfd) : PA, DIVEYKIN (nfd)\n",
      "PAGE : PAGE\n",
      "DIVEYKIN : DIVEYKIN\n",
      "Kremlin : Kremlin\n",
      "TRUMP's : TRUMP's Democratic presidential rival\n",
      "Democratic : Democratic\n",
      "Hillary CLINTON, : Hillary CLINTON,\n",
      "Republican's : the Republican's campaign team\n"
     ]
    }
   ],
   "source": [
    "for entity in sent.get_spans('ner'):\n",
    "    print(entity.text, \":\", _check_genetive(entity.text, doc.noun_chunks))"
   ]
  },
  {
   "cell_type": "markdown",
   "metadata": {},
   "source": [
    "### Appositional Modifiers"
   ]
  },
  {
   "cell_type": "code",
   "execution_count": 83,
   "metadata": {},
   "outputs": [
    {
     "data": {
      "text/plain": [
       "'July'"
      ]
     },
     "execution_count": 83,
     "metadata": {},
     "output_type": "execute_result"
    }
   ],
   "source": [
    "min(list(map(str, doc.noun_chunks)), key=len)"
   ]
  },
  {
   "cell_type": "code",
   "execution_count": 109,
   "metadata": {},
   "outputs": [],
   "source": [
    "test_doc = parser(\"a senior colleague in the Internal Political Department of the PA, DIVEYKIN\")\n"
   ]
  },
  {
   "cell_type": "code",
   "execution_count": 121,
   "metadata": {},
   "outputs": [
    {
     "name": "stdout",
     "output_type": "stream",
     "text": [
      "DIVEYKIN 96\n"
     ]
    }
   ],
   "source": [
    "for t in test_doc:\n",
    "    if t.dep_ == \"appos\":\n",
    "        print(t.text, t.pos)"
   ]
  },
  {
   "cell_type": "code",
   "execution_count": 127,
   "metadata": {},
   "outputs": [
    {
     "data": {
      "text/plain": [
       "Department"
      ]
     },
     "execution_count": 127,
     "metadata": {},
     "output_type": "execute_result"
    }
   ],
   "source": [
    "doc.char_span(162, 191).root"
   ]
  },
  {
   "cell_type": "code",
   "execution_count": 128,
   "metadata": {},
   "outputs": [
    {
     "data": {
      "text/plain": [
       "spacy.tokens.span.Span"
      ]
     },
     "execution_count": 128,
     "metadata": {},
     "output_type": "execute_result"
    }
   ],
   "source": [
    "type(list(doc.sents)[0])"
   ]
  },
  {
   "cell_type": "code",
   "execution_count": 129,
   "metadata": {},
   "outputs": [
    {
     "data": {
      "text/plain": [
       "spacy.tokens.doc.Doc"
      ]
     },
     "execution_count": 129,
     "metadata": {},
     "output_type": "execute_result"
    }
   ],
   "source": [
    "type(doc)"
   ]
  },
  {
   "cell_type": "code",
   "execution_count": null,
   "metadata": {},
   "outputs": [],
   "source": []
  }
 ],
 "metadata": {
  "kernelspec": {
   "display_name": "Python 3",
   "language": "python",
   "name": "python3"
  },
  "language_info": {
   "codemirror_mode": {
    "name": "ipython",
    "version": 3
   },
   "file_extension": ".py",
   "mimetype": "text/x-python",
   "name": "python",
   "nbconvert_exporter": "python",
   "pygments_lexer": "ipython3",
   "version": "3.6.9"
  }
 },
 "nbformat": 4,
 "nbformat_minor": 4
}
