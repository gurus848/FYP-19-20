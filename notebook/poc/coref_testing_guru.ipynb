{
 "cells": [
  {
   "cell_type": "code",
   "execution_count": 7,
   "metadata": {
    "collapsed": false,
    "jupyter": {
     "outputs_hidden": false
    },
    "pycharm": {
     "name": "#%%\n"
    }
   },
   "outputs": [],
   "source": [
    "# Necessary imports\n",
    "# Used Python 3.6\n",
    "\n",
    "import sys\n",
    "sys.path.append(\"../..\") #to add the root project directory to the python modules path, so that subdirectories of it can be imported\n",
    "\n",
    "from src.preparation.data_loading import read_dossier\n",
    "\n",
    "import spacy\n",
    "import neuralcoref\n"
   ]
  },
  {
   "cell_type": "code",
   "execution_count": 8,
   "metadata": {},
   "outputs": [
    {
     "data": {
      "application/javascript": [
       "document.title='neural_coref_testing_guru - Jupyter Lab'\n"
      ],
      "text/plain": [
       "<IPython.core.display.Javascript object>"
      ]
     },
     "metadata": {},
     "output_type": "display_data"
    }
   ],
   "source": [
    "%%javascript\n",
    "document.title='neural_coref_testing_guru - Jupyter Lab'"
   ]
  },
  {
   "cell_type": "markdown",
   "metadata": {},
   "source": [
    "* Above cell sets the browser title tab for convenience in Jupyter Lab"
   ]
  },
  {
   "cell_type": "markdown",
   "metadata": {
    "pycharm": {
     "name": "#%%\n"
    }
   },
   "source": [
    "# Coreference Resolution testing "
   ]
  },
  {
   "cell_type": "code",
   "execution_count": 9,
   "metadata": {},
   "outputs": [],
   "source": [
    "dossier_materials = read_dossier.read_dossier()"
   ]
  },
  {
   "cell_type": "markdown",
   "metadata": {},
   "source": [
    "### Testing neuralcoref\n",
    "\n",
    "* Could not get the package to work on mac, had to use Ubuntu"
   ]
  },
  {
   "cell_type": "code",
   "execution_count": 10,
   "metadata": {},
   "outputs": [],
   "source": [
    "# Testing neuralcoref package\n",
    "\n",
    "nlp = spacy.load('en')  # initializing spacy\n",
    "neuralcoref.add_to_pipe(nlp)\n",
    "\n",
    "results = nlp(dossier_materials[0])"
   ]
  },
  {
   "cell_type": "code",
   "execution_count": 14,
   "metadata": {},
   "outputs": [
    {
     "data": {
      "text/plain": [
       "[Russian: [Russian, Russian, Russian, Russian],\n",
       " Donald Trump: [Donald Trump, Trump, Trump, Trump, his, his, Trump, Trump, Trump, Trump, Trump, him, Trump, Trump, Trump, Trump, Trump],\n",
       " Source B: [Source B, Its],\n",
       " the Trump operation: [the Trump operation, the Trump operation, The Kremlin's cultivation operation on Trump],\n",
       " Russian President Vladimir Putin: [Russian President Vladimir Putin, Putin, Putin],\n",
       " the Kremlin: [the Kremlin, The Kremlin],\n",
       " his: [his, him],\n",
       " Moscow: [Moscow, Moscow, Moscow],\n",
       " Russia: [Russia, Russia, Russia, Russia],\n",
       " the Russian authorities: [the Russian authorities, them],\n",
       " the Ritz Carlton Hotel: [the Ritz Carlton Hotel, The hotel, the hotel],\n",
       " he: [he, he],\n",
       " President and Mrs Obama: [President and Mrs Obama, their, they],\n",
       " The Moscow Ritz Carlton episode involving Trump: [The Moscow Ritz Carlton episode involving Trump, she, it, She, it],\n",
       " Source E: [Source E, Source E],\n",
       " Russian: [Russian, Russian, Russian],\n",
       " Source B (the former top level Russian intelligence officer): [Source B (the former top level Russian intelligence officer), him, Source B],\n",
       " enough embarrassing material on the now Republican presidential candidate: [enough embarrassing material on the now Republican presidential candidate, they],\n",
       " Kremlin: [Kremlin, Kremlin, Kremlin],\n",
       " Hillary Clinton: [Hillary Clinton, She, her, Clinton, her, she, her, Clinton],\n",
       " the Clinton dossier: [the Clinton dossier, it, The dossier, it],\n",
       " Putin himself: [Putin himself, Putin],\n",
       " Trump: [Trump, his]]"
      ]
     },
     "execution_count": 14,
     "metadata": {},
     "output_type": "execute_result"
    }
   ],
   "source": [
    "results._.coref_clusters"
   ]
  },
  {
   "cell_type": "markdown",
   "metadata": {},
   "source": [
    "### neuralcoref Evaluation\n",
    "\n",
    "* Works, but I don't think that it works well enough for our purpose."
   ]
  },
  {
   "cell_type": "code",
   "execution_count": null,
   "metadata": {},
   "outputs": [],
   "source": []
  }
 ],
 "metadata": {
  "kernelspec": {
   "display_name": "Python 3",
   "language": "python",
   "name": "python3"
  },
  "language_info": {
   "codemirror_mode": {
    "name": "ipython",
    "version": 3
   },
   "file_extension": ".py",
   "mimetype": "text/x-python",
   "name": "python",
   "nbconvert_exporter": "python",
   "pygments_lexer": "ipython3",
   "version": "3.5.2"
  },
  "pycharm": {
   "stem_cell": {
    "cell_type": "raw",
    "metadata": {
     "collapsed": false
    },
    "source": []
   }
  }
 },
 "nbformat": 4,
 "nbformat_minor": 4
}
