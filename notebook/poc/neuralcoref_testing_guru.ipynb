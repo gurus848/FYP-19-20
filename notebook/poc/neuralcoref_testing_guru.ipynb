{
 "cells": [
  {
   "cell_type": "code",
   "execution_count": 2,
   "metadata": {
    "collapsed": false,
    "jupyter": {
     "outputs_hidden": false
    },
    "pycharm": {
     "name": "#%%\n"
    }
   },
   "outputs": [],
   "source": [
    "# Necessary imports\n",
    "# Used Python 3.6\n",
    "# This code will likely only work in linux, it will not work in Mac due to problems with installing neuralcoref in macOS\n",
    "\n",
    "import sys\n",
    "sys.path.append(\"../..\") #to add the root project directory to the python modules path, so that subdirectories of it can be imported\n",
    "\n",
    "from src.preparation.data_loading import read_dossier, read_news_article\n",
    "\n",
    "import spacy\n",
    "import neuralcoref\n"
   ]
  },
  {
   "cell_type": "code",
   "execution_count": 2,
   "metadata": {},
   "outputs": [
    {
     "data": {
      "application/javascript": [
       "document.title='neural_coref_testing_guru - Jupyter Lab'\n"
      ],
      "text/plain": [
       "<IPython.core.display.Javascript object>"
      ]
     },
     "metadata": {},
     "output_type": "display_data"
    }
   ],
   "source": [
    "%%javascript\n",
    "document.title='neural_coref_testing_guru - Jupyter Lab'"
   ]
  },
  {
   "cell_type": "markdown",
   "metadata": {},
   "source": [
    "* Above cell sets the browser title tab for convenience in Jupyter Lab"
   ]
  },
  {
   "cell_type": "markdown",
   "metadata": {
    "pycharm": {
     "name": "#%%\n"
    }
   },
   "source": [
    "# Coreference Resolution testing using neuralcoref"
   ]
  },
  {
   "cell_type": "code",
   "execution_count": 4,
   "metadata": {},
   "outputs": [
    {
     "data": {
      "text/plain": [
       "<spacy.lang.en.English at 0x7f39b8d69e48>"
      ]
     },
     "execution_count": 4,
     "metadata": {},
     "output_type": "execute_result"
    }
   ],
   "source": [
    "# Testing neuralcoref package\n",
    "\n",
    "nlp = spacy.load('en')  # initializing spacy\n",
    "neuralcoref.add_to_pipe(nlp)"
   ]
  },
  {
   "cell_type": "markdown",
   "metadata": {},
   "source": [
    "### Testing neuralcoref\n",
    "\n",
    "* Could not get the package to work on mac, had to use Ubuntu\n",
    "* Have to use spacy==2.1.0 to install neuralcoref. Install spacy, then install with 'pip install neuralcoref --no-binary neuralcoref'."
   ]
  },
  {
   "cell_type": "code",
   "execution_count": 4,
   "metadata": {},
   "outputs": [],
   "source": [
    "# testing it using the dossier\n",
    "dossier_materials = read_dossier.read_dossier()\n",
    "results = nlp(dossier_materials[0])"
   ]
  },
  {
   "cell_type": "code",
   "execution_count": 5,
   "metadata": {},
   "outputs": [
    {
     "data": {
      "text/plain": [
       "[Russian: [Russian, Russian, Russian, Russian],\n",
       " Donald Trump: [Donald Trump, Trump, Trump, Trump, his, his, Trump, Trump, Trump, Trump, Trump, him, Trump, Trump, Trump, Trump, Trump],\n",
       " Source B: [Source B, Its],\n",
       " the Trump operation: [the Trump operation, the Trump operation, The Kremlin's cultivation operation on Trump],\n",
       " Russian President Vladimir Putin: [Russian President Vladimir Putin, Putin, Putin],\n",
       " the Kremlin: [the Kremlin, The Kremlin],\n",
       " his: [his, him],\n",
       " Moscow: [Moscow, Moscow, Moscow],\n",
       " Russia: [Russia, Russia, Russia, Russia],\n",
       " the Russian authorities: [the Russian authorities, them],\n",
       " the Ritz Carlton Hotel: [the Ritz Carlton Hotel, The hotel, the hotel],\n",
       " he: [he, he],\n",
       " President and Mrs Obama: [President and Mrs Obama, their, they],\n",
       " The Moscow Ritz Carlton episode involving Trump: [The Moscow Ritz Carlton episode involving Trump, she, it, She, it],\n",
       " Source E: [Source E, Source E],\n",
       " Russian: [Russian, Russian, Russian],\n",
       " Source B (the former top level Russian intelligence officer): [Source B (the former top level Russian intelligence officer), him, Source B],\n",
       " enough embarrassing material on the now Republican presidential candidate: [enough embarrassing material on the now Republican presidential candidate, they],\n",
       " Kremlin: [Kremlin, Kremlin, Kremlin],\n",
       " Hillary Clinton: [Hillary Clinton, She, her, Clinton, her, she, her, Clinton],\n",
       " the Clinton dossier: [the Clinton dossier, it, The dossier, it],\n",
       " Putin himself: [Putin himself, Putin],\n",
       " Trump: [Trump, his]]"
      ]
     },
     "execution_count": 5,
     "metadata": {},
     "output_type": "execute_result"
    }
   ],
   "source": [
    "results._.coref_clusters"
   ]
  },
  {
   "cell_type": "markdown",
   "metadata": {},
   "source": [
    "### neuralcoref Evaluation\n",
    "\n",
    "* Works, maybe it's good enough for our purpose? Not sure. On the one political article I tried it seemed to work fine.\n",
    "* When tested on the place disembarkation news article, it misses at least a few places where coreference resolution should have been done. \n",
    "* Sometimes it does weird coreferences, like 'Everyone' to 'their'\n",
    "* Sometimes it takes too long of a subject, such as 'Peter Vink, the head of the design engineering department at Delft University in the Netherlands'. Just 'Peter Vink' would have been fine.\n",
    "* For the 2016 election article, it thinks Obama and the republican party are the same lol.\n",
    "* On a side note, using the newspaper package to downlaod NYT articles doesn't work properly, only some of the article is extracted."
   ]
  },
  {
   "cell_type": "code",
   "execution_count": 8,
   "metadata": {},
   "outputs": [],
   "source": [
    "# testing it using a news article from the web\n",
    "airplane_story = 'https://edition.cnn.com/travel/article/best-way-disembark-airplane/index.html'\n",
    "trump_election_story = 'https://www.nytimes.com/2016/11/09/us/politics/hillary-clinton-donald-trump-president.html'\n",
    "\n",
    "article_text = read_news_article.read_news_article(trump_election_story)\n",
    "results = nlp(article_text)"
   ]
  },
  {
   "cell_type": "code",
   "execution_count": 9,
   "metadata": {},
   "outputs": [
    {
     "data": {
      "text/plain": [
       "[Clinton: [Clinton, her, she, her],\n",
       " Wisconsin: [Wisconsin, Wisconsin],\n",
       " these voters: [these voters, they, their],\n",
       " the nations: [the nations, the nations],\n",
       " Mr. Trumps Republican Party: [Mr. Trumps Republican Party, Mr. Obama],\n",
       " Mr. Trump: [Mr. Trump, Mr. Trump, his, He, He, his],\n",
       " millions who had cheered her march toward history: [millions who had cheered her march toward history, they]]"
      ]
     },
     "execution_count": 9,
     "metadata": {},
     "output_type": "execute_result"
    }
   ],
   "source": [
    "results._.coref_clusters"
   ]
  },
  {
   "cell_type": "code",
   "execution_count": 10,
   "metadata": {},
   "outputs": [
    {
     "data": {
      "text/plain": [
       "'The returns Tuesday also amounted to a historic rebuke of the Democratic Party from the white blue-collar voters who had formed the party base from the presidency of Franklin D. Roosevelt to Mr. Clintons. Yet Mrs. Clinton and Clinton advisers had taken for granted that states like Michigan and Wisconsin would stick with a Democratic nominee, and that Clinton could repeat Mr. Obamas strategy of mobilizing the partys ascendant liberal coalition rather than pursuing a more moderate course like Clinton husband did 24 years ago. But not until these voters were offered a Republican who ran as an unapologetic populist, railing against foreign trade deals and illegal immigration, did these voters move so drastically away from these voters ancestral political home. To the surprise of many on the left, white voters who had helped elect the nations first black president, appeared more reluctant to line up behind a white woman. From Pennsylvania to Wisconsin, industrial towns once full of union voters who for decades offered their votes to Democratic presidential candidates, even in the partys lean years, shifted to Mr. Trumps Republican Party. One county in the Mahoning Valley of Ohio, Trumbull, went to Mr. Trump by a six-point margin. Four years ago, Mr. Trumps Republican Party won there by 22 points. Mrs. Clintons loss was especially crushing to millions who had cheered her march toward history as, millions who had cheered her march toward history hoped, the nations first female president. For supporters, the election often felt like a referendum on gender progress: an opportunity to elevate a woman to the nations top job and to repudiate a man whose remarkably boorish behavior toward women had assumed center stage during much of the campaign. Mr. Trump boasted, in a 2005 video released last month, about using Mr. Trump public profile to commit sexual assault. Mr. Trump suggested that female political rivals lacked a presidential look. Mr. Trump ranked women on a scale of one to 10, even holding forth on the desirability of Mr. Trump own daughter  the kind of throwback male behavior that many in the country assumed would disqualify a candidate for high office.'"
      ]
     },
     "execution_count": 10,
     "metadata": {},
     "output_type": "execute_result"
    }
   ],
   "source": [
    "results._.coref_resolved"
   ]
  },
  {
   "cell_type": "code",
   "execution_count": null,
   "metadata": {},
   "outputs": [],
   "source": []
  }
 ],
 "metadata": {
  "kernelspec": {
   "display_name": "Python 3",
   "language": "python",
   "name": "python3"
  },
  "language_info": {
   "codemirror_mode": {
    "name": "ipython",
    "version": 3
   },
   "file_extension": ".py",
   "mimetype": "text/x-python",
   "name": "python",
   "nbconvert_exporter": "python",
   "pygments_lexer": "ipython3",
   "version": "3.6.8"
  },
  "pycharm": {
   "stem_cell": {
    "cell_type": "raw",
    "metadata": {
     "collapsed": false
    },
    "source": []
   }
  }
 },
 "nbformat": 4,
 "nbformat_minor": 4
}
