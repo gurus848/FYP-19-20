{
 "cells": [
  {
   "cell_type": "markdown",
   "metadata": {},
   "source": [
    "# Testing out stanford nlp dependency parsing\n",
    "\n",
    "* Remember to install stanford nlp library properly first, refer to https://stanfordnlp.github.io/stanfordnlp/installation_usage.html#getting-started"
   ]
  },
  {
   "cell_type": "code",
   "execution_count": 1,
   "metadata": {},
   "outputs": [],
   "source": [
    "import stanfordnlp\n",
    "import sys\n",
    "sys.path.append(\"../..\") #to add the root project directory to the python modules path, so that subdirectories of it can be imported\n",
    "from src.preparation.data_loading import read_dossier, read_news_article"
   ]
  },
  {
   "cell_type": "markdown",
   "metadata": {},
   "source": [
    "# Testing it on news articles"
   ]
  },
  {
   "cell_type": "code",
   "execution_count": 2,
   "metadata": {},
   "outputs": [],
   "source": [
    "# testing it using a news article from the web\n",
    "airplane_story = 'https://edition.cnn.com/travel/article/best-way-disembark-airplane/index.html'\n",
    "trump_election_story = 'https://www.nytimes.com/2016/11/09/us/politics/hillary-clinton-donald-trump-president.html'\n",
    "\n",
    "article_text = read_news_article.read_news_article(trump_election_story)"
   ]
  },
  {
   "cell_type": "code",
   "execution_count": 5,
   "metadata": {},
   "outputs": [
    {
     "name": "stdout",
     "output_type": "stream",
     "text": [
      "Use device: cpu\n",
      "---\n",
      "Loading: tokenize\n",
      "With settings: \n",
      "{'model_path': '/Users/GuruSenthil/stanfordnlp_resources/en_ewt_models/en_ewt_tokenizer.pt', 'lang': 'en', 'shorthand': 'en_ewt', 'mode': 'predict'}\n",
      "---\n",
      "Loading: pos\n",
      "With settings: \n",
      "{'model_path': '/Users/GuruSenthil/stanfordnlp_resources/en_ewt_models/en_ewt_tagger.pt', 'pretrain_path': '/Users/GuruSenthil/stanfordnlp_resources/en_ewt_models/en_ewt.pretrain.pt', 'lang': 'en', 'shorthand': 'en_ewt', 'mode': 'predict'}\n",
      "---\n",
      "Loading: lemma\n",
      "With settings: \n",
      "{'model_path': '/Users/GuruSenthil/stanfordnlp_resources/en_ewt_models/en_ewt_lemmatizer.pt', 'lang': 'en', 'shorthand': 'en_ewt', 'mode': 'predict'}\n",
      "Building an attentional Seq2Seq model...\n",
      "Using a Bi-LSTM encoder\n",
      "Using soft attention for LSTM.\n",
      "Finetune all embeddings.\n",
      "[Running seq2seq lemmatizer with edit classifier]\n",
      "---\n",
      "Loading: depparse\n",
      "With settings: \n",
      "{'model_path': '/Users/GuruSenthil/stanfordnlp_resources/en_ewt_models/en_ewt_parser.pt', 'pretrain_path': '/Users/GuruSenthil/stanfordnlp_resources/en_ewt_models/en_ewt.pretrain.pt', 'lang': 'en', 'shorthand': 'en_ewt', 'mode': 'predict'}\n",
      "Done loading processors!\n",
      "---\n"
     ]
    },
    {
     "name": "stderr",
     "output_type": "stream",
     "text": [
      "../aten/src/ATen/native/LegacyDefinitions.cpp:14: UserWarning: masked_fill_ received a mask with dtype torch.uint8, this behavior is now deprecated,please use a mask with dtype torch.bool instead.\n"
     ]
    },
    {
     "data": {
      "text/plain": [
       "[(<Word index=2;text=returns;lemma=return;upos=NOUN;xpos=NNS;feats=Number=Plur;governor=5;dependency_relation=nsubj>,\n",
       "  'det',\n",
       "  <Word index=1;text=The;lemma=the;upos=DET;xpos=DT;feats=Definite=Def|PronType=Art;governor=2;dependency_relation=det>),\n",
       " (<Word index=5;text=amounted;lemma=amount;upos=VERB;xpos=VBD;feats=Mood=Ind|Tense=Past|VerbForm=Fin;governor=0;dependency_relation=root>,\n",
       "  'nsubj',\n",
       "  <Word index=2;text=returns;lemma=return;upos=NOUN;xpos=NNS;feats=Number=Plur;governor=5;dependency_relation=nsubj>),\n",
       " (<Word index=5;text=amounted;lemma=amount;upos=VERB;xpos=VBD;feats=Mood=Ind|Tense=Past|VerbForm=Fin;governor=0;dependency_relation=root>,\n",
       "  'obl:tmod',\n",
       "  <Word index=3;text=Tuesday;lemma=Tuesday;upos=PROPN;xpos=NNP;feats=Number=Sing;governor=5;dependency_relation=obl:tmod>),\n",
       " (<Word index=5;text=amounted;lemma=amount;upos=VERB;xpos=VBD;feats=Mood=Ind|Tense=Past|VerbForm=Fin;governor=0;dependency_relation=root>,\n",
       "  'advmod',\n",
       "  <Word index=4;text=also;lemma=also;upos=ADV;xpos=RB;feats=_;governor=5;dependency_relation=advmod>),\n",
       " (<Word index=0;text=ROOT>,\n",
       "  'root',\n",
       "  <Word index=5;text=amounted;lemma=amount;upos=VERB;xpos=VBD;feats=Mood=Ind|Tense=Past|VerbForm=Fin;governor=0;dependency_relation=root>),\n",
       " (<Word index=9;text=rebuke;lemma=rebuke;upos=NOUN;xpos=NN;feats=Number=Sing;governor=5;dependency_relation=obl>,\n",
       "  'case',\n",
       "  <Word index=6;text=to;lemma=to;upos=ADP;xpos=IN;feats=_;governor=9;dependency_relation=case>),\n",
       " (<Word index=9;text=rebuke;lemma=rebuke;upos=NOUN;xpos=NN;feats=Number=Sing;governor=5;dependency_relation=obl>,\n",
       "  'det',\n",
       "  <Word index=7;text=a;lemma=a;upos=DET;xpos=DT;feats=Definite=Ind|PronType=Art;governor=9;dependency_relation=det>),\n",
       " (<Word index=9;text=rebuke;lemma=rebuke;upos=NOUN;xpos=NN;feats=Number=Sing;governor=5;dependency_relation=obl>,\n",
       "  'amod',\n",
       "  <Word index=8;text=historic;lemma=historic;upos=ADJ;xpos=JJ;feats=Degree=Pos;governor=9;dependency_relation=amod>),\n",
       " (<Word index=5;text=amounted;lemma=amount;upos=VERB;xpos=VBD;feats=Mood=Ind|Tense=Past|VerbForm=Fin;governor=0;dependency_relation=root>,\n",
       "  'obl',\n",
       "  <Word index=9;text=rebuke;lemma=rebuke;upos=NOUN;xpos=NN;feats=Number=Sing;governor=5;dependency_relation=obl>),\n",
       " (<Word index=13;text=Party;lemma=Party;upos=PROPN;xpos=NNP;feats=Number=Sing;governor=9;dependency_relation=nmod>,\n",
       "  'case',\n",
       "  <Word index=10;text=of;lemma=of;upos=ADP;xpos=IN;feats=_;governor=13;dependency_relation=case>),\n",
       " (<Word index=13;text=Party;lemma=Party;upos=PROPN;xpos=NNP;feats=Number=Sing;governor=9;dependency_relation=nmod>,\n",
       "  'det',\n",
       "  <Word index=11;text=the;lemma=the;upos=DET;xpos=DT;feats=Definite=Def|PronType=Art;governor=13;dependency_relation=det>),\n",
       " (<Word index=13;text=Party;lemma=Party;upos=PROPN;xpos=NNP;feats=Number=Sing;governor=9;dependency_relation=nmod>,\n",
       "  'compound',\n",
       "  <Word index=12;text=Democratic;lemma=Democratic;upos=PROPN;xpos=NNP;feats=Number=Sing;governor=13;dependency_relation=compound>),\n",
       " (<Word index=9;text=rebuke;lemma=rebuke;upos=NOUN;xpos=NN;feats=Number=Sing;governor=5;dependency_relation=obl>,\n",
       "  'nmod',\n",
       "  <Word index=13;text=Party;lemma=Party;upos=PROPN;xpos=NNP;feats=Number=Sing;governor=9;dependency_relation=nmod>),\n",
       " (<Word index=20;text=voters;lemma=voter;upos=NOUN;xpos=NNS;feats=Number=Plur;governor=9;dependency_relation=nmod>,\n",
       "  'case',\n",
       "  <Word index=14;text=from;lemma=from;upos=ADP;xpos=IN;feats=_;governor=20;dependency_relation=case>),\n",
       " (<Word index=20;text=voters;lemma=voter;upos=NOUN;xpos=NNS;feats=Number=Plur;governor=9;dependency_relation=nmod>,\n",
       "  'det',\n",
       "  <Word index=15;text=the;lemma=the;upos=DET;xpos=DT;feats=Definite=Def|PronType=Art;governor=20;dependency_relation=det>),\n",
       " (<Word index=20;text=voters;lemma=voter;upos=NOUN;xpos=NNS;feats=Number=Plur;governor=9;dependency_relation=nmod>,\n",
       "  'amod',\n",
       "  <Word index=16;text=white;lemma=white;upos=ADJ;xpos=JJ;feats=Degree=Pos;governor=20;dependency_relation=amod>),\n",
       " (<Word index=19;text=collar;lemma=collar;upos=NOUN;xpos=NN;feats=Number=Sing;governor=20;dependency_relation=compound>,\n",
       "  'amod',\n",
       "  <Word index=17;text=blue;lemma=blue;upos=ADJ;xpos=JJ;feats=Degree=Pos;governor=19;dependency_relation=amod>),\n",
       " (<Word index=19;text=collar;lemma=collar;upos=NOUN;xpos=NN;feats=Number=Sing;governor=20;dependency_relation=compound>,\n",
       "  'punct',\n",
       "  <Word index=18;text=-;lemma=-;upos=PUNCT;xpos=HYPH;feats=_;governor=19;dependency_relation=punct>),\n",
       " (<Word index=20;text=voters;lemma=voter;upos=NOUN;xpos=NNS;feats=Number=Plur;governor=9;dependency_relation=nmod>,\n",
       "  'compound',\n",
       "  <Word index=19;text=collar;lemma=collar;upos=NOUN;xpos=NN;feats=Number=Sing;governor=20;dependency_relation=compound>),\n",
       " (<Word index=9;text=rebuke;lemma=rebuke;upos=NOUN;xpos=NN;feats=Number=Sing;governor=5;dependency_relation=obl>,\n",
       "  'nmod',\n",
       "  <Word index=20;text=voters;lemma=voter;upos=NOUN;xpos=NNS;feats=Number=Plur;governor=9;dependency_relation=nmod>),\n",
       " (<Word index=23;text=formed;lemma=form;upos=VERB;xpos=VBN;feats=Tense=Past|VerbForm=Part;governor=20;dependency_relation=acl:relcl>,\n",
       "  'nsubj',\n",
       "  <Word index=21;text=who;lemma=who;upos=PRON;xpos=WP;feats=PronType=Rel;governor=23;dependency_relation=nsubj>),\n",
       " (<Word index=23;text=formed;lemma=form;upos=VERB;xpos=VBN;feats=Tense=Past|VerbForm=Part;governor=20;dependency_relation=acl:relcl>,\n",
       "  'aux',\n",
       "  <Word index=22;text=had;lemma=have;upos=AUX;xpos=VBD;feats=Mood=Ind|Tense=Past|VerbForm=Fin;governor=23;dependency_relation=aux>),\n",
       " (<Word index=20;text=voters;lemma=voter;upos=NOUN;xpos=NNS;feats=Number=Plur;governor=9;dependency_relation=nmod>,\n",
       "  'acl:relcl',\n",
       "  <Word index=23;text=formed;lemma=form;upos=VERB;xpos=VBN;feats=Tense=Past|VerbForm=Part;governor=20;dependency_relation=acl:relcl>),\n",
       " (<Word index=26;text=base;lemma=base;upos=NOUN;xpos=NN;feats=Number=Sing;governor=23;dependency_relation=obj>,\n",
       "  'det',\n",
       "  <Word index=24;text=the;lemma=the;upos=DET;xpos=DT;feats=Definite=Def|PronType=Art;governor=26;dependency_relation=det>),\n",
       " (<Word index=26;text=base;lemma=base;upos=NOUN;xpos=NN;feats=Number=Sing;governor=23;dependency_relation=obj>,\n",
       "  'compound',\n",
       "  <Word index=25;text=party;lemma=party;upos=NOUN;xpos=NN;feats=Number=Sing;governor=26;dependency_relation=compound>),\n",
       " (<Word index=23;text=formed;lemma=form;upos=VERB;xpos=VBN;feats=Tense=Past|VerbForm=Part;governor=20;dependency_relation=acl:relcl>,\n",
       "  'obj',\n",
       "  <Word index=26;text=base;lemma=base;upos=NOUN;xpos=NN;feats=Number=Sing;governor=23;dependency_relation=obj>),\n",
       " (<Word index=29;text=presidency;lemma=presidency;upos=NOUN;xpos=NN;feats=Number=Sing;governor=23;dependency_relation=obl>,\n",
       "  'case',\n",
       "  <Word index=27;text=from;lemma=from;upos=ADP;xpos=IN;feats=_;governor=29;dependency_relation=case>),\n",
       " (<Word index=29;text=presidency;lemma=presidency;upos=NOUN;xpos=NN;feats=Number=Sing;governor=23;dependency_relation=obl>,\n",
       "  'det',\n",
       "  <Word index=28;text=the;lemma=the;upos=DET;xpos=DT;feats=Definite=Def|PronType=Art;governor=29;dependency_relation=det>),\n",
       " (<Word index=23;text=formed;lemma=form;upos=VERB;xpos=VBN;feats=Tense=Past|VerbForm=Part;governor=20;dependency_relation=acl:relcl>,\n",
       "  'obl',\n",
       "  <Word index=29;text=presidency;lemma=presidency;upos=NOUN;xpos=NN;feats=Number=Sing;governor=23;dependency_relation=obl>),\n",
       " (<Word index=31;text=Franklin;lemma=Franklin;upos=PROPN;xpos=NNP;feats=Number=Sing;governor=29;dependency_relation=nmod>,\n",
       "  'case',\n",
       "  <Word index=30;text=of;lemma=of;upos=ADP;xpos=IN;feats=_;governor=31;dependency_relation=case>),\n",
       " (<Word index=29;text=presidency;lemma=presidency;upos=NOUN;xpos=NN;feats=Number=Sing;governor=23;dependency_relation=obl>,\n",
       "  'nmod',\n",
       "  <Word index=31;text=Franklin;lemma=Franklin;upos=PROPN;xpos=NNP;feats=Number=Sing;governor=29;dependency_relation=nmod>),\n",
       " (<Word index=31;text=Franklin;lemma=Franklin;upos=PROPN;xpos=NNP;feats=Number=Sing;governor=29;dependency_relation=nmod>,\n",
       "  'flat',\n",
       "  <Word index=32;text=D.;lemma=D.;upos=PROPN;xpos=NNP;feats=Number=Sing;governor=31;dependency_relation=flat>),\n",
       " (<Word index=31;text=Franklin;lemma=Franklin;upos=PROPN;xpos=NNP;feats=Number=Sing;governor=29;dependency_relation=nmod>,\n",
       "  'flat',\n",
       "  <Word index=33;text=Roosevelt;lemma=Roosevelt;upos=PROPN;xpos=NNP;feats=Number=Sing;governor=31;dependency_relation=flat>),\n",
       " (<Word index=35;text=Mr.;lemma=Mr.;upos=PROPN;xpos=NNP;feats=Number=Sing;governor=29;dependency_relation=nmod>,\n",
       "  'case',\n",
       "  <Word index=34;text=to;lemma=to;upos=ADP;xpos=IN;feats=_;governor=35;dependency_relation=case>),\n",
       " (<Word index=29;text=presidency;lemma=presidency;upos=NOUN;xpos=NN;feats=Number=Sing;governor=23;dependency_relation=obl>,\n",
       "  'nmod',\n",
       "  <Word index=35;text=Mr.;lemma=Mr.;upos=PROPN;xpos=NNP;feats=Number=Sing;governor=29;dependency_relation=nmod>),\n",
       " (<Word index=35;text=Mr.;lemma=Mr.;upos=PROPN;xpos=NNP;feats=Number=Sing;governor=29;dependency_relation=nmod>,\n",
       "  'flat',\n",
       "  <Word index=36;text=Clintons;lemma=Clintons;upos=PROPN;xpos=NNPS;feats=Number=Plur;governor=35;dependency_relation=flat>),\n",
       " (<Word index=5;text=amounted;lemma=amount;upos=VERB;xpos=VBD;feats=Mood=Ind|Tense=Past|VerbForm=Fin;governor=0;dependency_relation=root>,\n",
       "  'punct',\n",
       "  <Word index=37;text=.;lemma=.;upos=PUNCT;xpos=.;feats=_;governor=5;dependency_relation=punct>)]"
      ]
     },
     "execution_count": 5,
     "metadata": {},
     "output_type": "execute_result"
    }
   ],
   "source": [
    "nlp = stanfordnlp.Pipeline() # This sets up a default neural pipeline in English\n",
    "doc = nlp(article_text)\n",
    "doc.sentences[0].dependencies"
   ]
  },
  {
   "cell_type": "markdown",
   "metadata": {},
   "source": [
    "# Evaluation\n",
    "\n",
    "* Seems to run very fast. \n",
    "* Can't verify the accuracy since I don't know the universay dependency tags."
   ]
  },
  {
   "cell_type": "code",
   "execution_count": null,
   "metadata": {},
   "outputs": [],
   "source": []
  }
 ],
 "metadata": {
  "kernelspec": {
   "display_name": "myenv",
   "language": "python",
   "name": "myenv"
  },
  "language_info": {
   "codemirror_mode": {
    "name": "ipython",
    "version": 3
   },
   "file_extension": ".py",
   "mimetype": "text/x-python",
   "name": "python",
   "nbconvert_exporter": "python",
   "pygments_lexer": "ipython3",
   "version": "3.6.4"
  }
 },
 "nbformat": 4,
 "nbformat_minor": 4
}
