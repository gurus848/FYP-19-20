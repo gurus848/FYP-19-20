{
 "cells": [
  {
   "cell_type": "markdown",
   "metadata": {},
   "source": [
    "# Testing the stanford corenlp library\n",
    "\n",
    "* The library should be downloaded and stored at '{PROJECT_ROOT}/stanford_corenlp_library'\n",
    "* Using python wrappers at 'https://github.com/Lynten/stanford-corenlp'. They also provide official python wrappers, but those aren't used here.\n",
    "* Java needs to be installed to run it.\n",
    "* Can run on linux without modifications, on Mac something may have to be modified. It can be run though.\n",
    "* On mac you have to run the jupyter command as sudo.\n"
   ]
  },
  {
   "cell_type": "code",
   "execution_count": 1,
   "metadata": {},
   "outputs": [],
   "source": [
    "# Necessary imports\n",
    "from stanfordcorenlp import StanfordCoreNLP\n",
    "import sys\n",
    "sys.path.append(\"../..\") #to add the root project directory to the python modules path, so that subdirectories of it can be imported\n",
    "from src.preparation.data_loading import read_dossier, read_news_article\n",
    "import json"
   ]
  },
  {
   "cell_type": "markdown",
   "metadata": {},
   "source": [
    "## Testing it using news articles"
   ]
  },
  {
   "cell_type": "code",
   "execution_count": 2,
   "metadata": {},
   "outputs": [],
   "source": [
    "# testing it using a news article from the web\n",
    "airplane_story = 'https://edition.cnn.com/travel/article/best-way-disembark-airplane/index.html'\n",
    "trump_election_story = 'https://www.nytimes.com/2016/11/09/us/politics/hillary-clinton-donald-trump-president.html'\n",
    "\n",
    "article_text = read_news_article.read_news_article(trump_election_story)\n"
   ]
  },
  {
   "cell_type": "code",
   "execution_count": 24,
   "metadata": {
    "collapsed": true,
    "jupyter": {
     "outputs_hidden": true
    }
   },
   "outputs": [
    {
     "data": {
      "text/plain": [
       "{'33': [{'id': 5,\n",
       "   'text': 'the white blue-collar voters who had formed the party base from the presidency of Franklin D. Roosevelt to Mr. Clintons',\n",
       "   'type': 'NOMINAL',\n",
       "   'number': 'PLURAL',\n",
       "   'gender': 'UNKNOWN',\n",
       "   'animacy': 'ANIMATE',\n",
       "   'startIndex': 15,\n",
       "   'endIndex': 35,\n",
       "   'headIndex': 18,\n",
       "   'sentNum': 1,\n",
       "   'position': [1, 6],\n",
       "   'isRepresentativeMention': True},\n",
       "  {'id': 35,\n",
       "   'text': 'these voters',\n",
       "   'type': 'NOMINAL',\n",
       "   'number': 'PLURAL',\n",
       "   'gender': 'UNKNOWN',\n",
       "   'animacy': 'ANIMATE',\n",
       "   'startIndex': 4,\n",
       "   'endIndex': 6,\n",
       "   'headIndex': 5,\n",
       "   'sentNum': 3,\n",
       "   'position': [3, 9],\n",
       "   'isRepresentativeMention': False},\n",
       "  {'id': 32,\n",
       "   'text': 'they',\n",
       "   'type': 'PRONOMINAL',\n",
       "   'number': 'PLURAL',\n",
       "   'gender': 'UNKNOWN',\n",
       "   'animacy': 'ANIMATE',\n",
       "   'startIndex': 27,\n",
       "   'endIndex': 28,\n",
       "   'headIndex': 27,\n",
       "   'sentNum': 3,\n",
       "   'position': [3, 6],\n",
       "   'isRepresentativeMention': False},\n",
       "  {'id': 33,\n",
       "   'text': 'their',\n",
       "   'type': 'PRONOMINAL',\n",
       "   'number': 'PLURAL',\n",
       "   'gender': 'UNKNOWN',\n",
       "   'animacy': 'ANIMATE',\n",
       "   'startIndex': 33,\n",
       "   'endIndex': 34,\n",
       "   'headIndex': 33,\n",
       "   'sentNum': 3,\n",
       "   'position': [3, 7],\n",
       "   'isRepresentativeMention': False}],\n",
       " '97': [{'id': 95,\n",
       "   'text': 'Mr. Trump',\n",
       "   'type': 'PROPER',\n",
       "   'number': 'SINGULAR',\n",
       "   'gender': 'MALE',\n",
       "   'animacy': 'ANIMATE',\n",
       "   'startIndex': 1,\n",
       "   'endIndex': 3,\n",
       "   'headIndex': 2,\n",
       "   'sentNum': 10,\n",
       "   'position': [10, 4],\n",
       "   'isRepresentativeMention': True},\n",
       "  {'id': 97,\n",
       "   'text': 'his',\n",
       "   'type': 'PRONOMINAL',\n",
       "   'number': 'SINGULAR',\n",
       "   'gender': 'MALE',\n",
       "   'animacy': 'ANIMATE',\n",
       "   'startIndex': 15,\n",
       "   'endIndex': 16,\n",
       "   'headIndex': 15,\n",
       "   'sentNum': 10,\n",
       "   'position': [10, 6],\n",
       "   'isRepresentativeMention': False},\n",
       "  {'id': 99,\n",
       "   'text': 'He',\n",
       "   'type': 'PRONOMINAL',\n",
       "   'number': 'SINGULAR',\n",
       "   'gender': 'MALE',\n",
       "   'animacy': 'ANIMATE',\n",
       "   'startIndex': 1,\n",
       "   'endIndex': 2,\n",
       "   'headIndex': 1,\n",
       "   'sentNum': 11,\n",
       "   'position': [11, 1],\n",
       "   'isRepresentativeMention': False},\n",
       "  {'id': 104,\n",
       "   'text': 'He',\n",
       "   'type': 'PRONOMINAL',\n",
       "   'number': 'SINGULAR',\n",
       "   'gender': 'MALE',\n",
       "   'animacy': 'ANIMATE',\n",
       "   'startIndex': 1,\n",
       "   'endIndex': 2,\n",
       "   'headIndex': 1,\n",
       "   'sentNum': 12,\n",
       "   'position': [12, 3],\n",
       "   'isRepresentativeMention': False},\n",
       "  {'id': 108,\n",
       "   'text': 'his',\n",
       "   'type': 'PRONOMINAL',\n",
       "   'number': 'SINGULAR',\n",
       "   'gender': 'MALE',\n",
       "   'animacy': 'ANIMATE',\n",
       "   'startIndex': 19,\n",
       "   'endIndex': 20,\n",
       "   'headIndex': 19,\n",
       "   'sentNum': 12,\n",
       "   'position': [12, 7],\n",
       "   'isRepresentativeMention': False}],\n",
       " '20': [{'id': 14,\n",
       "   'text': 'Mrs. Clinton',\n",
       "   'type': 'PROPER',\n",
       "   'number': 'SINGULAR',\n",
       "   'gender': 'FEMALE',\n",
       "   'animacy': 'ANIMATE',\n",
       "   'startIndex': 2,\n",
       "   'endIndex': 4,\n",
       "   'headIndex': 3,\n",
       "   'sentNum': 2,\n",
       "   'position': [2, 6],\n",
       "   'isRepresentativeMention': True},\n",
       "  {'id': 15,\n",
       "   'text': 'her',\n",
       "   'type': 'PRONOMINAL',\n",
       "   'number': 'SINGULAR',\n",
       "   'gender': 'FEMALE',\n",
       "   'animacy': 'ANIMATE',\n",
       "   'startIndex': 5,\n",
       "   'endIndex': 6,\n",
       "   'headIndex': 5,\n",
       "   'sentNum': 2,\n",
       "   'position': [2, 7],\n",
       "   'isRepresentativeMention': False},\n",
       "  {'id': 20,\n",
       "   'text': 'she',\n",
       "   'type': 'PRONOMINAL',\n",
       "   'number': 'SINGULAR',\n",
       "   'gender': 'FEMALE',\n",
       "   'animacy': 'ANIMATE',\n",
       "   'startIndex': 26,\n",
       "   'endIndex': 27,\n",
       "   'headIndex': 26,\n",
       "   'sentNum': 2,\n",
       "   'position': [2, 12],\n",
       "   'isRepresentativeMention': False},\n",
       "  {'id': 25,\n",
       "   'text': 'her',\n",
       "   'type': 'PRONOMINAL',\n",
       "   'number': 'SINGULAR',\n",
       "   'gender': 'FEMALE',\n",
       "   'animacy': 'ANIMATE',\n",
       "   'startIndex': 47,\n",
       "   'endIndex': 48,\n",
       "   'headIndex': 47,\n",
       "   'sentNum': 2,\n",
       "   'position': [2, 17],\n",
       "   'isRepresentativeMention': False}],\n",
       " '73': [{'id': 69,\n",
       "   'text': 'Clintons',\n",
       "   'type': 'PROPER',\n",
       "   'number': 'SINGULAR',\n",
       "   'gender': 'UNKNOWN',\n",
       "   'animacy': 'ANIMATE',\n",
       "   'startIndex': 2,\n",
       "   'endIndex': 3,\n",
       "   'headIndex': 2,\n",
       "   'sentNum': 8,\n",
       "   'position': [8, 1],\n",
       "   'isRepresentativeMention': True},\n",
       "  {'id': 73,\n",
       "   'text': 'her',\n",
       "   'type': 'PRONOMINAL',\n",
       "   'number': 'SINGULAR',\n",
       "   'gender': 'FEMALE',\n",
       "   'animacy': 'ANIMATE',\n",
       "   'startIndex': 12,\n",
       "   'endIndex': 13,\n",
       "   'headIndex': 12,\n",
       "   'sentNum': 8,\n",
       "   'position': [8, 5],\n",
       "   'isRepresentativeMention': False}],\n",
       " '77': [{'id': 41,\n",
       "   'text': 'the nations',\n",
       "   'type': 'NOMINAL',\n",
       "   'number': 'PLURAL',\n",
       "   'gender': 'UNKNOWN',\n",
       "   'animacy': 'INANIMATE',\n",
       "   'startIndex': 16,\n",
       "   'endIndex': 18,\n",
       "   'headIndex': 17,\n",
       "   'sentNum': 4,\n",
       "   'position': [4, 6],\n",
       "   'isRepresentativeMention': True},\n",
       "  {'id': 77,\n",
       "   'text': 'the nations',\n",
       "   'type': 'NOMINAL',\n",
       "   'number': 'PLURAL',\n",
       "   'gender': 'UNKNOWN',\n",
       "   'animacy': 'INANIMATE',\n",
       "   'startIndex': 21,\n",
       "   'endIndex': 23,\n",
       "   'headIndex': 22,\n",
       "   'sentNum': 8,\n",
       "   'position': [8, 9],\n",
       "   'isRepresentativeMention': False}]}"
      ]
     },
     "execution_count": 24,
     "metadata": {},
     "output_type": "execute_result"
    }
   ],
   "source": [
    "# Testing coreference resolution\n",
    "\n",
    "nlp = StanfordCoreNLP('../../stanford_corenlp_library')\n",
    "props={'annotators': 'coref','pipelineLanguage':'en','outputFormat':'json'}\n",
    "# results = nlp.annotate('This is Janice. She is very big.')\n",
    "results = nlp.annotate(article_text, properties=props)\n",
    "nlp.close()\n",
    "json.loads(results)['corefs']"
   ]
  },
  {
   "cell_type": "markdown",
   "metadata": {},
   "source": [
    "# Evaluation of Coref\n",
    "\n",
    "* It runs pretty slowly, it takes 2 minutes to run on the newspaper article, it takes about a minute to even run on 1 sentence...\n",
    "* The Stanford NLP server also requires a lot of memory to run, a few gigs in practice.\n",
    "* I think that this library might be too impractical to run in practice."
   ]
  },
  {
   "cell_type": "code",
   "execution_count": 32,
   "metadata": {},
   "outputs": [],
   "source": [
    "# Testing relation extraction\n",
    "\n",
    "nlp = StanfordCoreNLP('../../stanford_corenlp_library')\n",
    "props={'annotators': 'tokenize,ssplit,pos,lemma,ner,parse,depparse,relation','pipelineLanguage':'en','outputFormat':'json'}\n",
    "results = nlp.annotate('He works for a company', properties=props)\n",
    "# results = nlp.annotate(article_text, properties=props)\n",
    "nlp.close()"
   ]
  },
  {
   "cell_type": "code",
   "execution_count": 33,
   "metadata": {},
   "outputs": [
    {
     "data": {
      "text/plain": [
       "dict_keys(['sentences'])"
      ]
     },
     "execution_count": 33,
     "metadata": {},
     "output_type": "execute_result"
    }
   ],
   "source": [
    "json.loads(results).keys()"
   ]
  },
  {
   "cell_type": "code",
   "execution_count": 34,
   "metadata": {},
   "outputs": [
    {
     "data": {
      "text/plain": [
       "dict_keys(['index', 'parse', 'basicDependencies', 'enhancedDependencies', 'enhancedPlusPlusDependencies', 'entitymentions', 'tokens'])"
      ]
     },
     "execution_count": 34,
     "metadata": {},
     "output_type": "execute_result"
    }
   ],
   "source": [
    "json.loads(results)['sentences'][0].keys()"
   ]
  },
  {
   "cell_type": "code",
   "execution_count": 31,
   "metadata": {
    "collapsed": true,
    "jupyter": {
     "outputs_hidden": true
    }
   },
   "outputs": [
    {
     "data": {
      "text/plain": [
       "[{'index': 1,\n",
       "  'word': 'He',\n",
       "  'originalText': 'He',\n",
       "  'lemma': 'he',\n",
       "  'characterOffsetBegin': 0,\n",
       "  'characterOffsetEnd': 2,\n",
       "  'pos': 'PRP',\n",
       "  'ner': 'O',\n",
       "  'before': '',\n",
       "  'after': ' '},\n",
       " {'index': 2,\n",
       "  'word': 'works',\n",
       "  'originalText': 'works',\n",
       "  'lemma': 'work',\n",
       "  'characterOffsetBegin': 3,\n",
       "  'characterOffsetEnd': 8,\n",
       "  'pos': 'VBZ',\n",
       "  'ner': 'O',\n",
       "  'before': ' ',\n",
       "  'after': ' '},\n",
       " {'index': 3,\n",
       "  'word': 'for',\n",
       "  'originalText': 'for',\n",
       "  'lemma': 'for',\n",
       "  'characterOffsetBegin': 9,\n",
       "  'characterOffsetEnd': 12,\n",
       "  'pos': 'IN',\n",
       "  'ner': 'O',\n",
       "  'before': ' ',\n",
       "  'after': ' '},\n",
       " {'index': 4,\n",
       "  'word': 'a',\n",
       "  'originalText': 'a',\n",
       "  'lemma': 'a',\n",
       "  'characterOffsetBegin': 13,\n",
       "  'characterOffsetEnd': 14,\n",
       "  'pos': 'DT',\n",
       "  'ner': 'O',\n",
       "  'before': ' ',\n",
       "  'after': ' '},\n",
       " {'index': 5,\n",
       "  'word': 'company',\n",
       "  'originalText': 'company',\n",
       "  'lemma': 'company',\n",
       "  'characterOffsetBegin': 15,\n",
       "  'characterOffsetEnd': 22,\n",
       "  'pos': 'NN',\n",
       "  'ner': 'O',\n",
       "  'before': ' ',\n",
       "  'after': ''}]"
      ]
     },
     "execution_count": 31,
     "metadata": {},
     "output_type": "execute_result"
    }
   ],
   "source": [
    "json.loads(results)['sentences'][0]['tokens']"
   ]
  },
  {
   "cell_type": "markdown",
   "metadata": {},
   "source": [
    "# Evaluation of Rel Extraction\n",
    "\n",
    "* Takes a while for it to load all of the different annotators\n",
    "* Haven't been able to get it to work, it doesn't actually output any relations that it found for some reason...\n",
    "* Anyway, it can only detect Live_In, Located_In, OrgBased_In, Work_For, and None, so it is basically useless for us\n",
    "\n",
    "* there is another relation extraction system built in called the KBPAnnotator\n",
    "* it has a lot more possible relations, including a few interpersonal ones. however, it doesn't seem to work on many sentences. it's very picky... it works on the example that they gave online though: \"Joe Smith was born in Oregon.\"\n",
    "* performance seems about the same - pretty slow"
   ]
  },
  {
   "cell_type": "code",
   "execution_count": 33,
   "metadata": {},
   "outputs": [],
   "source": [
    "# Testing Open IE\n",
    "\n",
    "nlp = StanfordCoreNLP('../../stanford_corenlp_library')\n",
    "props={'annotators': 'tokenize,ssplit,pos,lemma,ner,parse,coref,kbp','pipelineLanguage':'en','outputFormat':'json', 'coref.md.type':'RULE'}\n",
    "results = nlp.annotate(\"Bob is a muslim. Charlie is Bob's brother. Charlie is a christian. Donald Trump is a Republican. Donald Trump is American. Joe and Bill are members of the Republican Party.\", properties=props)\n",
    "nlp.close()"
   ]
  },
  {
   "cell_type": "code",
   "execution_count": 34,
   "metadata": {},
   "outputs": [
    {
     "name": "stdout",
     "output_type": "stream",
     "text": [
      "[{'subject': 'Bob', 'subjectSpan': [0, 1], 'relation': 'per:religion', 'relationSpan': [-2, -1], 'object': 'muslim', 'objectSpan': [3, 4]}]\n",
      "[{'subject': 'Bob', 'subjectSpan': [2, 3], 'relation': 'per:siblings', 'relationSpan': [-2, -1], 'object': 'Charlie', 'objectSpan': [0, 1]}, {'subject': 'Charlie', 'subjectSpan': [0, 1], 'relation': 'per:siblings', 'relationSpan': [-2, -1], 'object': 'Bob', 'objectSpan': [2, 3]}]\n",
      "[{'subject': 'Charlie', 'subjectSpan': [0, 1], 'relation': 'per:religion', 'relationSpan': [-2, -1], 'object': 'christian', 'objectSpan': [3, 4]}]\n",
      "[]\n",
      "[{'subject': 'Donald Trump', 'subjectSpan': [0, 2], 'relation': 'per:origin', 'relationSpan': [-2, -1], 'object': 'American', 'objectSpan': [3, 4]}]\n",
      "[{'subject': 'Joe', 'subjectSpan': [0, 1], 'relation': 'per:employee_or_member_of', 'relationSpan': [-2, -1], 'object': 'Republican Party', 'objectSpan': [7, 9]}, {'subject': 'Republican Party', 'subjectSpan': [7, 9], 'relation': 'org:top_members_employees', 'relationSpan': [-2, -1], 'object': 'Bill', 'objectSpan': [2, 3]}, {'subject': 'Bill', 'subjectSpan': [2, 3], 'relation': 'per:employee_or_member_of', 'relationSpan': [-2, -1], 'object': 'Republican Party', 'objectSpan': [7, 9]}]\n"
     ]
    }
   ],
   "source": [
    "for s in json.loads(results)['sentences']:\n",
    "    print(s['kbp'])"
   ]
  },
  {
   "cell_type": "markdown",
   "metadata": {},
   "source": [
    "# Evaluation of Open IE\n",
    "\n",
    "* Takes a while for it to load all of the different annotators\n",
    "* It does work\n",
    "* However for our use we probably need something more streamlined, since just IE will give a lot of false positive relations. We are only interested in relations between different people.\n",
    "* This is also not the latest Open IE model there is "
   ]
  },
  {
   "cell_type": "code",
   "execution_count": null,
   "metadata": {},
   "outputs": [],
   "source": [
    "# Testing Open IE\n",
    "\n",
    "nlp = StanfordCoreNLP('../../stanford_corenlp_library')\n",
    "props={'annotators': 'tokenize,ssplit,pos,lemma,depparse,natlog,openie','pipelineLanguage':'en','outputFormat':'json'}\n",
    "results = nlp.annotate('He lives for a company', properties=props)\n",
    "# results = nlp.annotate(article_text, properties=props)\n",
    "nlp.close()"
   ]
  },
  {
   "cell_type": "code",
   "execution_count": null,
   "outputs": [],
   "source": [
    "json.loads(results)['sentences'][0]['openie']"
   ],
   "metadata": {
    "collapsed": false,
    "pycharm": {
     "name": "#%%\n"
    }
   }
  },
  {
   "cell_type": "code",
   "execution_count": null,
   "metadata": {},
   "outputs": [],
   "source": [
    "json.loads(results)['sentences'][0]['openie']"
   ]
  }
 ],
 "metadata": {
  "kernelspec": {
   "display_name": "myenv",
   "language": "python",
   "name": "myenv"
  },
  "language_info": {
   "codemirror_mode": {
    "name": "ipython",
    "version": 3
   },
   "file_extension": ".py",
   "mimetype": "text/x-python",
   "name": "python",
   "nbconvert_exporter": "python",
   "pygments_lexer": "ipython3",
   "version": "3.6.4"
  },
  "pycharm": {
   "stem_cell": {
    "cell_type": "raw",
    "source": [],
    "metadata": {
     "collapsed": false
    }
   }
  }
 },
 "nbformat": 4,
 "nbformat_minor": 4
}