{
 "cells": [
  {
   "cell_type": "markdown",
   "metadata": {},
   "source": [
    "# Testing the stanford corenlp library\n",
    "\n",
    "* The library should be downloaded and stored at '{PROJECT_ROOT}/stanford_corenlp_library'\n",
    "* Using python wrappers at 'https://github.com/Lynten/stanford-corenlp'\n",
    "* Java needs to be installed to run it.\n",
    "* Can run on linux without modifications, on Mac something may have to be modified. \n"
   ]
  },
  {
   "cell_type": "code",
   "execution_count": 5,
   "metadata": {},
   "outputs": [],
   "source": [
    "# Necessary imports\n",
    "from stanfordcorenlp import StanfordCoreNLP\n",
    "import sys\n",
    "sys.path.append(\"../..\") #to add the root project directory to the python modules path, so that subdirectories of it can be imported\n",
    "from src.preparation.data_loading import read_dossier, read_news_article"
   ]
  },
  {
   "cell_type": "markdown",
   "metadata": {},
   "source": [
    "## Testing it using news articles"
   ]
  },
  {
   "cell_type": "code",
   "execution_count": 6,
   "metadata": {},
   "outputs": [],
   "source": [
    "# testing it using a news article from the web\n",
    "airplane_story = 'https://edition.cnn.com/travel/article/best-way-disembark-airplane/index.html'\n",
    "trump_election_story = 'https://www.nytimes.com/2016/11/09/us/politics/hillary-clinton-donald-trump-president.html'\n",
    "\n",
    "article_text = read_news_article.read_news_article(trump_election_story)\n"
   ]
  },
  {
   "cell_type": "code",
   "execution_count": 10,
   "metadata": {},
   "outputs": [
    {
     "data": {
      "text/plain": [
       "'{\\n  \"sentences\": [\\n    {\\n      \"index\": 0,\\n      \"parse\": \"(ROOT\\\\n  (S\\\\n    (NP (DT This))\\\\n    (VP (VBZ is)\\\\n      (NP (DT a) (NN cat)))\\\\n    (. .)))\",\\n      \"basicDependencies\": [\\n        {\\n          \"dep\": \"ROOT\",\\n          \"governor\": 0,\\n          \"governorGloss\": \"ROOT\",\\n          \"dependent\": 4,\\n          \"dependentGloss\": \"cat\"\\n        },\\n        {\\n          \"dep\": \"nsubj\",\\n          \"governor\": 4,\\n          \"governorGloss\": \"cat\",\\n          \"dependent\": 1,\\n          \"dependentGloss\": \"This\"\\n        },\\n        {\\n          \"dep\": \"cop\",\\n          \"governor\": 4,\\n          \"governorGloss\": \"cat\",\\n          \"dependent\": 2,\\n          \"dependentGloss\": \"is\"\\n        },\\n        {\\n          \"dep\": \"det\",\\n          \"governor\": 4,\\n          \"governorGloss\": \"cat\",\\n          \"dependent\": 3,\\n          \"dependentGloss\": \"a\"\\n        },\\n        {\\n          \"dep\": \"punct\",\\n          \"governor\": 4,\\n          \"governorGloss\": \"cat\",\\n          \"dependent\": 5,\\n          \"dependentGloss\": \".\"\\n        }\\n      ],\\n      \"enhancedDependencies\": [\\n        {\\n          \"dep\": \"ROOT\",\\n          \"governor\": 0,\\n          \"governorGloss\": \"ROOT\",\\n          \"dependent\": 4,\\n          \"dependentGloss\": \"cat\"\\n        },\\n        {\\n          \"dep\": \"nsubj\",\\n          \"governor\": 4,\\n          \"governorGloss\": \"cat\",\\n          \"dependent\": 1,\\n          \"dependentGloss\": \"This\"\\n        },\\n        {\\n          \"dep\": \"cop\",\\n          \"governor\": 4,\\n          \"governorGloss\": \"cat\",\\n          \"dependent\": 2,\\n          \"dependentGloss\": \"is\"\\n        },\\n        {\\n          \"dep\": \"det\",\\n          \"governor\": 4,\\n          \"governorGloss\": \"cat\",\\n          \"dependent\": 3,\\n          \"dependentGloss\": \"a\"\\n        },\\n        {\\n          \"dep\": \"punct\",\\n          \"governor\": 4,\\n          \"governorGloss\": \"cat\",\\n          \"dependent\": 5,\\n          \"dependentGloss\": \".\"\\n        }\\n      ],\\n      \"enhancedPlusPlusDependencies\": [\\n        {\\n          \"dep\": \"ROOT\",\\n          \"governor\": 0,\\n          \"governorGloss\": \"ROOT\",\\n          \"dependent\": 4,\\n          \"dependentGloss\": \"cat\"\\n        },\\n        {\\n          \"dep\": \"nsubj\",\\n          \"governor\": 4,\\n          \"governorGloss\": \"cat\",\\n          \"dependent\": 1,\\n          \"dependentGloss\": \"This\"\\n        },\\n        {\\n          \"dep\": \"cop\",\\n          \"governor\": 4,\\n          \"governorGloss\": \"cat\",\\n          \"dependent\": 2,\\n          \"dependentGloss\": \"is\"\\n        },\\n        {\\n          \"dep\": \"det\",\\n          \"governor\": 4,\\n          \"governorGloss\": \"cat\",\\n          \"dependent\": 3,\\n          \"dependentGloss\": \"a\"\\n        },\\n        {\\n          \"dep\": \"punct\",\\n          \"governor\": 4,\\n          \"governorGloss\": \"cat\",\\n          \"dependent\": 5,\\n          \"dependentGloss\": \".\"\\n        }\\n      ],\\n      \"openie\": [\\n      ],\\n      \"kbp\": [\\n      ],\\n      \"entitymentions\": [\\n      ],\\n      \"tokens\": [\\n        {\\n          \"index\": 1,\\n          \"word\": \"This\",\\n          \"originalText\": \"This\",\\n          \"lemma\": \"this\",\\n          \"characterOffsetBegin\": 0,\\n          \"characterOffsetEnd\": 4,\\n          \"pos\": \"DT\",\\n          \"ner\": \"O\",\\n          \"speaker\": \"PER0\",\\n          \"before\": \"\",\\n          \"after\": \" \"\\n        },\\n        {\\n          \"index\": 2,\\n          \"word\": \"is\",\\n          \"originalText\": \"is\",\\n          \"lemma\": \"be\",\\n          \"characterOffsetBegin\": 5,\\n          \"characterOffsetEnd\": 7,\\n          \"pos\": \"VBZ\",\\n          \"ner\": \"O\",\\n          \"speaker\": \"PER0\",\\n          \"before\": \" \",\\n          \"after\": \" \"\\n        },\\n        {\\n          \"index\": 3,\\n          \"word\": \"a\",\\n          \"originalText\": \"a\",\\n          \"lemma\": \"a\",\\n          \"characterOffsetBegin\": 8,\\n          \"characterOffsetEnd\": 9,\\n          \"pos\": \"DT\",\\n          \"ner\": \"O\",\\n          \"speaker\": \"PER0\",\\n          \"before\": \" \",\\n          \"after\": \" \"\\n        },\\n        {\\n          \"index\": 4,\\n          \"word\": \"cat\",\\n          \"originalText\": \"cat\",\\n          \"lemma\": \"cat\",\\n          \"characterOffsetBegin\": 10,\\n          \"characterOffsetEnd\": 13,\\n          \"pos\": \"NN\",\\n          \"ner\": \"O\",\\n          \"speaker\": \"PER0\",\\n          \"before\": \" \",\\n          \"after\": \"\"\\n        },\\n        {\\n          \"index\": 5,\\n          \"word\": \".\",\\n          \"originalText\": \".\",\\n          \"lemma\": \".\",\\n          \"characterOffsetBegin\": 13,\\n          \"characterOffsetEnd\": 14,\\n          \"pos\": \".\",\\n          \"ner\": \"O\",\\n          \"speaker\": \"PER0\",\\n          \"before\": \"\",\\n          \"after\": \" \"\\n        }\\n      ]\\n    },\\n    {\\n      \"index\": 1,\\n      \"parse\": \"(ROOT\\\\n  (S\\\\n    (NP (PRP It))\\\\n    (VP (VBZ is)\\\\n      (ADJP (RB very) (JJ big)))\\\\n    (. .)))\",\\n      \"basicDependencies\": [\\n        {\\n          \"dep\": \"ROOT\",\\n          \"governor\": 0,\\n          \"governorGloss\": \"ROOT\",\\n          \"dependent\": 4,\\n          \"dependentGloss\": \"big\"\\n        },\\n        {\\n          \"dep\": \"nsubj\",\\n          \"governor\": 4,\\n          \"governorGloss\": \"big\",\\n          \"dependent\": 1,\\n          \"dependentGloss\": \"It\"\\n        },\\n        {\\n          \"dep\": \"cop\",\\n          \"governor\": 4,\\n          \"governorGloss\": \"big\",\\n          \"dependent\": 2,\\n          \"dependentGloss\": \"is\"\\n        },\\n        {\\n          \"dep\": \"advmod\",\\n          \"governor\": 4,\\n          \"governorGloss\": \"big\",\\n          \"dependent\": 3,\\n          \"dependentGloss\": \"very\"\\n        },\\n        {\\n          \"dep\": \"punct\",\\n          \"governor\": 4,\\n          \"governorGloss\": \"big\",\\n          \"dependent\": 5,\\n          \"dependentGloss\": \".\"\\n        }\\n      ],\\n      \"enhancedDependencies\": [\\n        {\\n          \"dep\": \"ROOT\",\\n          \"governor\": 0,\\n          \"governorGloss\": \"ROOT\",\\n          \"dependent\": 4,\\n          \"dependentGloss\": \"big\"\\n        },\\n        {\\n          \"dep\": \"nsubj\",\\n          \"governor\": 4,\\n          \"governorGloss\": \"big\",\\n          \"dependent\": 1,\\n          \"dependentGloss\": \"It\"\\n        },\\n        {\\n          \"dep\": \"cop\",\\n          \"governor\": 4,\\n          \"governorGloss\": \"big\",\\n          \"dependent\": 2,\\n          \"dependentGloss\": \"is\"\\n        },\\n        {\\n          \"dep\": \"advmod\",\\n          \"governor\": 4,\\n          \"governorGloss\": \"big\",\\n          \"dependent\": 3,\\n          \"dependentGloss\": \"very\"\\n        },\\n        {\\n          \"dep\": \"punct\",\\n          \"governor\": 4,\\n          \"governorGloss\": \"big\",\\n          \"dependent\": 5,\\n          \"dependentGloss\": \".\"\\n        }\\n      ],\\n      \"enhancedPlusPlusDependencies\": [\\n        {\\n          \"dep\": \"ROOT\",\\n          \"governor\": 0,\\n          \"governorGloss\": \"ROOT\",\\n          \"dependent\": 4,\\n          \"dependentGloss\": \"big\"\\n        },\\n        {\\n          \"dep\": \"nsubj\",\\n          \"governor\": 4,\\n          \"governorGloss\": \"big\",\\n          \"dependent\": 1,\\n          \"dependentGloss\": \"It\"\\n        },\\n        {\\n          \"dep\": \"cop\",\\n          \"governor\": 4,\\n          \"governorGloss\": \"big\",\\n          \"dependent\": 2,\\n          \"dependentGloss\": \"is\"\\n        },\\n        {\\n          \"dep\": \"advmod\",\\n          \"governor\": 4,\\n          \"governorGloss\": \"big\",\\n          \"dependent\": 3,\\n          \"dependentGloss\": \"very\"\\n        },\\n        {\\n          \"dep\": \"punct\",\\n          \"governor\": 4,\\n          \"governorGloss\": \"big\",\\n          \"dependent\": 5,\\n          \"dependentGloss\": \".\"\\n        }\\n      ],\\n      \"openie\": [\\n        {\\n          \"subject\": \"It\",\\n          \"subjectSpan\": [0, 1],\\n          \"relation\": \"is\",\\n          \"relationSpan\": [1, 2],\\n          \"object\": \"big\",\\n          \"objectSpan\": [3, 4]\\n        },\\n        {\\n          \"subject\": \"It\",\\n          \"subjectSpan\": [0, 1],\\n          \"relation\": \"is\",\\n          \"relationSpan\": [1, 2],\\n          \"object\": \"very big\",\\n          \"objectSpan\": [2, 4]\\n        }\\n      ],\\n      \"kbp\": [\\n      ],\\n      \"entitymentions\": [\\n      ],\\n      \"tokens\": [\\n        {\\n          \"index\": 1,\\n          \"word\": \"It\",\\n          \"originalText\": \"It\",\\n          \"lemma\": \"it\",\\n          \"characterOffsetBegin\": 15,\\n          \"characterOffsetEnd\": 17,\\n          \"pos\": \"PRP\",\\n          \"ner\": \"O\",\\n          \"speaker\": \"PER0\",\\n          \"before\": \" \",\\n          \"after\": \" \"\\n        },\\n        {\\n          \"index\": 2,\\n          \"word\": \"is\",\\n          \"originalText\": \"is\",\\n          \"lemma\": \"be\",\\n          \"characterOffsetBegin\": 18,\\n          \"characterOffsetEnd\": 20,\\n          \"pos\": \"VBZ\",\\n          \"ner\": \"O\",\\n          \"speaker\": \"PER0\",\\n          \"before\": \" \",\\n          \"after\": \" \"\\n        },\\n        {\\n          \"index\": 3,\\n          \"word\": \"very\",\\n          \"originalText\": \"very\",\\n          \"lemma\": \"very\",\\n          \"characterOffsetBegin\": 21,\\n          \"characterOffsetEnd\": 25,\\n          \"pos\": \"RB\",\\n          \"ner\": \"O\",\\n          \"speaker\": \"PER0\",\\n          \"before\": \" \",\\n          \"after\": \" \"\\n        },\\n        {\\n          \"index\": 4,\\n          \"word\": \"big\",\\n          \"originalText\": \"big\",\\n          \"lemma\": \"big\",\\n          \"characterOffsetBegin\": 26,\\n          \"characterOffsetEnd\": 29,\\n          \"pos\": \"JJ\",\\n          \"ner\": \"O\",\\n          \"speaker\": \"PER0\",\\n          \"before\": \" \",\\n          \"after\": \"\"\\n        },\\n        {\\n          \"index\": 5,\\n          \"word\": \".\",\\n          \"originalText\": \".\",\\n          \"lemma\": \".\",\\n          \"characterOffsetBegin\": 29,\\n          \"characterOffsetEnd\": 30,\\n          \"pos\": \".\",\\n          \"ner\": \"O\",\\n          \"speaker\": \"PER0\",\\n          \"before\": \"\",\\n          \"after\": \"\"\\n        }\\n      ]\\n    }\\n  ],\\n  \"corefs\": {\\n    \"2\": [\\n      {\\n        \"id\": 0,\\n        \"text\": \"This\",\\n        \"type\": \"NOMINAL\",\\n        \"number\": \"UNKNOWN\",\\n        \"gender\": \"NEUTRAL\",\\n        \"animacy\": \"UNKNOWN\",\\n        \"startIndex\": 1,\\n        \"endIndex\": 2,\\n        \"headIndex\": 1,\\n        \"sentNum\": 1,\\n        \"position\": [\\n          1,\\n          1\\n        ],\\n        \"isRepresentativeMention\": true\\n      },\\n      {\\n        \"id\": 2,\\n        \"text\": \"It\",\\n        \"type\": \"PRONOMINAL\",\\n        \"number\": \"SINGULAR\",\\n        \"gender\": \"NEUTRAL\",\\n        \"animacy\": \"INANIMATE\",\\n        \"startIndex\": 1,\\n        \"endIndex\": 2,\\n        \"headIndex\": 1,\\n        \"sentNum\": 2,\\n        \"position\": [\\n          2,\\n          1\\n        ],\\n        \"isRepresentativeMention\": false\\n      }\\n    ]\\n  }\\n}\\n'"
      ]
     },
     "execution_count": 10,
     "metadata": {},
     "output_type": "execute_result"
    }
   ],
   "source": [
    "nlp = StanfordCoreNLP('../../stanford_corenlp_library')\n",
    "props={'annotators': 'coref','pipelineLanguage':'en','outputFormat':'text'}\n",
    "results = nlp.annotate('This is a cat. It is very big.')\n",
    "nlp.close()\n",
    "results"
   ]
  },
  {
   "cell_type": "markdown",
   "metadata": {},
   "source": [
    "# Evaluation\n",
    "\n",
    "* It runs VERY slowly, it timed before it could even finish running on the newspaper article, it takes a few minutes to even run on 1 sentence...\n",
    "* The Stanford NLP server also requires a lot of memory to run, a few gigs in practice.\n",
    "* I think that this library might be too impractical to run in practice."
   ]
  },
  {
   "cell_type": "code",
   "execution_count": null,
   "metadata": {},
   "outputs": [],
   "source": []
  }
 ],
 "metadata": {
  "kernelspec": {
   "display_name": "Python 3",
   "language": "python",
   "name": "python3"
  },
  "language_info": {
   "codemirror_mode": {
    "name": "ipython",
    "version": 3
   },
   "file_extension": ".py",
   "mimetype": "text/x-python",
   "name": "python",
   "nbconvert_exporter": "python",
   "pygments_lexer": "ipython3",
   "version": "3.6.8"
  }
 },
 "nbformat": 4,
 "nbformat_minor": 4
}
