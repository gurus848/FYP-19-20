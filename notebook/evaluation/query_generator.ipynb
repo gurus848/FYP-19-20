{
 "cells": [
  {
   "cell_type": "code",
   "execution_count": 2,
   "metadata": {},
   "outputs": [
    {
     "name": "stderr",
     "output_type": "stream",
     "text": [
      "I0314 21:48:59.588954 139829832599360 file_utils.py:41] PyTorch version 1.4.0+cu92 available.\n",
      "W0314 21:49:00.309663 139829832599360 deprecation_wrapper.py:119] From ../../models/coref/bert/tokenization.py:125: The name tf.gfile.GFile is deprecated. Please use tf.io.gfile.GFile instead.\n",
      "\n"
     ]
    },
    {
     "name": "stdout",
     "output_type": "stream",
     "text": [
      "======== loading BERT Tokenizer ========\n",
      "======== Initialising coref environment ========\n"
     ]
    },
    {
     "name": "stderr",
     "output_type": "stream",
     "text": [
      "W0314 21:49:00.571201 139829832599360 deprecation_wrapper.py:119] From ../../models/coref/coref_ops.py:12: The name tf.NotDifferentiable is deprecated. Please use tf.no_gradient instead.\n",
      "\n",
      "/home/akvallapuram/anaconda3/lib/python3.6/site-packages/sklearn/utils/linear_assignment_.py:22: FutureWarning: The linear_assignment_ module is deprecated in 0.21 and will be removed from 0.23. Use scipy.optimize.linear_sum_assignment instead.\n",
      "  FutureWarning)\n",
      "W0314 21:49:00.584055 139829832599360 deprecation_wrapper.py:119] From ../../models/coref/bert/optimization.py:87: The name tf.train.Optimizer is deprecated. Please use tf.compat.v1.train.Optimizer instead.\n",
      "\n",
      "I0314 21:49:01.938952 139829832599360 utils.py:129] Note: NumExpr detected 32 cores but \"NUMEXPR_MAX_THREADS\" not set, so enforcing safe limit of 8.\n",
      "I0314 21:49:01.940462 139829832599360 utils.py:141] NumExpr defaulting to 8 threads.\n",
      "W0314 21:49:05.351306 139829832599360 lazy_loader.py:50] \n",
      "The TensorFlow contrib module will not be included in TensorFlow 2.0.\n",
      "For more information, please see:\n",
      "  * https://github.com/tensorflow/community/blob/master/rfcs/20180907-contrib-sunset.md\n",
      "  * https://github.com/tensorflow/addons\n",
      "  * https://github.com/tensorflow/io (for I/O related ops)\n",
      "If you depend on functionality not listed there, please file an issue.\n",
      "\n"
     ]
    },
    {
     "name": "stdout",
     "output_type": "stream",
     "text": [
      "======== loading Flair NER model ========\n",
      "2020-03-14 21:49:05,356 loading file /home/akvallapuram/.flair/models/en-ner-conll03-v0.4.pt\n",
      "======== loading Spacy Dependency Parser ===========\n",
      "===========================\n",
      "=== Initialisation Done ===\n",
      "===========================\n"
     ]
    }
   ],
   "source": [
    "import sys\n",
    "sys.path.append(\"../../\")\n",
    "\n",
    "from src.modelling import ner_coref"
   ]
  }
 ],
 "metadata": {
  "kernelspec": {
   "display_name": "Python 3",
   "language": "python",
   "name": "python3"
  },
  "language_info": {
   "codemirror_mode": {
    "name": "ipython",
    "version": 3
   },
   "file_extension": ".py",
   "mimetype": "text/x-python",
   "name": "python",
   "nbconvert_exporter": "python",
   "pygments_lexer": "ipython3",
   "version": "3.6.9"
  }
 },
 "nbformat": 4,
 "nbformat_minor": 4
}
